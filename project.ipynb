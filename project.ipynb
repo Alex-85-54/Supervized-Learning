{
 "cells": [
  {
   "cell_type": "markdown",
   "metadata": {},
   "source": [
    "Привет! меня зовут Люман Аблаев. Сегодня я проверю твой проект.\n",
    "<br> Дальнейшее общение будет происходить на \"ты\" если это не вызывает никаких проблем.\n",
    "<br> Желательно реагировать на каждый мой комментарий ('исправил', 'не понятно как исправить ошибку', ...)\n",
    "<br> Пожалуйста, не удаляй комментарии ревьюера, так как они повышают качество повторного ревью.\n",
    "\n",
    "Комментарии будут в <font color='green'>зеленой</font>, <font color='blue'>синей</font> или <font color='red'>красной</font> рамках:\n",
    "\n",
    "<div class=\"alert alert-block alert-success\">\n",
    "<b>Успех:</b> Если все сделано отлично\n",
    "</div>\n",
    "\n",
    "<div class=\"alert alert-block alert-info\">\n",
    "<b>Совет: </b> Если можно немного улучшить\n",
    "</div>\n",
    "\n",
    "<div class=\"alert alert-block alert-danger\">\n",
    "<b>Ошибка:</b> Если требуются исправления. Работа не может быть принята с красными комментариями.\n",
    "</div>\n",
    "\n",
    "\n",
    "<font color='orange' style='font-size:24px; font-weight:bold'>Общее впечатление</font>\n",
    "* Спасибо за то, что прислал такую качественную работу, было интересно ее проверять.\n",
    "* Радует, что анализу данных и их предобработке данных уделено должное внимание и каждое действие подкрелепно аргументами.\n",
    "- Я оставил некоторые советы, надеюсь они будут полезными или интересными, обрати на них внимание.\n",
    "- Ты успешно справился с задачей дисбаланса классов, поздравляю!\n",
    "* Отправляю проект назад, чтобы ты доработал проект(по желанию) или задал вопросы, если они у тебя есть. Если их нет, то можешь просто отправить проект в таком же виде еще раз и я его зачту."
   ]
  },
  {
   "cell_type": "markdown",
   "metadata": {},
   "source": [
    "**Обращение к ревьюеру**: Привет! В пункте 6.1 \"Подбор оптимальных гиперпараметров\" закоментировано обучение модели, так как оно длится 22 минуты. Соответственно этот блок выдаст ошибку. Это для того, чтобы не тратить твое время) Дальше модели обучаются на подобраных гиперпараметрах."
   ]
  },
  {
   "cell_type": "markdown",
   "metadata": {},
   "source": [
    "<div class=\"alert alert-block alert-success\">\n",
    "<b>Успех:</b> Принято, приятно =)\n",
    "</div>"
   ]
  },
  {
   "cell_type": "markdown",
   "metadata": {},
   "source": [
    "# Прогнозирование оттока клиентов для \"Бета-Банка\""
   ]
  },
  {
   "cell_type": "markdown",
   "metadata": {
    "toc": true
   },
   "source": [
    "<h1>Содержание<span class=\"tocSkip\"></span></h1>\n",
    "<div class=\"toc\"><ul class=\"toc-item\"><li><span><a href=\"#Подготовка-данных\" data-toc-modified-id=\"Подготовка-данных-1\"><span class=\"toc-item-num\">1&nbsp;&nbsp;</span>Подготовка данных</a></span><ul class=\"toc-item\"><li><span><a href=\"#Загружаем-данные-и-библиотеки:\" data-toc-modified-id=\"Загружаем-данные-и-библиотеки:-1.1\"><span class=\"toc-item-num\">1.1&nbsp;&nbsp;</span>Загружаем данные и библиотеки:</a></span></li><li><span><a href=\"#Предобработка-данных:\" data-toc-modified-id=\"Предобработка-данных:-1.2\"><span class=\"toc-item-num\">1.2&nbsp;&nbsp;</span>Предобработка данных:</a></span></li></ul></li><li><span><a href=\"#Исследование-задачи\" data-toc-modified-id=\"Исследование-задачи-2\"><span class=\"toc-item-num\">2&nbsp;&nbsp;</span>Исследование задачи</a></span><ul class=\"toc-item\"><li><span><a href=\"#Удаление-невлияющих-признаков:\" data-toc-modified-id=\"Удаление-невлияющих-признаков:-2.1\"><span class=\"toc-item-num\">2.1&nbsp;&nbsp;</span>Удаление невлияющих признаков:</a></span></li><li><span><a href=\"#Кодирование-категориальных-признаков:\" data-toc-modified-id=\"Кодирование-категориальных-признаков:-2.2\"><span class=\"toc-item-num\">2.2&nbsp;&nbsp;</span>Кодирование категориальных признаков:</a></span></li><li><span><a href=\"#Преобразование-дробных-значений-в-целочисленные:\" data-toc-modified-id=\"Преобразование-дробных-значений-в-целочисленные:-2.3\"><span class=\"toc-item-num\">2.3&nbsp;&nbsp;</span>Преобразование дробных значений в целочисленные:</a></span></li><li><span><a href=\"#Разбиение-данных-на-выборки:\" data-toc-modified-id=\"Разбиение-данных-на-выборки:-2.4\"><span class=\"toc-item-num\">2.4&nbsp;&nbsp;</span>Разбиение данных на выборки:</a></span></li><li><span><a href=\"#Определение-целевого-и-обучающих-признаков:\" data-toc-modified-id=\"Определение-целевого-и-обучающих-признаков:-2.5\"><span class=\"toc-item-num\">2.5&nbsp;&nbsp;</span>Определение целевого и обучающих признаков:</a></span></li><li><span><a href=\"#Масштабирование-признаков:\" data-toc-modified-id=\"Масштабирование-признаков:-2.6\"><span class=\"toc-item-num\">2.6&nbsp;&nbsp;</span>Масштабирование признаков:</a></span></li><li><span><a href=\"#Оценка-баланса-классов:\" data-toc-modified-id=\"Оценка-баланса-классов:-2.7\"><span class=\"toc-item-num\">2.7&nbsp;&nbsp;</span>Оценка баланса классов:</a></span></li></ul></li><li><span><a href=\"#Исследование-работы-моделей:\" data-toc-modified-id=\"Исследование-работы-моделей:-3\"><span class=\"toc-item-num\">3&nbsp;&nbsp;</span>Исследование работы моделей:</a></span><ul class=\"toc-item\"><li><span><a href=\"#Выбор-наулучшей-модели-для-испытаний:\" data-toc-modified-id=\"Выбор-наулучшей-модели-для-испытаний:-3.1\"><span class=\"toc-item-num\">3.1&nbsp;&nbsp;</span>Выбор наулучшей модели для испытаний:</a></span></li></ul></li><li><span><a href=\"#Борьба-с-дисбалансом\" data-toc-modified-id=\"Борьба-с-дисбалансом-4\"><span class=\"toc-item-num\">4&nbsp;&nbsp;</span>Борьба с дисбалансом</a></span><ul class=\"toc-item\"><li><span><a href=\"#С-помощью-гиперпараметра-модели:\" data-toc-modified-id=\"С-помощью-гиперпараметра-модели:-4.1\"><span class=\"toc-item-num\">4.1&nbsp;&nbsp;</span>С помощью гиперпараметра модели:</a></span><ul class=\"toc-item\"><li><span><a href=\"#Модель-случайный-лес\" data-toc-modified-id=\"Модель-случайный-лес-4.1.1\"><span class=\"toc-item-num\">4.1.1&nbsp;&nbsp;</span>Модель случайный лес</a></span></li><li><span><a href=\"#Модель-Логистическая-регрессия:\" data-toc-modified-id=\"Модель-Логистическая-регрессия:-4.1.2\"><span class=\"toc-item-num\">4.1.2&nbsp;&nbsp;</span>Модель Логистическая регрессия:</a></span></li></ul></li><li><span><a href=\"#Техника-Upsamling:\" data-toc-modified-id=\"Техника-Upsamling:-4.2\"><span class=\"toc-item-num\">4.2&nbsp;&nbsp;</span>Техника Upsamling:</a></span><ul class=\"toc-item\"><li><span><a href=\"#Модель-случайный-лес\" data-toc-modified-id=\"Модель-случайный-лес-4.2.1\"><span class=\"toc-item-num\">4.2.1&nbsp;&nbsp;</span>Модель случайный лес</a></span></li><li><span><a href=\"#Модель-Логистическая-регрессия\" data-toc-modified-id=\"Модель-Логистическая-регрессия-4.2.2\"><span class=\"toc-item-num\">4.2.2&nbsp;&nbsp;</span>Модель Логистическая регрессия</a></span></li></ul></li><li><span><a href=\"#Техника-Downsamling:\" data-toc-modified-id=\"Техника-Downsamling:-4.3\"><span class=\"toc-item-num\">4.3&nbsp;&nbsp;</span>Техника Downsamling:</a></span><ul class=\"toc-item\"><li><span><a href=\"#Модель-Случайный-лес:\" data-toc-modified-id=\"Модель-Случайный-лес:-4.3.1\"><span class=\"toc-item-num\">4.3.1&nbsp;&nbsp;</span>Модель Случайный лес:</a></span></li><li><span><a href=\"#Модель-Логистическая-регрессия\" data-toc-modified-id=\"Модель-Логистическая-регрессия-4.3.2\"><span class=\"toc-item-num\">4.3.2&nbsp;&nbsp;</span>Модель Логистическая регрессия</a></span></li></ul></li></ul></li><li><span><a href=\"#Изменение-порога:\" data-toc-modified-id=\"Изменение-порога:-5\"><span class=\"toc-item-num\">5&nbsp;&nbsp;</span>Изменение порога:</a></span></li><li><span><a href=\"#Улучшение-работы-модели:\" data-toc-modified-id=\"Улучшение-работы-модели:-6\"><span class=\"toc-item-num\">6&nbsp;&nbsp;</span>Улучшение работы модели:</a></span><ul class=\"toc-item\"><li><span><a href=\"#Подбор-оптимальных-гиперпараметров:\" data-toc-modified-id=\"Подбор-оптимальных-гиперпараметров:-6.1\"><span class=\"toc-item-num\">6.1&nbsp;&nbsp;</span>Подбор оптимальных гиперпараметров:</a></span><ul class=\"toc-item\"><li><span><a href=\"#Модель-случайный-лес:\" data-toc-modified-id=\"Модель-случайный-лес:-6.1.1\"><span class=\"toc-item-num\">6.1.1&nbsp;&nbsp;</span>Модель случайный лес:</a></span></li><li><span><a href=\"#Модель-Логистическая-регрессия:\" data-toc-modified-id=\"Модель-Логистическая-регрессия:-6.1.2\"><span class=\"toc-item-num\">6.1.2&nbsp;&nbsp;</span>Модель Логистическая регрессия:</a></span></li></ul></li><li><span><a href=\"#Обучение-на-масштабированных-признаках:\" data-toc-modified-id=\"Обучение-на-масштабированных-признаках:-6.2\"><span class=\"toc-item-num\">6.2&nbsp;&nbsp;</span>Обучение на масштабированных признаках:</a></span><ul class=\"toc-item\"><li><span><a href=\"#Модель-Случайный-лес:\" data-toc-modified-id=\"Модель-Случайный-лес:-6.2.1\"><span class=\"toc-item-num\">6.2.1&nbsp;&nbsp;</span>Модель Случайный лес:</a></span></li><li><span><a href=\"#Модель-Логистическая-регрессия:\" data-toc-modified-id=\"Модель-Логистическая-регрессия:-6.2.2\"><span class=\"toc-item-num\">6.2.2&nbsp;&nbsp;</span>Модель Логистическая регрессия:</a></span></li></ul></li></ul></li><li><span><a href=\"#Построение-графиков:\" data-toc-modified-id=\"Построение-графиков:-7\"><span class=\"toc-item-num\">7&nbsp;&nbsp;</span>Построение графиков:</a></span><ul class=\"toc-item\"><li><span><a href=\"#Построение-PR-кривой:\" data-toc-modified-id=\"Построение-PR-кривой:-7.1\"><span class=\"toc-item-num\">7.1&nbsp;&nbsp;</span>Построение PR-кривой:</a></span></li><li><span><a href=\"#Построение-ROC-кривой:\" data-toc-modified-id=\"Построение-ROC-кривой:-7.2\"><span class=\"toc-item-num\">7.2&nbsp;&nbsp;</span>Построение ROC-кривой:</a></span></li></ul></li><li><span><a href=\"#Тестирование-модели\" data-toc-modified-id=\"Тестирование-модели-8\"><span class=\"toc-item-num\">8&nbsp;&nbsp;</span>Тестирование модели</a></span><ul class=\"toc-item\"><li><ul class=\"toc-item\"><li><span><a href=\"#Модель-случайный-лес:\" data-toc-modified-id=\"Модель-случайный-лес:-8.0.1\"><span class=\"toc-item-num\">8.0.1&nbsp;&nbsp;</span>Модель случайный лес:</a></span></li><li><span><a href=\"#Модель-Логистическая-регрессия:\" data-toc-modified-id=\"Модель-Логистическая-регрессия:-8.0.2\"><span class=\"toc-item-num\">8.0.2&nbsp;&nbsp;</span>Модель Логистическая регрессия:</a></span></li><li><span><a href=\"#Добавление-гипрепараметра-class_weight-=-'balanced'-в-модель-Случайный-лес:\" data-toc-modified-id=\"Добавление-гипрепараметра-class_weight-=-'balanced'-в-модель-Случайный-лес:-8.0.3\"><span class=\"toc-item-num\">8.0.3&nbsp;&nbsp;</span>Добавление гипрепараметра class_weight = 'balanced' в модель Случайный лес:</a></span></li></ul></li></ul></li><li><span><a href=\"#Чек-лист-готовности-проекта\" data-toc-modified-id=\"Чек-лист-готовности-проекта-9\"><span class=\"toc-item-num\">9&nbsp;&nbsp;</span>Чек-лист готовности проекта</a></span></li></ul></div>"
   ]
  },
  {
   "cell_type": "markdown",
   "metadata": {},
   "source": [
    "# Отток клиентов"
   ]
  },
  {
   "cell_type": "markdown",
   "metadata": {},
   "source": [
    "Банковские маркетологи посчитали: сохранять текущих клиентов дешевле, чем привлекать новых.\n",
    "\n",
    "Задача: спрогнозировать, уйдёт клиент из банка в ближайшее время или нет. Нам предоставлены исторические данные о поведении клиентов и расторжении договоров с банком. \n",
    "\n",
    "Построим модель с предельно большим значением *F1*-меры, минимальное значение - 0.6. Проверим *F1*-меру на тестовой выборке.\n",
    "\n",
    "Дополнительно измерить *AUC-ROC*, сравнивайте её значение с *F1*-мерой.\n",
    "\n",
    "Источник данных: [https://www.kaggle.com/barelydedicated/bank-customer-churn-modeling](https://www.kaggle.com/barelydedicated/bank-customer-churn-modeling)"
   ]
  },
  {
   "cell_type": "markdown",
   "metadata": {},
   "source": [
    "## Подготовка данных"
   ]
  },
  {
   "cell_type": "markdown",
   "metadata": {},
   "source": [
    "<div class=\"alert alert-block alert-success\">\n",
    "<b>Успех:</b> Спасибо за подробное описание проекта\n",
    "</div>"
   ]
  },
  {
   "cell_type": "markdown",
   "metadata": {},
   "source": [
    "### Загружаем данные и библиотеки:"
   ]
  },
  {
   "cell_type": "markdown",
   "metadata": {},
   "source": [
    "Импортируем библиотеки:"
   ]
  },
  {
   "cell_type": "code",
   "execution_count": 123,
   "metadata": {},
   "outputs": [],
   "source": [
    "import pandas as pd\n",
    "import numpy as np\n",
    "from sklearn.model_selection import train_test_split \n",
    "from sklearn.preprocessing import StandardScaler\n",
    "from sklearn.tree import DecisionTreeClassifier \n",
    "from sklearn.ensemble import RandomForestClassifier \n",
    "from sklearn.linear_model import LogisticRegression \n",
    "from itertools import product\n",
    "from sklearn.dummy import DummyClassifier\n",
    "from sklearn.metrics import accuracy_score\n",
    "from sklearn.metrics import confusion_matrix\n",
    "from sklearn.metrics import recall_score\n",
    "from sklearn.metrics import precision_score\n",
    "from sklearn.metrics import f1_score\n",
    "from sklearn.utils import shuffle\n",
    "from sklearn.metrics import precision_recall_curve\n",
    "import matplotlib.pyplot as plt\n",
    "from sklearn.metrics import roc_curve\n",
    "from sklearn.metrics import roc_auc_score"
   ]
  },
  {
   "cell_type": "markdown",
   "metadata": {},
   "source": [
    "<div class=\"alert alert-block alert-success\">\n",
    "<b>Успех:</b> импорты на месте\n",
    "</div>"
   ]
  },
  {
   "cell_type": "markdown",
   "metadata": {},
   "source": [
    "Загружаем данные:\n"
   ]
  },
  {
   "cell_type": "code",
   "execution_count": 124,
   "metadata": {
    "scrolled": true
   },
   "outputs": [
    {
     "data": {
      "text/html": [
       "<div>\n",
       "<style scoped>\n",
       "    .dataframe tbody tr th:only-of-type {\n",
       "        vertical-align: middle;\n",
       "    }\n",
       "\n",
       "    .dataframe tbody tr th {\n",
       "        vertical-align: top;\n",
       "    }\n",
       "\n",
       "    .dataframe thead th {\n",
       "        text-align: right;\n",
       "    }\n",
       "</style>\n",
       "<table border=\"1\" class=\"dataframe\">\n",
       "  <thead>\n",
       "    <tr style=\"text-align: right;\">\n",
       "      <th></th>\n",
       "      <th>RowNumber</th>\n",
       "      <th>CustomerId</th>\n",
       "      <th>Surname</th>\n",
       "      <th>CreditScore</th>\n",
       "      <th>Geography</th>\n",
       "      <th>Gender</th>\n",
       "      <th>Age</th>\n",
       "      <th>Tenure</th>\n",
       "      <th>Balance</th>\n",
       "      <th>NumOfProducts</th>\n",
       "      <th>HasCrCard</th>\n",
       "      <th>IsActiveMember</th>\n",
       "      <th>EstimatedSalary</th>\n",
       "      <th>Exited</th>\n",
       "    </tr>\n",
       "  </thead>\n",
       "  <tbody>\n",
       "    <tr>\n",
       "      <td>0</td>\n",
       "      <td>1</td>\n",
       "      <td>15634602</td>\n",
       "      <td>Hargrave</td>\n",
       "      <td>619</td>\n",
       "      <td>France</td>\n",
       "      <td>Female</td>\n",
       "      <td>42</td>\n",
       "      <td>2.0</td>\n",
       "      <td>0.00</td>\n",
       "      <td>1</td>\n",
       "      <td>1</td>\n",
       "      <td>1</td>\n",
       "      <td>101348.88</td>\n",
       "      <td>1</td>\n",
       "    </tr>\n",
       "    <tr>\n",
       "      <td>1</td>\n",
       "      <td>2</td>\n",
       "      <td>15647311</td>\n",
       "      <td>Hill</td>\n",
       "      <td>608</td>\n",
       "      <td>Spain</td>\n",
       "      <td>Female</td>\n",
       "      <td>41</td>\n",
       "      <td>1.0</td>\n",
       "      <td>83807.86</td>\n",
       "      <td>1</td>\n",
       "      <td>0</td>\n",
       "      <td>1</td>\n",
       "      <td>112542.58</td>\n",
       "      <td>0</td>\n",
       "    </tr>\n",
       "    <tr>\n",
       "      <td>2</td>\n",
       "      <td>3</td>\n",
       "      <td>15619304</td>\n",
       "      <td>Onio</td>\n",
       "      <td>502</td>\n",
       "      <td>France</td>\n",
       "      <td>Female</td>\n",
       "      <td>42</td>\n",
       "      <td>8.0</td>\n",
       "      <td>159660.80</td>\n",
       "      <td>3</td>\n",
       "      <td>1</td>\n",
       "      <td>0</td>\n",
       "      <td>113931.57</td>\n",
       "      <td>1</td>\n",
       "    </tr>\n",
       "    <tr>\n",
       "      <td>3</td>\n",
       "      <td>4</td>\n",
       "      <td>15701354</td>\n",
       "      <td>Boni</td>\n",
       "      <td>699</td>\n",
       "      <td>France</td>\n",
       "      <td>Female</td>\n",
       "      <td>39</td>\n",
       "      <td>1.0</td>\n",
       "      <td>0.00</td>\n",
       "      <td>2</td>\n",
       "      <td>0</td>\n",
       "      <td>0</td>\n",
       "      <td>93826.63</td>\n",
       "      <td>0</td>\n",
       "    </tr>\n",
       "    <tr>\n",
       "      <td>4</td>\n",
       "      <td>5</td>\n",
       "      <td>15737888</td>\n",
       "      <td>Mitchell</td>\n",
       "      <td>850</td>\n",
       "      <td>Spain</td>\n",
       "      <td>Female</td>\n",
       "      <td>43</td>\n",
       "      <td>2.0</td>\n",
       "      <td>125510.82</td>\n",
       "      <td>1</td>\n",
       "      <td>1</td>\n",
       "      <td>1</td>\n",
       "      <td>79084.10</td>\n",
       "      <td>0</td>\n",
       "    </tr>\n",
       "  </tbody>\n",
       "</table>\n",
       "</div>"
      ],
      "text/plain": [
       "   RowNumber  CustomerId   Surname  CreditScore Geography  Gender  Age  \\\n",
       "0          1    15634602  Hargrave          619    France  Female   42   \n",
       "1          2    15647311      Hill          608     Spain  Female   41   \n",
       "2          3    15619304      Onio          502    France  Female   42   \n",
       "3          4    15701354      Boni          699    France  Female   39   \n",
       "4          5    15737888  Mitchell          850     Spain  Female   43   \n",
       "\n",
       "   Tenure    Balance  NumOfProducts  HasCrCard  IsActiveMember  \\\n",
       "0     2.0       0.00              1          1               1   \n",
       "1     1.0   83807.86              1          0               1   \n",
       "2     8.0  159660.80              3          1               0   \n",
       "3     1.0       0.00              2          0               0   \n",
       "4     2.0  125510.82              1          1               1   \n",
       "\n",
       "   EstimatedSalary  Exited  \n",
       "0        101348.88       1  \n",
       "1        112542.58       0  \n",
       "2        113931.57       1  \n",
       "3         93826.63       0  \n",
       "4         79084.10       0  "
      ]
     },
     "execution_count": 124,
     "metadata": {},
     "output_type": "execute_result"
    }
   ],
   "source": [
    "df = pd.read_csv('/datasets/Churn.csv')\n",
    "df.head(5)"
   ]
  },
  {
   "cell_type": "markdown",
   "metadata": {},
   "source": [
    "**Вывод:** данные загружены, читабельны. Названия колонок корректны."
   ]
  },
  {
   "cell_type": "markdown",
   "metadata": {},
   "source": [
    "### Предобработка данных:"
   ]
  },
  {
   "cell_type": "markdown",
   "metadata": {},
   "source": [
    "Посмотрим общую информацию о данных:"
   ]
  },
  {
   "cell_type": "code",
   "execution_count": 125,
   "metadata": {
    "scrolled": false
   },
   "outputs": [
    {
     "name": "stdout",
     "output_type": "stream",
     "text": [
      "<class 'pandas.core.frame.DataFrame'>\n",
      "RangeIndex: 10000 entries, 0 to 9999\n",
      "Data columns (total 14 columns):\n",
      "RowNumber          10000 non-null int64\n",
      "CustomerId         10000 non-null int64\n",
      "Surname            10000 non-null object\n",
      "CreditScore        10000 non-null int64\n",
      "Geography          10000 non-null object\n",
      "Gender             10000 non-null object\n",
      "Age                10000 non-null int64\n",
      "Tenure             9091 non-null float64\n",
      "Balance            10000 non-null float64\n",
      "NumOfProducts      10000 non-null int64\n",
      "HasCrCard          10000 non-null int64\n",
      "IsActiveMember     10000 non-null int64\n",
      "EstimatedSalary    10000 non-null float64\n",
      "Exited             10000 non-null int64\n",
      "dtypes: float64(3), int64(8), object(3)\n",
      "memory usage: 1.1+ MB\n"
     ]
    }
   ],
   "source": [
    "df.info()"
   ]
  },
  {
   "cell_type": "markdown",
   "metadata": {},
   "source": [
    "**Вывод**: дата-сет содержит 10000 строк и 14 колонок:"
   ]
  },
  {
   "cell_type": "markdown",
   "metadata": {},
   "source": [
    "+ **RowNumber** — индекс строки в данных\n",
    "+ **CustomerId** — уникальный идентификатор клиента\n",
    "+ **Surname** — фамилия\n",
    "+ **CreditScore** — кредитный рейтинг\n",
    "+ **Geography** — страна проживания\n",
    "+ **Gender** — пол\n",
    "+ **Age** — возраст\n",
    "+ **Tenure** — сколько лет человек является клиентом банка\n",
    "+ **Balance** — баланс на счёте\n",
    "+ **NumOfProducts** — количество продуктов банка, используемых клиентом\n",
    "+ **HasCrCard** — наличие кредитной карты\n",
    "+ **IsActiveMember** — активность клиента\n",
    "+ **EstimatedSalary** — предполагаемая зарплата\n",
    "+ **Exited** — факт ухода клиента"
   ]
  },
  {
   "cell_type": "markdown",
   "metadata": {},
   "source": [
    "**Вывод:** мы видим, что в колонке *Tenure* имеются пропуски - около 10%. Посмотрим внимательнее на эту колонку. Может быть это новые клиенты, с нулевой продолжительностью сотрудничества с банком."
   ]
  },
  {
   "cell_type": "code",
   "execution_count": 126,
   "metadata": {
    "scrolled": true
   },
   "outputs": [
    {
     "data": {
      "text/plain": [
       "1.0     952\n",
       "2.0     950\n",
       "8.0     933\n",
       "3.0     928\n",
       "5.0     927\n",
       "7.0     925\n",
       "NaN     909\n",
       "4.0     885\n",
       "9.0     882\n",
       "6.0     881\n",
       "10.0    446\n",
       "0.0     382\n",
       "Name: Tenure, dtype: int64"
      ]
     },
     "execution_count": 126,
     "metadata": {},
     "output_type": "execute_result"
    }
   ],
   "source": [
    "df['Tenure'].value_counts(dropna = False)"
   ]
  },
  {
   "cell_type": "markdown",
   "metadata": {},
   "source": [
    "**Вывод:** Предположение, что пропущеные значения - это новые клиенты: не подтвердилось. В колонке имеются значения 0 - это и есть вновь зарегестрированные клиенты. "
   ]
  },
  {
   "cell_type": "markdown",
   "metadata": {},
   "source": [
    "Посмотрим строки с пропусками в колоке *Tenure*, может быть найдем что-то особенной в этих клиентах:"
   ]
  },
  {
   "cell_type": "code",
   "execution_count": 127,
   "metadata": {
    "scrolled": true
   },
   "outputs": [
    {
     "data": {
      "text/html": [
       "<div>\n",
       "<style scoped>\n",
       "    .dataframe tbody tr th:only-of-type {\n",
       "        vertical-align: middle;\n",
       "    }\n",
       "\n",
       "    .dataframe tbody tr th {\n",
       "        vertical-align: top;\n",
       "    }\n",
       "\n",
       "    .dataframe thead th {\n",
       "        text-align: right;\n",
       "    }\n",
       "</style>\n",
       "<table border=\"1\" class=\"dataframe\">\n",
       "  <thead>\n",
       "    <tr style=\"text-align: right;\">\n",
       "      <th></th>\n",
       "      <th>RowNumber</th>\n",
       "      <th>CustomerId</th>\n",
       "      <th>Surname</th>\n",
       "      <th>CreditScore</th>\n",
       "      <th>Geography</th>\n",
       "      <th>Gender</th>\n",
       "      <th>Age</th>\n",
       "      <th>Tenure</th>\n",
       "      <th>Balance</th>\n",
       "      <th>NumOfProducts</th>\n",
       "      <th>HasCrCard</th>\n",
       "      <th>IsActiveMember</th>\n",
       "      <th>EstimatedSalary</th>\n",
       "      <th>Exited</th>\n",
       "    </tr>\n",
       "  </thead>\n",
       "  <tbody>\n",
       "    <tr>\n",
       "      <td>30</td>\n",
       "      <td>31</td>\n",
       "      <td>15589475</td>\n",
       "      <td>Azikiwe</td>\n",
       "      <td>591</td>\n",
       "      <td>Spain</td>\n",
       "      <td>Female</td>\n",
       "      <td>39</td>\n",
       "      <td>NaN</td>\n",
       "      <td>0.00</td>\n",
       "      <td>3</td>\n",
       "      <td>1</td>\n",
       "      <td>0</td>\n",
       "      <td>140469.38</td>\n",
       "      <td>1</td>\n",
       "    </tr>\n",
       "    <tr>\n",
       "      <td>48</td>\n",
       "      <td>49</td>\n",
       "      <td>15766205</td>\n",
       "      <td>Yin</td>\n",
       "      <td>550</td>\n",
       "      <td>Germany</td>\n",
       "      <td>Male</td>\n",
       "      <td>38</td>\n",
       "      <td>NaN</td>\n",
       "      <td>103391.38</td>\n",
       "      <td>1</td>\n",
       "      <td>0</td>\n",
       "      <td>1</td>\n",
       "      <td>90878.13</td>\n",
       "      <td>0</td>\n",
       "    </tr>\n",
       "    <tr>\n",
       "      <td>51</td>\n",
       "      <td>52</td>\n",
       "      <td>15768193</td>\n",
       "      <td>Trevisani</td>\n",
       "      <td>585</td>\n",
       "      <td>Germany</td>\n",
       "      <td>Male</td>\n",
       "      <td>36</td>\n",
       "      <td>NaN</td>\n",
       "      <td>146050.97</td>\n",
       "      <td>2</td>\n",
       "      <td>0</td>\n",
       "      <td>0</td>\n",
       "      <td>86424.57</td>\n",
       "      <td>0</td>\n",
       "    </tr>\n",
       "    <tr>\n",
       "      <td>53</td>\n",
       "      <td>54</td>\n",
       "      <td>15702298</td>\n",
       "      <td>Parkhill</td>\n",
       "      <td>655</td>\n",
       "      <td>Germany</td>\n",
       "      <td>Male</td>\n",
       "      <td>41</td>\n",
       "      <td>NaN</td>\n",
       "      <td>125561.97</td>\n",
       "      <td>1</td>\n",
       "      <td>0</td>\n",
       "      <td>0</td>\n",
       "      <td>164040.94</td>\n",
       "      <td>1</td>\n",
       "    </tr>\n",
       "    <tr>\n",
       "      <td>60</td>\n",
       "      <td>61</td>\n",
       "      <td>15651280</td>\n",
       "      <td>Hunter</td>\n",
       "      <td>742</td>\n",
       "      <td>Germany</td>\n",
       "      <td>Male</td>\n",
       "      <td>35</td>\n",
       "      <td>NaN</td>\n",
       "      <td>136857.00</td>\n",
       "      <td>1</td>\n",
       "      <td>0</td>\n",
       "      <td>0</td>\n",
       "      <td>84509.57</td>\n",
       "      <td>0</td>\n",
       "    </tr>\n",
       "    <tr>\n",
       "      <td>...</td>\n",
       "      <td>...</td>\n",
       "      <td>...</td>\n",
       "      <td>...</td>\n",
       "      <td>...</td>\n",
       "      <td>...</td>\n",
       "      <td>...</td>\n",
       "      <td>...</td>\n",
       "      <td>...</td>\n",
       "      <td>...</td>\n",
       "      <td>...</td>\n",
       "      <td>...</td>\n",
       "      <td>...</td>\n",
       "      <td>...</td>\n",
       "      <td>...</td>\n",
       "    </tr>\n",
       "    <tr>\n",
       "      <td>9944</td>\n",
       "      <td>9945</td>\n",
       "      <td>15703923</td>\n",
       "      <td>Cameron</td>\n",
       "      <td>744</td>\n",
       "      <td>Germany</td>\n",
       "      <td>Male</td>\n",
       "      <td>41</td>\n",
       "      <td>NaN</td>\n",
       "      <td>190409.34</td>\n",
       "      <td>2</td>\n",
       "      <td>1</td>\n",
       "      <td>1</td>\n",
       "      <td>138361.48</td>\n",
       "      <td>0</td>\n",
       "    </tr>\n",
       "    <tr>\n",
       "      <td>9956</td>\n",
       "      <td>9957</td>\n",
       "      <td>15707861</td>\n",
       "      <td>Nucci</td>\n",
       "      <td>520</td>\n",
       "      <td>France</td>\n",
       "      <td>Female</td>\n",
       "      <td>46</td>\n",
       "      <td>NaN</td>\n",
       "      <td>85216.61</td>\n",
       "      <td>1</td>\n",
       "      <td>1</td>\n",
       "      <td>0</td>\n",
       "      <td>117369.52</td>\n",
       "      <td>1</td>\n",
       "    </tr>\n",
       "    <tr>\n",
       "      <td>9964</td>\n",
       "      <td>9965</td>\n",
       "      <td>15642785</td>\n",
       "      <td>Douglas</td>\n",
       "      <td>479</td>\n",
       "      <td>France</td>\n",
       "      <td>Male</td>\n",
       "      <td>34</td>\n",
       "      <td>NaN</td>\n",
       "      <td>117593.48</td>\n",
       "      <td>2</td>\n",
       "      <td>0</td>\n",
       "      <td>0</td>\n",
       "      <td>113308.29</td>\n",
       "      <td>0</td>\n",
       "    </tr>\n",
       "    <tr>\n",
       "      <td>9985</td>\n",
       "      <td>9986</td>\n",
       "      <td>15586914</td>\n",
       "      <td>Nepean</td>\n",
       "      <td>659</td>\n",
       "      <td>France</td>\n",
       "      <td>Male</td>\n",
       "      <td>36</td>\n",
       "      <td>NaN</td>\n",
       "      <td>123841.49</td>\n",
       "      <td>2</td>\n",
       "      <td>1</td>\n",
       "      <td>0</td>\n",
       "      <td>96833.00</td>\n",
       "      <td>0</td>\n",
       "    </tr>\n",
       "    <tr>\n",
       "      <td>9999</td>\n",
       "      <td>10000</td>\n",
       "      <td>15628319</td>\n",
       "      <td>Walker</td>\n",
       "      <td>792</td>\n",
       "      <td>France</td>\n",
       "      <td>Female</td>\n",
       "      <td>28</td>\n",
       "      <td>NaN</td>\n",
       "      <td>130142.79</td>\n",
       "      <td>1</td>\n",
       "      <td>1</td>\n",
       "      <td>0</td>\n",
       "      <td>38190.78</td>\n",
       "      <td>0</td>\n",
       "    </tr>\n",
       "  </tbody>\n",
       "</table>\n",
       "<p>909 rows × 14 columns</p>\n",
       "</div>"
      ],
      "text/plain": [
       "      RowNumber  CustomerId    Surname  CreditScore Geography  Gender  Age  \\\n",
       "30           31    15589475    Azikiwe          591     Spain  Female   39   \n",
       "48           49    15766205        Yin          550   Germany    Male   38   \n",
       "51           52    15768193  Trevisani          585   Germany    Male   36   \n",
       "53           54    15702298   Parkhill          655   Germany    Male   41   \n",
       "60           61    15651280     Hunter          742   Germany    Male   35   \n",
       "...         ...         ...        ...          ...       ...     ...  ...   \n",
       "9944       9945    15703923    Cameron          744   Germany    Male   41   \n",
       "9956       9957    15707861      Nucci          520    France  Female   46   \n",
       "9964       9965    15642785    Douglas          479    France    Male   34   \n",
       "9985       9986    15586914     Nepean          659    France    Male   36   \n",
       "9999      10000    15628319     Walker          792    France  Female   28   \n",
       "\n",
       "      Tenure    Balance  NumOfProducts  HasCrCard  IsActiveMember  \\\n",
       "30       NaN       0.00              3          1               0   \n",
       "48       NaN  103391.38              1          0               1   \n",
       "51       NaN  146050.97              2          0               0   \n",
       "53       NaN  125561.97              1          0               0   \n",
       "60       NaN  136857.00              1          0               0   \n",
       "...      ...        ...            ...        ...             ...   \n",
       "9944     NaN  190409.34              2          1               1   \n",
       "9956     NaN   85216.61              1          1               0   \n",
       "9964     NaN  117593.48              2          0               0   \n",
       "9985     NaN  123841.49              2          1               0   \n",
       "9999     NaN  130142.79              1          1               0   \n",
       "\n",
       "      EstimatedSalary  Exited  \n",
       "30          140469.38       1  \n",
       "48           90878.13       0  \n",
       "51           86424.57       0  \n",
       "53          164040.94       1  \n",
       "60           84509.57       0  \n",
       "...               ...     ...  \n",
       "9944        138361.48       0  \n",
       "9956        117369.52       1  \n",
       "9964        113308.29       0  \n",
       "9985         96833.00       0  \n",
       "9999         38190.78       0  \n",
       "\n",
       "[909 rows x 14 columns]"
      ]
     },
     "execution_count": 127,
     "metadata": {},
     "output_type": "execute_result"
    }
   ],
   "source": [
    "df_empty = df.query('Tenure == \"NaN\"')\n",
    "df_empty"
   ]
  },
  {
   "cell_type": "markdown",
   "metadata": {},
   "source": [
    "**Вывод:** ничего особенного в этих данных мы не увидели. Заполнить пропуски средним значением или каким-то другим мы тоже не можем - это исказить результаты. Поэтому принимаем решение - удалить строки с пропущеннымы значениями."
   ]
  },
  {
   "cell_type": "markdown",
   "metadata": {},
   "source": [
    "<div class=\"alert alert-block alert-success\">\n",
    "<b>Успех:</b> Допустимое решение, но не лучшее, так как у нас данных и так немного, но с их природой ты определился верно, она нам неизвестна. Поэтому я бы предложил заполнить их случайными числами, дабы не влиять на распределение, и не терять информацию\n",
    "</div>"
   ]
  },
  {
   "cell_type": "markdown",
   "metadata": {},
   "source": [
    "<div class=\"alert alert-info\" style=\"border-radius: 15px; box-shadow: 4px 4px 4px; border: 1px solid \">\n",
    "   Такого подхода к пропускам я еще не встречал. Попробую)   </div> "
   ]
  },
  {
   "cell_type": "markdown",
   "metadata": {},
   "source": [
    "Ver_2: Запоним пропущенные значения в колонке *Tenure* случайными числами:\n"
   ]
  },
  {
   "cell_type": "code",
   "execution_count": 128,
   "metadata": {},
   "outputs": [
    {
     "name": "stdout",
     "output_type": "stream",
     "text": [
      "Количество пропусков в колонке Tenure: 0.0\n"
     ]
    }
   ],
   "source": [
    "df['Tenure'] = df['Tenure'].fillna(np.random.randint(0, 10))\n",
    "print('Количество пропусков в колонке Tenure:', df['Tenure'].isna().mean())"
   ]
  },
  {
   "cell_type": "markdown",
   "metadata": {},
   "source": [
    "Ver_1: Удалим из дата-сета строки с пропущенными значениями в колонке *Tenure*:"
   ]
  },
  {
   "cell_type": "code",
   "execution_count": 129,
   "metadata": {
    "scrolled": false
   },
   "outputs": [],
   "source": [
    "#df = df.dropna()\n",
    "#print('Количество строк в дата-сете после удаления пропусков:', len(df))"
   ]
  },
  {
   "cell_type": "markdown",
   "metadata": {},
   "source": [
    "Посморим числовое описание признаков:"
   ]
  },
  {
   "cell_type": "code",
   "execution_count": 130,
   "metadata": {},
   "outputs": [
    {
     "data": {
      "text/html": [
       "<div>\n",
       "<style scoped>\n",
       "    .dataframe tbody tr th:only-of-type {\n",
       "        vertical-align: middle;\n",
       "    }\n",
       "\n",
       "    .dataframe tbody tr th {\n",
       "        vertical-align: top;\n",
       "    }\n",
       "\n",
       "    .dataframe thead th {\n",
       "        text-align: right;\n",
       "    }\n",
       "</style>\n",
       "<table border=\"1\" class=\"dataframe\">\n",
       "  <thead>\n",
       "    <tr style=\"text-align: right;\">\n",
       "      <th></th>\n",
       "      <th>RowNumber</th>\n",
       "      <th>CustomerId</th>\n",
       "      <th>CreditScore</th>\n",
       "      <th>Age</th>\n",
       "      <th>Tenure</th>\n",
       "      <th>Balance</th>\n",
       "      <th>NumOfProducts</th>\n",
       "      <th>HasCrCard</th>\n",
       "      <th>IsActiveMember</th>\n",
       "      <th>EstimatedSalary</th>\n",
       "      <th>Exited</th>\n",
       "    </tr>\n",
       "  </thead>\n",
       "  <tbody>\n",
       "    <tr>\n",
       "      <td>count</td>\n",
       "      <td>10000.00000</td>\n",
       "      <td>1.000000e+04</td>\n",
       "      <td>10000.000000</td>\n",
       "      <td>10000.000000</td>\n",
       "      <td>10000.000000</td>\n",
       "      <td>10000.000000</td>\n",
       "      <td>10000.000000</td>\n",
       "      <td>10000.00000</td>\n",
       "      <td>10000.000000</td>\n",
       "      <td>10000.000000</td>\n",
       "      <td>10000.000000</td>\n",
       "    </tr>\n",
       "    <tr>\n",
       "      <td>mean</td>\n",
       "      <td>5000.50000</td>\n",
       "      <td>1.569094e+07</td>\n",
       "      <td>650.528800</td>\n",
       "      <td>38.921800</td>\n",
       "      <td>4.725200</td>\n",
       "      <td>76485.889288</td>\n",
       "      <td>1.530200</td>\n",
       "      <td>0.70550</td>\n",
       "      <td>0.515100</td>\n",
       "      <td>100090.239881</td>\n",
       "      <td>0.203700</td>\n",
       "    </tr>\n",
       "    <tr>\n",
       "      <td>std</td>\n",
       "      <td>2886.89568</td>\n",
       "      <td>7.193619e+04</td>\n",
       "      <td>96.653299</td>\n",
       "      <td>10.487806</td>\n",
       "      <td>2.891422</td>\n",
       "      <td>62397.405202</td>\n",
       "      <td>0.581654</td>\n",
       "      <td>0.45584</td>\n",
       "      <td>0.499797</td>\n",
       "      <td>57510.492818</td>\n",
       "      <td>0.402769</td>\n",
       "    </tr>\n",
       "    <tr>\n",
       "      <td>min</td>\n",
       "      <td>1.00000</td>\n",
       "      <td>1.556570e+07</td>\n",
       "      <td>350.000000</td>\n",
       "      <td>18.000000</td>\n",
       "      <td>0.000000</td>\n",
       "      <td>0.000000</td>\n",
       "      <td>1.000000</td>\n",
       "      <td>0.00000</td>\n",
       "      <td>0.000000</td>\n",
       "      <td>11.580000</td>\n",
       "      <td>0.000000</td>\n",
       "    </tr>\n",
       "    <tr>\n",
       "      <td>25%</td>\n",
       "      <td>2500.75000</td>\n",
       "      <td>1.562853e+07</td>\n",
       "      <td>584.000000</td>\n",
       "      <td>32.000000</td>\n",
       "      <td>2.000000</td>\n",
       "      <td>0.000000</td>\n",
       "      <td>1.000000</td>\n",
       "      <td>0.00000</td>\n",
       "      <td>0.000000</td>\n",
       "      <td>51002.110000</td>\n",
       "      <td>0.000000</td>\n",
       "    </tr>\n",
       "    <tr>\n",
       "      <td>50%</td>\n",
       "      <td>5000.50000</td>\n",
       "      <td>1.569074e+07</td>\n",
       "      <td>652.000000</td>\n",
       "      <td>37.000000</td>\n",
       "      <td>4.000000</td>\n",
       "      <td>97198.540000</td>\n",
       "      <td>1.000000</td>\n",
       "      <td>1.00000</td>\n",
       "      <td>1.000000</td>\n",
       "      <td>100193.915000</td>\n",
       "      <td>0.000000</td>\n",
       "    </tr>\n",
       "    <tr>\n",
       "      <td>75%</td>\n",
       "      <td>7500.25000</td>\n",
       "      <td>1.575323e+07</td>\n",
       "      <td>718.000000</td>\n",
       "      <td>44.000000</td>\n",
       "      <td>7.000000</td>\n",
       "      <td>127644.240000</td>\n",
       "      <td>2.000000</td>\n",
       "      <td>1.00000</td>\n",
       "      <td>1.000000</td>\n",
       "      <td>149388.247500</td>\n",
       "      <td>0.000000</td>\n",
       "    </tr>\n",
       "    <tr>\n",
       "      <td>max</td>\n",
       "      <td>10000.00000</td>\n",
       "      <td>1.581569e+07</td>\n",
       "      <td>850.000000</td>\n",
       "      <td>92.000000</td>\n",
       "      <td>10.000000</td>\n",
       "      <td>250898.090000</td>\n",
       "      <td>4.000000</td>\n",
       "      <td>1.00000</td>\n",
       "      <td>1.000000</td>\n",
       "      <td>199992.480000</td>\n",
       "      <td>1.000000</td>\n",
       "    </tr>\n",
       "  </tbody>\n",
       "</table>\n",
       "</div>"
      ],
      "text/plain": [
       "         RowNumber    CustomerId   CreditScore           Age        Tenure  \\\n",
       "count  10000.00000  1.000000e+04  10000.000000  10000.000000  10000.000000   \n",
       "mean    5000.50000  1.569094e+07    650.528800     38.921800      4.725200   \n",
       "std     2886.89568  7.193619e+04     96.653299     10.487806      2.891422   \n",
       "min        1.00000  1.556570e+07    350.000000     18.000000      0.000000   \n",
       "25%     2500.75000  1.562853e+07    584.000000     32.000000      2.000000   \n",
       "50%     5000.50000  1.569074e+07    652.000000     37.000000      4.000000   \n",
       "75%     7500.25000  1.575323e+07    718.000000     44.000000      7.000000   \n",
       "max    10000.00000  1.581569e+07    850.000000     92.000000     10.000000   \n",
       "\n",
       "             Balance  NumOfProducts    HasCrCard  IsActiveMember  \\\n",
       "count   10000.000000   10000.000000  10000.00000    10000.000000   \n",
       "mean    76485.889288       1.530200      0.70550        0.515100   \n",
       "std     62397.405202       0.581654      0.45584        0.499797   \n",
       "min         0.000000       1.000000      0.00000        0.000000   \n",
       "25%         0.000000       1.000000      0.00000        0.000000   \n",
       "50%     97198.540000       1.000000      1.00000        1.000000   \n",
       "75%    127644.240000       2.000000      1.00000        1.000000   \n",
       "max    250898.090000       4.000000      1.00000        1.000000   \n",
       "\n",
       "       EstimatedSalary        Exited  \n",
       "count     10000.000000  10000.000000  \n",
       "mean     100090.239881      0.203700  \n",
       "std       57510.492818      0.402769  \n",
       "min          11.580000      0.000000  \n",
       "25%       51002.110000      0.000000  \n",
       "50%      100193.915000      0.000000  \n",
       "75%      149388.247500      0.000000  \n",
       "max      199992.480000      1.000000  "
      ]
     },
     "execution_count": 130,
     "metadata": {},
     "output_type": "execute_result"
    }
   ],
   "source": [
    "df.describe()"
   ]
  },
  {
   "cell_type": "markdown",
   "metadata": {},
   "source": [
    "**Вывод:** выбивающихся значений нет, все корректно."
   ]
  },
  {
   "cell_type": "markdown",
   "metadata": {},
   "source": [
    "## Исследование задачи"
   ]
  },
  {
   "cell_type": "markdown",
   "metadata": {},
   "source": [
    "### Удаление невлияющих признаков:"
   ]
  },
  {
   "cell_type": "markdown",
   "metadata": {},
   "source": [
    "Рассморим признаки по степени влияния на конечный результат прогнозирования. Такие колонки как: *RowNumber,\tCustomerId,\tSurname,* не повлияют на результат прогнозирования, но если мы их оставим - это усложнит работу моделей. Поэтому без сожаления удаляем их: "
   ]
  },
  {
   "cell_type": "code",
   "execution_count": 131,
   "metadata": {},
   "outputs": [],
   "source": [
    "df = df.drop(['RowNumber', 'CustomerId', 'Surname'], axis=1)"
   ]
  },
  {
   "cell_type": "markdown",
   "metadata": {},
   "source": [
    "<div class=\"alert alert-info\" style=\"border-radius: 15px; box-shadow: 4px 4px 4px; border: 1px solid \">\n",
    "   Так будет профессиональней)   </div> "
   ]
  },
  {
   "cell_type": "code",
   "execution_count": 132,
   "metadata": {
    "scrolled": false
   },
   "outputs": [
    {
     "name": "stdout",
     "output_type": "stream",
     "text": [
      "Оставим только нужные признаки:\n"
     ]
    },
    {
     "data": {
      "text/html": [
       "<div>\n",
       "<style scoped>\n",
       "    .dataframe tbody tr th:only-of-type {\n",
       "        vertical-align: middle;\n",
       "    }\n",
       "\n",
       "    .dataframe tbody tr th {\n",
       "        vertical-align: top;\n",
       "    }\n",
       "\n",
       "    .dataframe thead th {\n",
       "        text-align: right;\n",
       "    }\n",
       "</style>\n",
       "<table border=\"1\" class=\"dataframe\">\n",
       "  <thead>\n",
       "    <tr style=\"text-align: right;\">\n",
       "      <th></th>\n",
       "      <th>CreditScore</th>\n",
       "      <th>Geography</th>\n",
       "      <th>Gender</th>\n",
       "      <th>Age</th>\n",
       "      <th>Tenure</th>\n",
       "      <th>Balance</th>\n",
       "      <th>NumOfProducts</th>\n",
       "      <th>HasCrCard</th>\n",
       "      <th>IsActiveMember</th>\n",
       "      <th>EstimatedSalary</th>\n",
       "      <th>Exited</th>\n",
       "    </tr>\n",
       "  </thead>\n",
       "  <tbody>\n",
       "    <tr>\n",
       "      <td>0</td>\n",
       "      <td>619</td>\n",
       "      <td>France</td>\n",
       "      <td>Female</td>\n",
       "      <td>42</td>\n",
       "      <td>2.0</td>\n",
       "      <td>0.00</td>\n",
       "      <td>1</td>\n",
       "      <td>1</td>\n",
       "      <td>1</td>\n",
       "      <td>101348.88</td>\n",
       "      <td>1</td>\n",
       "    </tr>\n",
       "    <tr>\n",
       "      <td>1</td>\n",
       "      <td>608</td>\n",
       "      <td>Spain</td>\n",
       "      <td>Female</td>\n",
       "      <td>41</td>\n",
       "      <td>1.0</td>\n",
       "      <td>83807.86</td>\n",
       "      <td>1</td>\n",
       "      <td>0</td>\n",
       "      <td>1</td>\n",
       "      <td>112542.58</td>\n",
       "      <td>0</td>\n",
       "    </tr>\n",
       "  </tbody>\n",
       "</table>\n",
       "</div>"
      ],
      "text/plain": [
       "   CreditScore Geography  Gender  Age  Tenure   Balance  NumOfProducts  \\\n",
       "0          619    France  Female   42     2.0      0.00              1   \n",
       "1          608     Spain  Female   41     1.0  83807.86              1   \n",
       "\n",
       "   HasCrCard  IsActiveMember  EstimatedSalary  Exited  \n",
       "0          1               1        101348.88       1  \n",
       "1          0               1        112542.58       0  "
      ]
     },
     "execution_count": 132,
     "metadata": {},
     "output_type": "execute_result"
    }
   ],
   "source": [
    "#df = df[['CreditScore', 'Geography',\t'Gender',\t'Age',\t'Tenure',\t'Balance',\t'NumOfProducts',\t'HasCrCard',\t'IsActiveMember',\t'EstimatedSalary',\t'Exited']]\n",
    "print('Оставим только нужные признаки:')\n",
    "df.head(2)"
   ]
  },
  {
   "cell_type": "markdown",
   "metadata": {},
   "source": [
    "<div class=\"alert alert-block alert-info\">\n",
    "<b>Совет:</b> Удалить неинформативные признаки - хорошее решение, но мне кажется проще делать через drop колонок\n",
    "</div>"
   ]
  },
  {
   "cell_type": "markdown",
   "metadata": {},
   "source": [
    "### Кодирование категориальных признаков:"
   ]
  },
  {
   "cell_type": "markdown",
   "metadata": {},
   "source": [
    "У нас имеются два признака с категориальными текстовыми значениями - это  *Geography* и *Gender*. Так как модели работают только с численными значениями, нам нужно закодировать текстовые  значения этих признаков в численные:"
   ]
  },
  {
   "cell_type": "code",
   "execution_count": 133,
   "metadata": {
    "scrolled": true
   },
   "outputs": [
    {
     "data": {
      "text/html": [
       "<div>\n",
       "<style scoped>\n",
       "    .dataframe tbody tr th:only-of-type {\n",
       "        vertical-align: middle;\n",
       "    }\n",
       "\n",
       "    .dataframe tbody tr th {\n",
       "        vertical-align: top;\n",
       "    }\n",
       "\n",
       "    .dataframe thead th {\n",
       "        text-align: right;\n",
       "    }\n",
       "</style>\n",
       "<table border=\"1\" class=\"dataframe\">\n",
       "  <thead>\n",
       "    <tr style=\"text-align: right;\">\n",
       "      <th></th>\n",
       "      <th>CreditScore</th>\n",
       "      <th>Age</th>\n",
       "      <th>Tenure</th>\n",
       "      <th>Balance</th>\n",
       "      <th>NumOfProducts</th>\n",
       "      <th>HasCrCard</th>\n",
       "      <th>IsActiveMember</th>\n",
       "      <th>EstimatedSalary</th>\n",
       "      <th>Exited</th>\n",
       "      <th>Geography_Germany</th>\n",
       "      <th>Geography_Spain</th>\n",
       "      <th>Gender_Male</th>\n",
       "    </tr>\n",
       "  </thead>\n",
       "  <tbody>\n",
       "    <tr>\n",
       "      <td>0</td>\n",
       "      <td>619</td>\n",
       "      <td>42</td>\n",
       "      <td>2.0</td>\n",
       "      <td>0.00</td>\n",
       "      <td>1</td>\n",
       "      <td>1</td>\n",
       "      <td>1</td>\n",
       "      <td>101348.88</td>\n",
       "      <td>1</td>\n",
       "      <td>0</td>\n",
       "      <td>0</td>\n",
       "      <td>0</td>\n",
       "    </tr>\n",
       "    <tr>\n",
       "      <td>1</td>\n",
       "      <td>608</td>\n",
       "      <td>41</td>\n",
       "      <td>1.0</td>\n",
       "      <td>83807.86</td>\n",
       "      <td>1</td>\n",
       "      <td>0</td>\n",
       "      <td>1</td>\n",
       "      <td>112542.58</td>\n",
       "      <td>0</td>\n",
       "      <td>0</td>\n",
       "      <td>1</td>\n",
       "      <td>0</td>\n",
       "    </tr>\n",
       "    <tr>\n",
       "      <td>2</td>\n",
       "      <td>502</td>\n",
       "      <td>42</td>\n",
       "      <td>8.0</td>\n",
       "      <td>159660.80</td>\n",
       "      <td>3</td>\n",
       "      <td>1</td>\n",
       "      <td>0</td>\n",
       "      <td>113931.57</td>\n",
       "      <td>1</td>\n",
       "      <td>0</td>\n",
       "      <td>0</td>\n",
       "      <td>0</td>\n",
       "    </tr>\n",
       "    <tr>\n",
       "      <td>3</td>\n",
       "      <td>699</td>\n",
       "      <td>39</td>\n",
       "      <td>1.0</td>\n",
       "      <td>0.00</td>\n",
       "      <td>2</td>\n",
       "      <td>0</td>\n",
       "      <td>0</td>\n",
       "      <td>93826.63</td>\n",
       "      <td>0</td>\n",
       "      <td>0</td>\n",
       "      <td>0</td>\n",
       "      <td>0</td>\n",
       "    </tr>\n",
       "    <tr>\n",
       "      <td>4</td>\n",
       "      <td>850</td>\n",
       "      <td>43</td>\n",
       "      <td>2.0</td>\n",
       "      <td>125510.82</td>\n",
       "      <td>1</td>\n",
       "      <td>1</td>\n",
       "      <td>1</td>\n",
       "      <td>79084.10</td>\n",
       "      <td>0</td>\n",
       "      <td>0</td>\n",
       "      <td>1</td>\n",
       "      <td>0</td>\n",
       "    </tr>\n",
       "  </tbody>\n",
       "</table>\n",
       "</div>"
      ],
      "text/plain": [
       "   CreditScore  Age  Tenure    Balance  NumOfProducts  HasCrCard  \\\n",
       "0          619   42     2.0       0.00              1          1   \n",
       "1          608   41     1.0   83807.86              1          0   \n",
       "2          502   42     8.0  159660.80              3          1   \n",
       "3          699   39     1.0       0.00              2          0   \n",
       "4          850   43     2.0  125510.82              1          1   \n",
       "\n",
       "   IsActiveMember  EstimatedSalary  Exited  Geography_Germany  \\\n",
       "0               1        101348.88       1                  0   \n",
       "1               1        112542.58       0                  0   \n",
       "2               0        113931.57       1                  0   \n",
       "3               0         93826.63       0                  0   \n",
       "4               1         79084.10       0                  0   \n",
       "\n",
       "   Geography_Spain  Gender_Male  \n",
       "0                0            0  \n",
       "1                1            0  \n",
       "2                0            0  \n",
       "3                0            0  \n",
       "4                1            0  "
      ]
     },
     "metadata": {},
     "output_type": "display_data"
    },
    {
     "name": "stdout",
     "output_type": "stream",
     "text": [
      "Кодирование прошло успешно.\n"
     ]
    }
   ],
   "source": [
    "df_ohe = pd.get_dummies(df, drop_first = True)\n",
    "display(df_ohe.head(5))\n",
    "print('Кодирование прошло успешно.')"
   ]
  },
  {
   "cell_type": "markdown",
   "metadata": {},
   "source": [
    "<div class=\"alert alert-block alert-success\">\n",
    "<b>Успех:</b> Ohe - применен корректно\n",
    "</div>"
   ]
  },
  {
   "cell_type": "markdown",
   "metadata": {},
   "source": [
    "### Преобразование дробных значений в целочисленные:"
   ]
  },
  {
   "cell_type": "markdown",
   "metadata": {},
   "source": [
    "В дата-сете имеются дробные значения, это помешает применить к ним в будущем инструмент масштабирования. Поэтому на данном этапе приведем все дробные значения к целочисленным:"
   ]
  },
  {
   "cell_type": "code",
   "execution_count": 134,
   "metadata": {},
   "outputs": [],
   "source": [
    "df_ohe['Tenure'] = df_ohe['Tenure'].apply('int64')\n",
    "df_ohe['Balance'] = df_ohe['Balance'].apply('int64')\n",
    "df_ohe['EstimatedSalary'] = df_ohe['EstimatedSalary'].apply('int64')"
   ]
  },
  {
   "cell_type": "code",
   "execution_count": 135,
   "metadata": {},
   "outputs": [
    {
     "data": {
      "text/html": [
       "<div>\n",
       "<style scoped>\n",
       "    .dataframe tbody tr th:only-of-type {\n",
       "        vertical-align: middle;\n",
       "    }\n",
       "\n",
       "    .dataframe tbody tr th {\n",
       "        vertical-align: top;\n",
       "    }\n",
       "\n",
       "    .dataframe thead th {\n",
       "        text-align: right;\n",
       "    }\n",
       "</style>\n",
       "<table border=\"1\" class=\"dataframe\">\n",
       "  <thead>\n",
       "    <tr style=\"text-align: right;\">\n",
       "      <th></th>\n",
       "      <th>CreditScore</th>\n",
       "      <th>Age</th>\n",
       "      <th>Tenure</th>\n",
       "      <th>Balance</th>\n",
       "      <th>NumOfProducts</th>\n",
       "      <th>HasCrCard</th>\n",
       "      <th>IsActiveMember</th>\n",
       "      <th>EstimatedSalary</th>\n",
       "      <th>Exited</th>\n",
       "      <th>Geography_Germany</th>\n",
       "      <th>Geography_Spain</th>\n",
       "      <th>Gender_Male</th>\n",
       "    </tr>\n",
       "  </thead>\n",
       "  <tbody>\n",
       "    <tr>\n",
       "      <td>0</td>\n",
       "      <td>619</td>\n",
       "      <td>42</td>\n",
       "      <td>2</td>\n",
       "      <td>0</td>\n",
       "      <td>1</td>\n",
       "      <td>1</td>\n",
       "      <td>1</td>\n",
       "      <td>101348</td>\n",
       "      <td>1</td>\n",
       "      <td>0</td>\n",
       "      <td>0</td>\n",
       "      <td>0</td>\n",
       "    </tr>\n",
       "    <tr>\n",
       "      <td>1</td>\n",
       "      <td>608</td>\n",
       "      <td>41</td>\n",
       "      <td>1</td>\n",
       "      <td>83807</td>\n",
       "      <td>1</td>\n",
       "      <td>0</td>\n",
       "      <td>1</td>\n",
       "      <td>112542</td>\n",
       "      <td>0</td>\n",
       "      <td>0</td>\n",
       "      <td>1</td>\n",
       "      <td>0</td>\n",
       "    </tr>\n",
       "  </tbody>\n",
       "</table>\n",
       "</div>"
      ],
      "text/plain": [
       "   CreditScore  Age  Tenure  Balance  NumOfProducts  HasCrCard  \\\n",
       "0          619   42       2        0              1          1   \n",
       "1          608   41       1    83807              1          0   \n",
       "\n",
       "   IsActiveMember  EstimatedSalary  Exited  Geography_Germany  \\\n",
       "0               1           101348       1                  0   \n",
       "1               1           112542       0                  0   \n",
       "\n",
       "   Geography_Spain  Gender_Male  \n",
       "0                0            0  \n",
       "1                1            0  "
      ]
     },
     "metadata": {},
     "output_type": "display_data"
    },
    {
     "name": "stdout",
     "output_type": "stream",
     "text": [
      "Преобразование в целочисленные значния проведено успешно!\n"
     ]
    }
   ],
   "source": [
    "display(df_ohe.head(2))\n",
    "print('Преобразование в целочисленные значния проведено успешно!')"
   ]
  },
  {
   "cell_type": "markdown",
   "metadata": {},
   "source": [
    "### Разбиение данных на выборки:"
   ]
  },
  {
   "cell_type": "markdown",
   "metadata": {},
   "source": [
    "Разобъем данные на 3 выборки:\n",
    "\n",
    "+ 1 Обучающая **df_train:** используется для обучения созданных моделей. Объем - 60% от df_ohe.\n",
    "+ 2 Валидационная **df_valid**: на ней проводятся испытания созданных моделей и последующая их оценка(моделей). Объем - 20% от df_ohe.\n",
    "+ 3 Тестовая **df_test:** для тестирования лучшей модели. Объем - 20% от df_ohe."
   ]
  },
  {
   "cell_type": "markdown",
   "metadata": {},
   "source": [
    "Процесс разбиения выборок разделим на два этапа: \n",
    "+ 1. Разбинение на обучающую **df_train** и промежуточную **df_40.** \n",
    "+ 2. Разбиение df_40 на валидационную **df_valid** и тестовую **df_test**:"
   ]
  },
  {
   "cell_type": "code",
   "execution_count": 136,
   "metadata": {
    "scrolled": true
   },
   "outputs": [
    {
     "name": "stdout",
     "output_type": "stream",
     "text": [
      "Количество объектов в df_ohe: 10000\n"
     ]
    }
   ],
   "source": [
    "print('Количество объектов в df_ohe: {}'.format(len(df_ohe)))"
   ]
  },
  {
   "cell_type": "markdown",
   "metadata": {},
   "source": [
    "1 этап разбиения:"
   ]
  },
  {
   "cell_type": "code",
   "execution_count": 137,
   "metadata": {},
   "outputs": [
    {
     "name": "stdout",
     "output_type": "stream",
     "text": [
      "Количество объектов в df_train: 6000\n",
      "Количество объектов в df_40: 4000\n"
     ]
    }
   ],
   "source": [
    "df_train, df_40 = train_test_split(df_ohe, test_size=0.4, random_state= 12)\n",
    "print('Количество объектов в df_train:', len(df_train))\n",
    "print('Количество объектов в df_40:', len(df_40))"
   ]
  },
  {
   "cell_type": "markdown",
   "metadata": {},
   "source": [
    "2 этап разбиения:"
   ]
  },
  {
   "cell_type": "code",
   "execution_count": 138,
   "metadata": {},
   "outputs": [
    {
     "name": "stdout",
     "output_type": "stream",
     "text": [
      "Количество объектов в df_valid: 2000\n",
      "Количество объектов в df_test: 2000\n"
     ]
    }
   ],
   "source": [
    "df_valid, df_test = train_test_split(df_40, test_size=0.5, random_state= 12)\n",
    "print('Количество объектов в df_valid:', len(df_valid))\n",
    "print('Количество объектов в df_test:', len(df_test))"
   ]
  },
  {
   "cell_type": "markdown",
   "metadata": {},
   "source": [
    "**Вывод**: Разбиение данных на выборки прошло успешно."
   ]
  },
  {
   "cell_type": "markdown",
   "metadata": {},
   "source": [
    "<div class=\"alert alert-block alert-success\">\n",
    "<b>Успех:</b> С разбиением все в порядке, молодец, что вывел размеры полученных выборок\n",
    "</div>"
   ]
  },
  {
   "cell_type": "markdown",
   "metadata": {},
   "source": [
    "### Определение целевого и обучающих признаков:"
   ]
  },
  {
   "cell_type": "markdown",
   "metadata": {},
   "source": [
    "Так как наша задача сосотит в том, чтобы предсказать уход клиента, то целевым признаком будет колонка **Exited**. Обозначим его переменной *target*, остальные признаки соберем в переменную *features*. Введем новые переменные с учетом разбиения данных на выборки:"
   ]
  },
  {
   "cell_type": "markdown",
   "metadata": {},
   "source": [
    "Для обучающей выборки **df_train**:"
   ]
  },
  {
   "cell_type": "code",
   "execution_count": 139,
   "metadata": {
    "scrolled": true
   },
   "outputs": [],
   "source": [
    "features_train = df_train.drop('Exited', axis=1)\n",
    "target_train = df_train['Exited']"
   ]
  },
  {
   "cell_type": "markdown",
   "metadata": {},
   "source": [
    "Для валидационной выборки **df_valid**:"
   ]
  },
  {
   "cell_type": "code",
   "execution_count": 140,
   "metadata": {},
   "outputs": [],
   "source": [
    "features_valid = df_valid.drop('Exited', axis=1) \n",
    "target_valid = df_valid['Exited']"
   ]
  },
  {
   "cell_type": "markdown",
   "metadata": {},
   "source": [
    "Для тестовой выборки **df_test**:"
   ]
  },
  {
   "cell_type": "code",
   "execution_count": 141,
   "metadata": {},
   "outputs": [],
   "source": [
    "features_test = df_test.drop('Exited', axis=1) \n",
    "target_test = df_test['Exited']"
   ]
  },
  {
   "cell_type": "markdown",
   "metadata": {},
   "source": [
    "**Вывод:** признаки определены."
   ]
  },
  {
   "cell_type": "markdown",
   "metadata": {},
   "source": [
    "### Масштабирование признаков:"
   ]
  },
  {
   "cell_type": "markdown",
   "metadata": {},
   "source": [
    "Имеющиеся признаки в нашем дата-сете имеют разный масштаб. Используем структуру *StandardScaler* для приведения признаков к одному масштабу:"
   ]
  },
  {
   "cell_type": "code",
   "execution_count": 142,
   "metadata": {
    "scrolled": true
   },
   "outputs": [
    {
     "name": "stdout",
     "output_type": "stream",
     "text": [
      "[[-0.57912507 -1.03600557  0.08855689 ...  1.71906215 -0.57324462\n",
      "   0.90331646]\n",
      " [ 1.21497159  3.60628975  1.12972221 ... -0.58171253  1.74445599\n",
      "   0.90331646]\n",
      " [-0.11245253 -0.37282053  1.12972221 ... -0.58171253 -0.57324462\n",
      "  -1.10703175]\n",
      " ...\n",
      " [-1.27394863 -0.65704269  0.7826671  ... -0.58171253 -0.57324462\n",
      "  -1.10703175]\n",
      " [-1.30506013  0.47984596  1.82383241 ... -0.58171253 -0.57324462\n",
      "   0.90331646]\n",
      " [ 0.82089255 -1.22548701 -0.25849821 ...  1.71906215 -0.57324462\n",
      "   0.90331646]]\n"
     ]
    }
   ],
   "source": [
    "scaler = StandardScaler()\n",
    "scaler.fit(features_train)\n",
    "features_train_scaler = scaler.transform(features_train)\n",
    "target_train_scaler = np.array(target_train)\n",
    "features_valid_scaler = scaler.transform(features_valid)\n",
    "target_valid_scaler = np.array(target_valid)\n",
    "features_test_scaler = scaler.transform(features_test)\n",
    "target_test_scaler = np.array(target_test)\n",
    "pd.options.mode.chained_assignment = None\n",
    "# после scaler.transform мы получаем массив np.array, преобразуем его обратно в DataFrame\n",
    "#features_train = pd.DataFrame(features_train, index = df_ohe.index, columns = features_test.columns)\n",
    "#features_valid = pd.DataFrame(features_valid,  columns = features_test.columns)\n",
    "#display(features_train.head(2))\n",
    "print(features_train_scaler)"
   ]
  },
  {
   "cell_type": "markdown",
   "metadata": {},
   "source": [
    "<div class=\"alert alert-block alert-success\">\n",
    "<b>Успех:</b> Отлично, что scaler был обучен только на трейне\n",
    "</div>"
   ]
  },
  {
   "cell_type": "markdown",
   "metadata": {},
   "source": [
    "### Оценка баланса классов:"
   ]
  },
  {
   "cell_type": "code",
   "execution_count": 143,
   "metadata": {
    "scrolled": true
   },
   "outputs": [
    {
     "data": {
      "text/plain": [
       "0    0.8015\n",
       "1    0.1985\n",
       "Name: Exited, dtype: float64"
      ]
     },
     "execution_count": 143,
     "metadata": {},
     "output_type": "execute_result"
    }
   ],
   "source": [
    "target_train.value_counts(normalize=True)"
   ]
  },
  {
   "cell_type": "markdown",
   "metadata": {},
   "source": [
    "**Вывод**: Соотношение классов в целевом признаке: 20 / 80. Мы имеем **дисбаланс классов**. Пока продолжим работать с данным соотношением."
   ]
  },
  {
   "cell_type": "markdown",
   "metadata": {},
   "source": [
    "<div class=\"alert alert-block alert-success\">\n",
    "<b>Успех:</b> Дисбаланс исследован\n",
    "</div>"
   ]
  },
  {
   "cell_type": "markdown",
   "metadata": {},
   "source": [
    "## Исследование работы моделей:"
   ]
  },
  {
   "cell_type": "markdown",
   "metadata": {},
   "source": [
    "Создадим модель \"Решающее дерево\", получим на нем предсказания и сравним работу этой модели с константной моделью: "
   ]
  },
  {
   "cell_type": "code",
   "execution_count": 144,
   "metadata": {},
   "outputs": [
    {
     "name": "stdout",
     "output_type": "stream",
     "text": [
      "Значение accuracy для модели \"решающего дерева\": 0.797\n"
     ]
    }
   ],
   "source": [
    "# создаем модель\n",
    "model_DecisionTree = DecisionTreeClassifier(random_state= 12)\n",
    "# обучаем\n",
    "model_DecisionTree.fit(features_train, target_train)\n",
    "# предсказываем\n",
    "predict_DecisionTree = model_DecisionTree.predict(features_valid) \n",
    "# вычисляем качество модели\n",
    "accuracy_DecisionTree = accuracy_score(target_valid, predict_DecisionTree)\n",
    "print('Значение accuracy для модели \"решающего дерева\":', accuracy_DecisionTree)"
   ]
  },
  {
   "cell_type": "markdown",
   "metadata": {},
   "source": [
    "Проанализируем частоты классов в результатах предсказаний решающего дерева: "
   ]
  },
  {
   "cell_type": "code",
   "execution_count": 145,
   "metadata": {},
   "outputs": [
    {
     "name": "stdout",
     "output_type": "stream",
     "text": [
      "Баланс классов в предасказаниях модели \"решающее дерево\":\n",
      "0    0.8045\n",
      "1    0.1955\n",
      "dtype: float64\n"
     ]
    }
   ],
   "source": [
    "predict_DecisionTree_series = pd.Series(model_DecisionTree.predict(features_valid))\n",
    "class_frequency = predict_DecisionTree_series.value_counts(normalize=True)\n",
    "print('Баланс классов в предасказаниях модели \"решающее дерево\":')\n",
    "print(class_frequency)\n",
    "                                 "
   ]
  },
  {
   "cell_type": "markdown",
   "metadata": {},
   "source": [
    "**Вывод**: распределние классов в предсказаниях модели имеет такое же соотношение как в оригинальном дата-сете. "
   ]
  },
  {
   "cell_type": "markdown",
   "metadata": {},
   "source": [
    "Проверим модель на адекватность. Создадим константную модель, которая каждому объекту прогнозирует \"0\". Если предсказания \"решающего дерева\" будут примерно равны предсказаниям \"константной модели\", то модель не пройдет  тест на адекватность."
   ]
  },
  {
   "cell_type": "code",
   "execution_count": 146,
   "metadata": {
    "scrolled": true
   },
   "outputs": [
    {
     "name": "stdout",
     "output_type": "stream",
     "text": [
      "Значение accuracy для контантной модели:\n",
      "0.7925\n"
     ]
    }
   ],
   "source": [
    "pred_constant = pd.Series(0, index = target_valid.index)\n",
    "print('Значение accuracy для контантной модели:')\n",
    "print(accuracy_score(target_valid, pred_constant))"
   ]
  },
  {
   "cell_type": "markdown",
   "metadata": {},
   "source": [
    "**Вывод:** Модель не прошла тест на адекватность, так как распределение классов в предсказаниях \"решающего дерева\" такое же как в оригинальном дата-сете, и предсказания константной модели примерно равны предсказаниям \"решающего дерева\". Причина - дисбаланс классов."
   ]
  },
  {
   "cell_type": "markdown",
   "metadata": {},
   "source": [
    "Метрика accuracy нам не подходит. Будем вводить новые метрики. Построим матрицу ошибок:"
   ]
  },
  {
   "cell_type": "code",
   "execution_count": 147,
   "metadata": {
    "scrolled": true
   },
   "outputs": [
    {
     "name": "stdout",
     "output_type": "stream",
     "text": [
      "[[1394  191]\n",
      " [ 215  200]]\n"
     ]
    }
   ],
   "source": [
    "print(confusion_matrix(target_valid, predict_DecisionTree))"
   ]
  },
  {
   "cell_type": "markdown",
   "metadata": {},
   "source": [
    "**Вывод:** Матрица ошибок дала нам следующие результаты:\n",
    "+ **TN** - 1241\n",
    "+ **TP** - 188\n",
    "+ **FN** - 180\n",
    "+ **FP** - 209"
   ]
  },
  {
   "cell_type": "markdown",
   "metadata": {},
   "source": [
    "Вычислим полноту *Recall* для нашей модели:"
   ]
  },
  {
   "cell_type": "code",
   "execution_count": 148,
   "metadata": {},
   "outputs": [
    {
     "name": "stdout",
     "output_type": "stream",
     "text": [
      "Recall для несбалансированнной модели: 0.4819277108433735\n"
     ]
    }
   ],
   "source": [
    "recall_DecisionTree_dissbal = recall_score(target_valid, predict_DecisionTree)\n",
    "print('Recall для несбалансированнной модели:', recall_DecisionTree_dissbal)"
   ]
  },
  {
   "cell_type": "markdown",
   "metadata": {},
   "source": [
    "Вычислим точность *Precision*:"
   ]
  },
  {
   "cell_type": "code",
   "execution_count": 149,
   "metadata": {
    "scrolled": false
   },
   "outputs": [
    {
     "name": "stdout",
     "output_type": "stream",
     "text": [
      "Precision для несбалансированнной модели: 0.5115089514066496\n"
     ]
    }
   ],
   "source": [
    "precision_DecisionTree_dissbal = precision_score(target_valid, predict_DecisionTree)\n",
    "print('Precision для несбалансированнной модели:', precision_DecisionTree_dissbal)"
   ]
  },
  {
   "cell_type": "markdown",
   "metadata": {},
   "source": [
    "### Выбор наулучшей модели для испытаний:"
   ]
  },
  {
   "cell_type": "markdown",
   "metadata": {},
   "source": [
    "Вычислим F1-меру для \"Решающего дерева\":"
   ]
  },
  {
   "cell_type": "code",
   "execution_count": 150,
   "metadata": {
    "scrolled": true
   },
   "outputs": [
    {
     "name": "stdout",
     "output_type": "stream",
     "text": [
      "F1-мера для \"Решающего дерева\": 0.49627791563275436\n"
     ]
    }
   ],
   "source": [
    "F1_DecisionTree_dissbal = f1_score(target_valid, predict_DecisionTree)\n",
    "print('F1-мера для \"Решающего дерева\":', F1_DecisionTree_dissbal)"
   ]
  },
  {
   "cell_type": "markdown",
   "metadata": {},
   "source": [
    "**Вывод**: Показатели *Recall* и *Precision* и *F1-мера* как у случайной модели. Причина - дисбаланс классов. "
   ]
  },
  {
   "cell_type": "markdown",
   "metadata": {},
   "source": [
    "Протестируем модели \"Логистическая регрессия\" и \"Случайный лес\". Вычислим на каждой F1-меру, ту модель, которая покажет лучший результат возьмем для дальнейших исследований. "
   ]
  },
  {
   "cell_type": "markdown",
   "metadata": {},
   "source": [
    "Логистическая регрессия:"
   ]
  },
  {
   "cell_type": "code",
   "execution_count": 151,
   "metadata": {},
   "outputs": [
    {
     "name": "stdout",
     "output_type": "stream",
     "text": [
      "Значение F1-меры для модели \"Логистическая регрессия\": 0.09871244635193133\n"
     ]
    }
   ],
   "source": [
    "model_LogisticRegression = LogisticRegression(random_state= 12, solver='liblinear')\n",
    "# обучаем\n",
    "model_LogisticRegression.fit(features_train, target_train)\n",
    "# предсказываем\n",
    "predict_LogisticRegression = model_LogisticRegression.predict(features_valid) \n",
    "# вычисляем качество модели\n",
    "F1_LogisticRegression = f1_score(target_valid, predict_LogisticRegression)\n",
    "print('Значение F1-меры для модели \"Логистическая регрессия\":', F1_LogisticRegression)"
   ]
  },
  {
   "cell_type": "markdown",
   "metadata": {},
   "source": [
    "Случайный лес:"
   ]
  },
  {
   "cell_type": "code",
   "execution_count": 152,
   "metadata": {},
   "outputs": [
    {
     "name": "stdout",
     "output_type": "stream",
     "text": [
      "Значение F1-меры для модели \"Случайный лес\": 0.5502318392581144\n"
     ]
    },
    {
     "name": "stderr",
     "output_type": "stream",
     "text": [
      "/opt/conda/lib/python3.7/site-packages/sklearn/ensemble/forest.py:245: FutureWarning: The default value of n_estimators will change from 10 in version 0.20 to 100 in 0.22.\n",
      "  \"10 in version 0.20 to 100 in 0.22.\", FutureWarning)\n"
     ]
    }
   ],
   "source": [
    "model_RandomForest = RandomForestClassifier(random_state= 12)\n",
    "# обучаем\n",
    "model_RandomForest.fit(features_train, target_train)\n",
    "# предсказываем\n",
    "predict_RandomForest = model_RandomForest.predict(features_valid) \n",
    "# вычисляем качество модели\n",
    "F1_RandomForest = f1_score(target_valid, predict_RandomForest)\n",
    "print('Значение F1-меры для модели \"Случайный лес\":', F1_RandomForest)"
   ]
  },
  {
   "cell_type": "markdown",
   "metadata": {},
   "source": [
    "**Вывод**: наилучшие результаты показала модель \"Случайный лес\". С ней и продолжим работать."
   ]
  },
  {
   "cell_type": "markdown",
   "metadata": {},
   "source": [
    "**Вывод 2**: Модель \"Случайный лес\" не прошла испытание на тестовой выборке. Поэтому пробуем добиться результата на \"Логистической регрессии\"."
   ]
  },
  {
   "cell_type": "markdown",
   "metadata": {},
   "source": [
    "<div class=\"alert alert-block alert-success\">\n",
    "<b>Успех:</b> Хорошо сделан шаг, радует, что уделил внимания точности и полноте, они более ценны для бизнеса"
   ]
  },
  {
   "cell_type": "markdown",
   "metadata": {},
   "source": [
    "<div class=\"alert alert-block alert-info\">\n",
    "<b>Совет:</b> Здесь хорошо было бы посчтиать ROC-AUC тоже\n",
    "    \n",
    "</div>"
   ]
  },
  {
   "cell_type": "code",
   "execution_count": 153,
   "metadata": {
    "scrolled": true
   },
   "outputs": [
    {
     "name": "stdout",
     "output_type": "stream",
     "text": [
      "Значение AUC-ROC: 0.8236114172779445\n"
     ]
    }
   ],
   "source": [
    "predict_score = model_RandomForest.predict_proba(features_valid)\n",
    "predict_score_one = predict_score[:, 1]\n",
    "#print(predict_score_one[:18])\n",
    "auc_roc = roc_auc_score(target_valid, predict_score_one)\n",
    "print('Значение AUC-ROC:', auc_roc)"
   ]
  },
  {
   "cell_type": "markdown",
   "metadata": {},
   "source": [
    "<div class=\"alert alert-info\" style=\"border-radius: 15px; box-shadow: 4px 4px 4px; border: 1px solid \">\n",
    "  Есть   </div> "
   ]
  },
  {
   "cell_type": "markdown",
   "metadata": {},
   "source": [
    "## Борьба с дисбалансом"
   ]
  },
  {
   "cell_type": "markdown",
   "metadata": {},
   "source": [
    "### С помощью гиперпараметра модели:"
   ]
  },
  {
   "cell_type": "markdown",
   "metadata": {},
   "source": [
    "#### Модель случайный лес"
   ]
  },
  {
   "cell_type": "markdown",
   "metadata": {},
   "source": [
    "Изменим в настройках модели \"Случайный лес\" гиперпараметр *class_weight* = 'balanced', учитавающий дисбаланс классов и посмотрим как измениться значение F1-меры:"
   ]
  },
  {
   "cell_type": "code",
   "execution_count": 154,
   "metadata": {
    "scrolled": true
   },
   "outputs": [
    {
     "name": "stderr",
     "output_type": "stream",
     "text": [
      "/opt/conda/lib/python3.7/site-packages/sklearn/ensemble/forest.py:245: FutureWarning: The default value of n_estimators will change from 10 in version 0.20 to 100 in 0.22.\n",
      "  \"10 in version 0.20 to 100 in 0.22.\", FutureWarning)\n"
     ]
    },
    {
     "name": "stdout",
     "output_type": "stream",
     "text": [
      "Значение F1-меры для модели \"Случайный лес\" c гиперпараметром class_weight = \"balanced\": 0.5314465408805031\n"
     ]
    }
   ],
   "source": [
    "model_RandomForest = RandomForestClassifier(random_state= 12, class_weight = 'balanced')\n",
    "# обучаем\n",
    "model_RandomForest.fit(features_train, target_train)\n",
    "# предсказываем\n",
    "predict_RandomForest = model_RandomForest.predict(features_valid) \n",
    "# вычисляем качество модели\n",
    "F1_RandomForest = f1_score(target_valid, predict_RandomForest)\n",
    "print('Значение F1-меры для модели \"Случайный лес\" c гиперпараметром class_weight = \"balanced\":', F1_RandomForest)"
   ]
  },
  {
   "cell_type": "markdown",
   "metadata": {},
   "source": [
    "**Вывод**: при установлении значения гиперпараметра *class_weight* = 'balanced', который учитывает несбалансированность классов, значение F1-меры снизилось больше чем на 2%. Этот способ нам не подходит."
   ]
  },
  {
   "cell_type": "markdown",
   "metadata": {},
   "source": [
    "#### Модель Логистическая регрессия:"
   ]
  },
  {
   "cell_type": "code",
   "execution_count": 155,
   "metadata": {},
   "outputs": [
    {
     "name": "stdout",
     "output_type": "stream",
     "text": [
      "Значение F1-меры для модели \"Логистическая регрессия\": 0.5113924050632912\n"
     ]
    }
   ],
   "source": [
    "model_LogisticRegression = LogisticRegression(random_state= 12, solver='liblinear', class_weight = 'balanced')\n",
    "# обучаем\n",
    "model_LogisticRegression.fit(features_train, target_train)\n",
    "# предсказываем\n",
    "predict_LogisticRegression = model_LogisticRegression.predict(features_valid) \n",
    "# вычисляем качество модели\n",
    "F1_LogisticRegression = f1_score(target_valid, predict_LogisticRegression)\n",
    "print('Значение F1-меры для модели \"Логистическая регрессия\":', F1_LogisticRegression)"
   ]
  },
  {
   "cell_type": "markdown",
   "metadata": {},
   "source": [
    "**Вывод**: с помощью гиперпараметра мы увеличили F1-меру до 0,46."
   ]
  },
  {
   "cell_type": "markdown",
   "metadata": {},
   "source": [
    "### Техника Upsamling:"
   ]
  },
  {
   "cell_type": "markdown",
   "metadata": {},
   "source": [
    "С помощью этой техники мы увеличим количество объектов в выборке со значением целевого признака \"1\" до соотношения примерно 50/50."
   ]
  },
  {
   "cell_type": "code",
   "execution_count": 156,
   "metadata": {
    "scrolled": true
   },
   "outputs": [
    {
     "name": "stdout",
     "output_type": "stream",
     "text": [
      "Балансировка выборки Upsampling прошла успешно!\n",
      "0    4809\n",
      "1    4764\n",
      "Name: Exited, dtype: int64\n",
      "Размерность фичей: (9573, 11)\n",
      "Размерность целевого признака: (9573,)\n"
     ]
    }
   ],
   "source": [
    "def upsample(features, target, repeat):\n",
    "    features_zeros = features_train[target_train == 0]\n",
    "    features_ones = features_train[target_train == 1]\n",
    "    target_zeros = target_train[df_train['Exited'] == 0]\n",
    "    target_ones = target_train[df_train['Exited'] == 1]\n",
    "\n",
    "    features_upsampled = pd.concat([features_zeros] + [features_ones] * repeat)\n",
    "    target_upsampled = pd.concat([target_zeros] + [target_ones] * repeat)\n",
    "    \n",
    "    return features_upsampled, target_upsampled\n",
    "\n",
    "features_upsampled, target_upsampled = upsample(features_train, target_train, 4)\n",
    "\n",
    "features_upsampled, target_upsampled = shuffle(features_upsampled, target_upsampled, random_state = 12)\n",
    "\n",
    "print('Балансировка выборки Upsampling прошла успешно!')\n",
    "print(target_upsampled.value_counts())\n",
    "print('Размерность фичей:', features_upsampled.shape)\n",
    "print('Размерность целевого признака:', target_upsampled.shape)"
   ]
  },
  {
   "cell_type": "markdown",
   "metadata": {},
   "source": [
    "#### Модель случайный лес"
   ]
  },
  {
   "cell_type": "markdown",
   "metadata": {},
   "source": [
    "Проверим: как изменилось значение F1-меры после применения техники upsamling:"
   ]
  },
  {
   "cell_type": "code",
   "execution_count": 157,
   "metadata": {},
   "outputs": [
    {
     "name": "stderr",
     "output_type": "stream",
     "text": [
      "/opt/conda/lib/python3.7/site-packages/sklearn/ensemble/forest.py:245: FutureWarning: The default value of n_estimators will change from 10 in version 0.20 to 100 in 0.22.\n",
      "  \"10 in version 0.20 to 100 in 0.22.\", FutureWarning)\n"
     ]
    },
    {
     "name": "stdout",
     "output_type": "stream",
     "text": [
      "Значение F1-меры для модели \"Случайный лес\" c применением техники upsamling\": 0.5757997218358831\n"
     ]
    }
   ],
   "source": [
    "model_RandomForest = RandomForestClassifier(random_state= 12)\n",
    "# обучаем\n",
    "model_RandomForest.fit(features_upsampled, target_upsampled)\n",
    "# предсказываем\n",
    "predict_RandomForest = model_RandomForest.predict(features_valid) \n",
    "# вычисляем качество модели\n",
    "F1_RandomForest = f1_score(target_valid, predict_RandomForest)\n",
    "print('Значение F1-меры для модели \"Случайный лес\" c применением техники upsamling\":', F1_RandomForest)"
   ]
  },
  {
   "cell_type": "markdown",
   "metadata": {},
   "source": [
    "**Вывод**: применение техники upsamling увеличило результат работы модели на 1% до 54%."
   ]
  },
  {
   "cell_type": "markdown",
   "metadata": {},
   "source": [
    "#### Модель Логистическая регрессия"
   ]
  },
  {
   "cell_type": "code",
   "execution_count": 158,
   "metadata": {},
   "outputs": [
    {
     "name": "stdout",
     "output_type": "stream",
     "text": [
      "Значение F1-меры для модели \"Логистическая регрессия\" с техникой Upsampling: 0.4497925311203319\n"
     ]
    }
   ],
   "source": [
    "model_LogisticRegression = LogisticRegression(random_state= 12, solver='liblinear')\n",
    "# обучаем\n",
    "model_LogisticRegression.fit(features_upsampled, target_upsampled)\n",
    "# предсказываем\n",
    "predict_LogisticRegression = model_LogisticRegression.predict(features_valid) \n",
    "# вычисляем качество модели\n",
    "F1_LogisticRegression = f1_score(target_valid, predict_LogisticRegression)\n",
    "print('Значение F1-меры для модели \"Логистическая регрессия\" с техникой Upsampling:', F1_LogisticRegression)"
   ]
  },
  {
   "cell_type": "markdown",
   "metadata": {},
   "source": [
    "**Вывод**: техника Upsampling снизила F1-меру на 3%. Не подходит!"
   ]
  },
  {
   "cell_type": "markdown",
   "metadata": {},
   "source": [
    "### Техника Downsamling:"
   ]
  },
  {
   "cell_type": "markdown",
   "metadata": {},
   "source": [
    "Применим ещё одну технику балансировки выборки - downsamling. Она уменшает количество объектов с целевым признаком == \"0\"."
   ]
  },
  {
   "cell_type": "code",
   "execution_count": 165,
   "metadata": {
    "scrolled": true
   },
   "outputs": [
    {
     "name": "stdout",
     "output_type": "stream",
     "text": [
      "Балансировка выборки прошла успешно!\n",
      "0    1298\n",
      "1    1191\n",
      "Name: Exited, dtype: int64\n",
      "Размерность фичей: (2489, 11)\n",
      "Размерность целевого признака: (2489,)\n"
     ]
    }
   ],
   "source": [
    "def downsample(features, target, fraction):\n",
    "    features_zeros = features[target == 0]\n",
    "    features_ones = features[target == 1]\n",
    "    target_zeros = target[target == 0]\n",
    "    target_ones = target[target == 1]\n",
    "    \n",
    "    features_downsampled = pd.concat([features_zeros.sample(frac= fraction, random_state=12)] + [features_ones])\n",
    "    target_downsampled = pd.concat([target_zeros.sample(frac= fraction, random_state=12345)] + [target_ones])\n",
    "    \n",
    "    features_downsampled, target_downsampled = shuffle(features_downsampled, target_downsampled, random_state=12)\n",
    "    \n",
    "    return features_downsampled, target_downsampled\n",
    "\n",
    "features_downsampled, target_downsampled = downsample(features_train, target_train, 0.27)\n",
    "\n",
    "print('Балансировка выборки прошла успешно!')\n",
    "print(target_downsampled.value_counts())\n",
    "print('Размерность фичей:', features_downsampled.shape)\n",
    "print('Размерность целевого признака:', target_downsampled.shape)"
   ]
  },
  {
   "cell_type": "markdown",
   "metadata": {},
   "source": [
    "Проверим как изменилось значение F1-меры после применения техники downsamling:"
   ]
  },
  {
   "cell_type": "markdown",
   "metadata": {},
   "source": [
    "#### Модель Случайный лес:"
   ]
  },
  {
   "cell_type": "code",
   "execution_count": 166,
   "metadata": {
    "scrolled": true
   },
   "outputs": [
    {
     "name": "stdout",
     "output_type": "stream",
     "text": [
      "Значение F1-меры для модели \"Случайный лес\" c применением техники downsamling\": 0.604361370716511\n"
     ]
    },
    {
     "name": "stderr",
     "output_type": "stream",
     "text": [
      "/opt/conda/lib/python3.7/site-packages/sklearn/ensemble/forest.py:245: FutureWarning: The default value of n_estimators will change from 10 in version 0.20 to 100 in 0.22.\n",
      "  \"10 in version 0.20 to 100 in 0.22.\", FutureWarning)\n"
     ]
    }
   ],
   "source": [
    "model_RandomForest = RandomForestClassifier(random_state= 12)\n",
    "# обучаем\n",
    "model_RandomForest.fit(features_downsampled, target_downsampled)\n",
    "# предсказываем\n",
    "predict_RandomForest = model_RandomForest.predict(features_valid) \n",
    "# вычисляем качество модели\n",
    "F1_RandomForest = f1_score(target_valid, predict_RandomForest)\n",
    "print('Значение F1-меры для модели \"Случайный лес\" c применением техники downsamling\":', F1_RandomForest)"
   ]
  },
  {
   "cell_type": "markdown",
   "metadata": {},
   "source": [
    "**Вывод**: Применение техники downsampling позволило повысить F1-меру на 3,5% до уровня 0,5669. Напомним, что техника upsamling повышает F1-меру на 1%. Сбалансируем выборку способом downsampling:"
   ]
  },
  {
   "cell_type": "markdown",
   "metadata": {},
   "source": [
    "#### Модель Логистическая регрессия"
   ]
  },
  {
   "cell_type": "code",
   "execution_count": 167,
   "metadata": {},
   "outputs": [
    {
     "name": "stdout",
     "output_type": "stream",
     "text": [
      "Значение F1-меры для модели \"Логистическая регрессия\" с техникой Downsampling: 0.4518388791593695\n"
     ]
    }
   ],
   "source": [
    "model_LogisticRegression = LogisticRegression(random_state= 12, solver='liblinear')\n",
    "# обучаем\n",
    "model_LogisticRegression.fit(features_downsampled, target_downsampled)\n",
    "# предсказываем\n",
    "predict_LogisticRegression = model_LogisticRegression.predict(features_valid) \n",
    "# вычисляем качество модели\n",
    "F1_LogisticRegression = f1_score(target_valid, predict_LogisticRegression)\n",
    "print('Значение F1-меры для модели \"Логистическая регрессия\" с техникой Downsampling:', F1_LogisticRegression)"
   ]
  },
  {
   "cell_type": "markdown",
   "metadata": {},
   "source": [
    "**Вывод**: техника Downsampling снижает F1-меру на 3%. Для Логистической регрессии наилучшие показатели балансировки выборки дает установление гиперпараметра class_weight = 'balanced'."
   ]
  },
  {
   "cell_type": "markdown",
   "metadata": {},
   "source": [
    "## Изменение порога:"
   ]
  },
  {
   "cell_type": "markdown",
   "metadata": {},
   "source": [
    "Мы знаем, в модели установлен порог 0,5 что по умольчанию. Посмотрим какой \"скор\" выдает модель классу \"1\": "
   ]
  },
  {
   "cell_type": "code",
   "execution_count": 162,
   "metadata": {
    "scrolled": true
   },
   "outputs": [
    {
     "name": "stdout",
     "output_type": "stream",
     "text": [
      "[0.3 0.9 0.4 0.  0.2 0.2 1.  0.  0.3 0.4 0.4 0.7 0.2 0.7 0.  0.1 0.8 0.3]\n"
     ]
    }
   ],
   "source": [
    "predict_score = model_RandomForest.predict_proba(features_valid)\n",
    "predict_score_one = predict_score[:, 1]\n",
    "print(predict_score_one[:18])"
   ]
  },
  {
   "cell_type": "markdown",
   "metadata": {},
   "source": [
    "**Вывод**: На первый взгляд \"скор\" модели равномерно распределен от 0 до 1."
   ]
  },
  {
   "cell_type": "markdown",
   "metadata": {},
   "source": [
    "Переберем значения порога от 0,1 до 0,9 с шагом 0,1 и выберем тот, который дает максимальное значение метрик *Recall* и *Precision*:"
   ]
  },
  {
   "cell_type": "code",
   "execution_count": 163,
   "metadata": {
    "scrolled": true
   },
   "outputs": [
    {
     "name": "stdout",
     "output_type": "stream",
     "text": [
      "Порог = 0.10 | Полнота = 0.95 | Точность = 0.27 | F1-мера = 0.42\n",
      "Порог = 0.20 | Полнота = 0.90 | Точность = 0.31 | F1-мера = 0.46\n",
      "Порог = 0.30 | Полнота = 0.84 | Точность = 0.37 | F1-мера = 0.51\n",
      "Порог = 0.40 | Полнота = 0.76 | Точность = 0.45 | F1-мера = 0.56\n",
      "Порог = 0.50 | Полнота = 0.70 | Точность = 0.53 | F1-мера = 0.60\n",
      "Порог = 0.60 | Полнота = 0.60 | Точность = 0.63 | F1-мера = 0.62\n",
      "Порог = 0.70 | Полнота = 0.49 | Точность = 0.71 | F1-мера = 0.58\n",
      "Порог = 0.80 | Полнота = 0.34 | Точность = 0.78 | F1-мера = 0.48\n"
     ]
    }
   ],
   "source": [
    "for threshold in np.arange(0.1, 0.9, 0.1):\n",
    "    predict_RandomForest = predict_score_one > threshold\n",
    "    recall_threshold_best = recall_score(target_valid, predict_RandomForest)\n",
    "    precision_threshold_best = precision_score(target_valid, predict_RandomForest)\n",
    "    F1_threshold_best = f1_score(target_valid, predict_RandomForest)\n",
    "    print('Порог = {:.2f} | Полнота = {:.2f} | Точность = {:.2f} | F1-мера = {:.2f}'.\n",
    "          format(threshold, recall_threshold_best, precision_threshold_best, F1_threshold_best))"
   ]
  },
  {
   "cell_type": "markdown",
   "metadata": {},
   "source": [
    "**Вывод**: Лучший результат дает модель с поргом 0,5 и 0,6. Оставим 0,5."
   ]
  },
  {
   "cell_type": "markdown",
   "metadata": {},
   "source": [
    "## Улучшение работы модели:"
   ]
  },
  {
   "cell_type": "markdown",
   "metadata": {},
   "source": [
    "### Подбор оптимальных гиперпараметров:"
   ]
  },
  {
   "cell_type": "markdown",
   "metadata": {},
   "source": [
    "#### Модель случайный лес:"
   ]
  },
  {
   "cell_type": "code",
   "execution_count": 164,
   "metadata": {},
   "outputs": [
    {
     "ename": "IndentationError",
     "evalue": "unindent does not match any outer indentation level (<tokenize>, line 8)",
     "output_type": "error",
     "traceback": [
      "Traceback \u001b[0;36m(most recent call last)\u001b[0m:\n",
      "  File \u001b[1;32m\"/opt/conda/lib/python3.7/site-packages/IPython/core/interactiveshell.py\"\u001b[0m, line \u001b[1;32m3441\u001b[0m, in \u001b[1;35mrun_code\u001b[0m\n    exec(code_obj, self.user_global_ns, self.user_ns)\n",
      "  File \u001b[1;32m\"<ipython-input-164-9b7f40b2a076>\"\u001b[0m, line \u001b[1;32m1\u001b[0m, in \u001b[1;35m<module>\u001b[0m\n    get_ipython().run_cell_magic('time', '', 'best_model_RandomForest = None\\nbest_result_RandomForest = 0\\nfor est, depth, features, samples_split, samples_leaf in product(range(1, 11), range(1, 10), range(1, 11),\\n                                                                 range(3, 10), range(2, 10)):\\n    # чтобы включить обучение модели - убрать #1\\n   #1 model_RandomForest = RandomForestClassifier(random_state=12, n_estimators= est, max_depth = depth,\\n                                                max_features = features, min_samples_split = samples_split,\\n                                               min_samples_leaf = samples_leaf)\\n    model_RandomForest.fit(features_downsampled, target_downsampled) # обучим модель\\n    predict_RandomForest = model_RandomForest.predict(features_valid)\\n    result_RandomForest = f1_score(target_valid, predict_RandomForest) # посчитаем качество модели на валидационной выборке\\n    if result_RandomForest > best_result_RandomForest:\\n        best_model_RandomForest = model_RandomForest \\n        best_result_RandomForest = result_RandomForest \\n\\nprint(\"F1-мера наилучшей модели на валидационной выборке:\", best_result_RandomForest,\\n      \"при количестве деревьев:\", best_model_RandomForest.n_estimators,\\n      \"при глубине дерева:\", best_model_RandomForest.max_depth,\\n       \"при количестве признаков:\", best_model_RandomForest.max_features,\\n      \"при минимальном числе объектов в узле:\", best_model_RandomForest.min_samples_split,\\n     \"при минимальном числе объектов в листьях:\", best_model_RandomForest.min_samples_leaf)\\n')\n",
      "  File \u001b[1;32m\"/opt/conda/lib/python3.7/site-packages/IPython/core/interactiveshell.py\"\u001b[0m, line \u001b[1;32m2403\u001b[0m, in \u001b[1;35mrun_cell_magic\u001b[0m\n    result = fn(*args, **kwargs)\n",
      "  File \u001b[1;32m\"<decorator-gen-54>\"\u001b[0m, line \u001b[1;32m2\u001b[0m, in \u001b[1;35mtime\u001b[0m\n",
      "  File \u001b[1;32m\"/opt/conda/lib/python3.7/site-packages/IPython/core/magic.py\"\u001b[0m, line \u001b[1;32m187\u001b[0m, in \u001b[1;35m<lambda>\u001b[0m\n    call = lambda f, *a, **k: f(*a, **k)\n",
      "  File \u001b[1;32m\"/opt/conda/lib/python3.7/site-packages/IPython/core/magics/execution.py\"\u001b[0m, line \u001b[1;32m1269\u001b[0m, in \u001b[1;35mtime\u001b[0m\n    expr = self.shell.transform_cell(cell)\n",
      "  File \u001b[1;32m\"/opt/conda/lib/python3.7/site-packages/IPython/core/interactiveshell.py\"\u001b[0m, line \u001b[1;32m3202\u001b[0m, in \u001b[1;35mtransform_cell\u001b[0m\n    cell = self.input_transformer_manager.transform_cell(raw_cell)\n",
      "  File \u001b[1;32m\"/opt/conda/lib/python3.7/site-packages/IPython/core/inputtransformer2.py\"\u001b[0m, line \u001b[1;32m593\u001b[0m, in \u001b[1;35mtransform_cell\u001b[0m\n    lines = self.do_token_transforms(lines)\n",
      "  File \u001b[1;32m\"/opt/conda/lib/python3.7/site-packages/IPython/core/inputtransformer2.py\"\u001b[0m, line \u001b[1;32m578\u001b[0m, in \u001b[1;35mdo_token_transforms\u001b[0m\n    changed, lines = self.do_one_token_transform(lines)\n",
      "  File \u001b[1;32m\"/opt/conda/lib/python3.7/site-packages/IPython/core/inputtransformer2.py\"\u001b[0m, line \u001b[1;32m558\u001b[0m, in \u001b[1;35mdo_one_token_transform\u001b[0m\n    tokens_by_line = make_tokens_by_line(lines)\n",
      "  File \u001b[1;32m\"/opt/conda/lib/python3.7/site-packages/IPython/core/inputtransformer2.py\"\u001b[0m, line \u001b[1;32m487\u001b[0m, in \u001b[1;35mmake_tokens_by_line\u001b[0m\n    for token in tokenize.generate_tokens(iter(lines).__next__):\n",
      "\u001b[0;36m  File \u001b[0;32m\"/opt/conda/lib/python3.7/tokenize.py\"\u001b[0;36m, line \u001b[0;32m572\u001b[0;36m, in \u001b[0;35m_tokenize\u001b[0;36m\u001b[0m\n\u001b[0;31m    (\"<tokenize>\", lnum, pos, line))\u001b[0m\n",
      "\u001b[0;36m  File \u001b[0;32m\"<tokenize>\"\u001b[0;36m, line \u001b[0;32m8\u001b[0m\n\u001b[0;31m    min_samples_leaf = samples_leaf)\u001b[0m\n\u001b[0m    ^\u001b[0m\n\u001b[0;31mIndentationError\u001b[0m\u001b[0;31m:\u001b[0m unindent does not match any outer indentation level\n"
     ]
    }
   ],
   "source": [
    "%%time\n",
    "best_model_RandomForest = None\n",
    "best_result_RandomForest = 0\n",
    "for est, depth, features, samples_split, samples_leaf in product(range(1, 11), range(1, 10), range(1, 11),\n",
    "                                                                 range(3, 10), range(2, 10)):\n",
    "    # чтобы включить обучение модели - убрать #1\n",
    "   #1 model_RandomForest = RandomForestClassifier(random_state=12, n_estimators= est, max_depth = depth,\n",
    "                                                max_features = features, min_samples_split = samples_split,\n",
    "                                               min_samples_leaf = samples_leaf)\n",
    "    model_RandomForest.fit(features_downsampled, target_downsampled) # обучим модель\n",
    "    predict_RandomForest = model_RandomForest.predict(features_valid)\n",
    "    result_RandomForest = f1_score(target_valid, predict_RandomForest) # посчитаем качество модели на валидационной выборке\n",
    "    if result_RandomForest > best_result_RandomForest:\n",
    "        best_model_RandomForest = model_RandomForest \n",
    "        best_result_RandomForest = result_RandomForest \n",
    "\n",
    "print(\"F1-мера наилучшей модели на валидационной выборке:\", best_result_RandomForest,\n",
    "      \"при количестве деревьев:\", best_model_RandomForest.n_estimators,\n",
    "      \"при глубине дерева:\", best_model_RandomForest.max_depth,\n",
    "       \"при количестве признаков:\", best_model_RandomForest.max_features,\n",
    "      \"при минимальном числе объектов в узле:\", best_model_RandomForest.min_samples_split,\n",
    "     \"при минимальном числе объектов в листьях:\", best_model_RandomForest.min_samples_leaf)"
   ]
  },
  {
   "cell_type": "markdown",
   "metadata": {},
   "source": [
    "**Вывод:** подбором гиперпараметров мы добились значения **F1-меры 0,61**, при количестве деревьев: 8, при глубине дерева: 8, при количестве признаков: 4, при минимальном числе объектов в узле: 3, при минимальном числе объектов в листьях: 6"
   ]
  },
  {
   "cell_type": "markdown",
   "metadata": {},
   "source": [
    "#### Модель Логистическая регрессия:"
   ]
  },
  {
   "cell_type": "code",
   "execution_count": 169,
   "metadata": {},
   "outputs": [
    {
     "ename": "IndentationError",
     "evalue": "unindent does not match any outer indentation level (<tokenize>, line 15)",
     "output_type": "error",
     "traceback": [
      "\u001b[0;36m  File \u001b[0;32m\"<tokenize>\"\u001b[0;36m, line \u001b[0;32m15\u001b[0m\n\u001b[0;31m    \"при С:\", best_model_LogisticRegression.C,\u001b[0m\n\u001b[0m    ^\u001b[0m\n\u001b[0;31mIndentationError\u001b[0m\u001b[0;31m:\u001b[0m unindent does not match any outer indentation level\n"
     ]
    }
   ],
   "source": [
    "best_model_LogisticRegression = None\n",
    "best_result_LogisticRegression = 0\n",
    "for c, inter, it, verb in product(range(1, 2), range(1,2), range(50, 100)):\n",
    "    # чтобы включить обучение модели - убрать #1\n",
    "    #1 model_LogisticRegression = LogisticRegression(random_state=12, solver='liblinear', penalty = 'l1',  fit_intercept = True,\n",
    "                                                intercept_scaling = inter,  class_weight = 'balanced', C = c, max_iter = it)\n",
    "    model_LogisticRegression.fit(features_train, target_train) # обучим модель\n",
    "    predict_LogisticRegression = model_LogisticRegression.predict(features_valid)\n",
    "    result_LogisticRegression = f1_score(target_valid, predict_LogisticRegression) # посчитаем качество модели на валидационной выборке\n",
    "    if result_LogisticRegression > best_result_LogisticRegression:\n",
    "        best_model_LogisticRegression = model_LogisticRegression \n",
    "        best_result_LogisticRegression = result_LogisticRegression \n",
    "\n",
    "print(\"F1-мера Логистической регрессии на валидационной выборке:\", best_result_LogisticRegression,\n",
    "     \"при С:\", best_model_LogisticRegression.C,\n",
    "     \"при intercept_scaling:\", best_model_LogisticRegression.intercept_scaling,\n",
    "     \"при max_iter:\", best_model_LogisticRegression.max_iter)"
   ]
  },
  {
   "cell_type": "markdown",
   "metadata": {},
   "source": [
    "**Вывод**: мы получили значение F1-меры **0,48** при solver='liblinear', class_weight = 'balanced', penalty = 'l1',\n",
    "                                             fit_intercept = True, intercept_scaling = 1, max_iter = 100, C = 1."
   ]
  },
  {
   "cell_type": "markdown",
   "metadata": {},
   "source": [
    "### Обучение на масштабированных признаках:"
   ]
  },
  {
   "cell_type": "markdown",
   "metadata": {},
   "source": [
    "#### Модель Случайный лес:"
   ]
  },
  {
   "cell_type": "markdown",
   "metadata": {},
   "source": [
    "Попробуем улучшить работы модели, обучив её на масштабированных признаках:"
   ]
  },
  {
   "cell_type": "code",
   "execution_count": 170,
   "metadata": {},
   "outputs": [
    {
     "name": "stdout",
     "output_type": "stream",
     "text": [
      "Значение F1-меры при обучении на масштабированных признаках: 0.5767441860465116\n"
     ]
    }
   ],
   "source": [
    "model_RandomForest = RandomForestClassifier(random_state=12, n_estimators= 8, max_depth = 8,\n",
    "                                            max_features = 4, min_samples_split = 3, min_samples_leaf = 6)\n",
    "model_RandomForest.fit(features_train_scaler, target_train_scaler) # обучим модель\n",
    "predict_RandomForest_scaler = model_RandomForest.predict(features_valid_scaler)\n",
    "result_f1_scaled = f1_score(target_valid_scaler, predict_RandomForest_scaler)\n",
    "print('Значение F1-меры при обучении на масштабированных признаках:', result_f1_scaled)"
   ]
  },
  {
   "cell_type": "markdown",
   "metadata": {},
   "source": [
    "**Вывод**: применение масштабированых признаков на модели Случайный лес не дало результатов. Масштабирование применять не будем."
   ]
  },
  {
   "cell_type": "markdown",
   "metadata": {},
   "source": [
    "#### Модель Логистическая регрессия:"
   ]
  },
  {
   "cell_type": "code",
   "execution_count": 171,
   "metadata": {},
   "outputs": [
    {
     "name": "stdout",
     "output_type": "stream",
     "text": [
      "Значение F1-меры для модели \"Логистическая регрессия\": 0.5223488168273444\n"
     ]
    }
   ],
   "source": [
    "model_LogisticRegression = LogisticRegression(random_state= 12, solver='liblinear', class_weight = 'balanced', penalty = 'l1',\n",
    "                                             fit_intercept = True, intercept_scaling = 1, max_iter = 100, C = 1)\n",
    "# обучаем\n",
    "model_LogisticRegression.fit(features_train_scaler, target_train_scaler)\n",
    "# предсказываем\n",
    "predict_LogisticRegression_scaler = model_LogisticRegression.predict(features_valid_scaler) \n",
    "# вычисляем качество модели\n",
    "F1_LogisticRegression_scaler = f1_score(target_valid_scaler, predict_LogisticRegression_scaler)\n",
    "print('Значение F1-меры для модели \"Логистическая регрессия\":', F1_LogisticRegression_scaler)"
   ]
  },
  {
   "cell_type": "markdown",
   "metadata": {},
   "source": [
    "**Вывод**: применение масштабированых признаков на модели Логистическая регрерссия не дало результатов. Масштабирование применять не будем."
   ]
  },
  {
   "cell_type": "markdown",
   "metadata": {},
   "source": [
    "## Построение графиков:"
   ]
  },
  {
   "cell_type": "markdown",
   "metadata": {},
   "source": [
    "### Построение PR-кривой:"
   ]
  },
  {
   "cell_type": "markdown",
   "metadata": {},
   "source": [
    "График показывает значений *precision* и *recall* при изменении порога:"
   ]
  },
  {
   "cell_type": "code",
   "execution_count": 172,
   "metadata": {
    "scrolled": true
   },
   "outputs": [
    {
     "data": {
      "image/png": "[encoded data removed]",
      "text/plain": [
       "<Figure size 360x360 with 1 Axes>"
      ]
     },
     "metadata": {
      "needs_background": "light"
     },
     "output_type": "display_data"
    }
   ],
   "source": [
    "precision_threshold_best, recall_threshold_best, threshold = precision_recall_curve(target_valid, predict_score_one)\n",
    "plt.figure(figsize=(5, 5))\n",
    "plt.step(recall_threshold_best, precision_threshold_best, where='post')\n",
    "plt.xlabel('Recall')\n",
    "plt.ylabel('Precision')\n",
    "plt.ylim([0.0, 1.05])\n",
    "plt.xlim([0.0, 1.0])\n",
    "plt.title('Кривая Precision-Recall')\n",
    "plt.show() "
   ]
  },
  {
   "cell_type": "markdown",
   "metadata": {},
   "source": [
    "**Вывод**: при увеличении порога полнота уменьшается, точность - увеличивается."
   ]
  },
  {
   "cell_type": "markdown",
   "metadata": {},
   "source": [
    "### Построение ROC-кривой:"
   ]
  },
  {
   "cell_type": "markdown",
   "metadata": {},
   "source": [
    "Построим ROC-кривую и сравним её со случайной моделью:"
   ]
  },
  {
   "cell_type": "code",
   "execution_count": 173,
   "metadata": {
    "scrolled": true
   },
   "outputs": [
    {
     "data": {
      "image/png": "[encoded data removed]",
      "text/plain": [
       "<Figure size 432x288 with 1 Axes>"
      ]
     },
     "metadata": {
      "needs_background": "light"
     },
     "output_type": "display_data"
    }
   ],
   "source": [
    "fpr, tpr, thresholds = roc_curve(target_valid, predict_score_one)\n",
    "plt.figure()\n",
    "plt.plot(fpr, tpr)\n",
    "plt.plot([0, 1], [0, 1], linestyle='--')\n",
    "plt.xlim([0.0, 1.0])\n",
    "plt.ylim([0.0, 1.0])\n",
    "plt.xlabel('False Positive Rate')\n",
    "plt.ylabel('True Positive Rate')\n",
    "plt.title('ROC-кривая')\n",
    "plt.show()"
   ]
  },
  {
   "cell_type": "markdown",
   "metadata": {},
   "source": [
    "**Вывод**: ROC-кривая нашей модели намного выше чем график случайной модели."
   ]
  },
  {
   "cell_type": "markdown",
   "metadata": {},
   "source": [
    "Расчитаем метрику AUC-ROC:"
   ]
  },
  {
   "cell_type": "code",
   "execution_count": 174,
   "metadata": {},
   "outputs": [
    {
     "name": "stdout",
     "output_type": "stream",
     "text": [
      "Значение AUC-ROC: 0.8342161073315343\n"
     ]
    }
   ],
   "source": [
    "auc_roc = roc_auc_score(target_valid, predict_score_one)\n",
    "print('Значение ROC-AUC:', auc_roc)"
   ]
  },
  {
   "cell_type": "markdown",
   "metadata": {},
   "source": [
    "\n",
    "<div class=\"alert alert-block alert-success\">\n",
    "<b>Успех:</b> Хорошая работа с моделями! <br> Радует достаточное количество методов для борьбы с дисбалансом "
   ]
  },
  {
   "cell_type": "markdown",
   "metadata": {},
   "source": [
    "Мы улучшили метрику ROC-AUC на 2%"
   ]
  },
  {
   "cell_type": "markdown",
   "metadata": {},
   "source": [
    "<div class=\"alert alert-block alert-info\">\n",
    "\n",
    "<b>Совет:</b>  Обрати также внимание на GridSearchCv и RandomizedSearchCV, эти инструменты могут быть удобными, когда большое количество параметров, уменьшает количество необходимых выборок, и делает код более лаконичным.\n",
    "</div>"
   ]
  },
  {
   "cell_type": "markdown",
   "metadata": {},
   "source": [
    "<div class=\"alert alert-info\" style=\"border-radius: 15px; box-shadow: 4px 4px 4px; border: 1px solid \">\n",
    "  С этими методами надо разбираться самостоятельно, мы их не проходили. Может будут в следующем спринте.   </div> "
   ]
  },
  {
   "cell_type": "markdown",
   "metadata": {},
   "source": [
    "## Тестирование модели"
   ]
  },
  {
   "cell_type": "markdown",
   "metadata": {},
   "source": [
    "#### Модель случайный лес:"
   ]
  },
  {
   "cell_type": "markdown",
   "metadata": {},
   "source": [
    "Проведем финальное испытание нашей модели на тестовой выборке: "
   ]
  },
  {
   "cell_type": "code",
   "execution_count": 175,
   "metadata": {},
   "outputs": [
    {
     "name": "stdout",
     "output_type": "stream",
     "text": [
      "Значение F1-меры для модели \"Случайный лес\" на тестовой выборке: 0.616956077630235\n"
     ]
    }
   ],
   "source": [
    "model_RandomForest = RandomForestClassifier(random_state=12, n_estimators= 8, max_depth = 8,\n",
    "                                            max_features = 4, min_samples_split = 3, min_samples_leaf = 6)\n",
    "model_RandomForest.fit(features_upsampled, target_upsampled)\n",
    "# предсказываем\n",
    "predict_RandomForest_test = model_RandomForest.predict(features_test) \n",
    "# вычисляем качество модели\n",
    "F1_RandomForest_test = f1_score(target_test, predict_RandomForest_test)\n",
    "print('Значение F1-меры для модели \"Случайный лес\" на тестовой выборке:', F1_RandomForest_test)"
   ]
  },
  {
   "cell_type": "markdown",
   "metadata": {},
   "source": [
    "**Вывод**: Тестирование модели Случайный лес не дало нужного результата - на тестовой выборке результат ниже чем на валидационной. Мы не достигли минимально требуемого качества модели. Попробуем модель Логистическая регрессия."
   ]
  },
  {
   "cell_type": "markdown",
   "metadata": {},
   "source": [
    "#### Модель Логистическая регрессия:"
   ]
  },
  {
   "cell_type": "code",
   "execution_count": 176,
   "metadata": {},
   "outputs": [
    {
     "name": "stdout",
     "output_type": "stream",
     "text": [
      "Значение F1-меры для модели \"Логистическая регрессия\": 0.5051546391752578\n"
     ]
    }
   ],
   "source": [
    "model_LogisticRegression = LogisticRegression(random_state= 12, solver='liblinear', class_weight = 'balanced', penalty = 'l1',\n",
    "                                             fit_intercept = True, intercept_scaling = 1, max_iter = 100, C = 1)\n",
    "# обучаем\n",
    "model_LogisticRegression.fit(features_train_scaler, target_train_scaler)\n",
    "# предсказываем\n",
    "predict_LogisticRegression = model_LogisticRegression.predict(features_test_scaler) \n",
    "# вычисляем качество модели\n",
    "F1_LogisticRegression = f1_score(target_test_scaler, predict_LogisticRegression)\n",
    "print('Значение F1-меры для модели \"Логистическая регрессия\":', F1_LogisticRegression)"
   ]
  },
  {
   "cell_type": "markdown",
   "metadata": {},
   "source": [
    "**Вывод**: Логистическая регрессия на тестовой выборке показала результат **0,5** - это выше чем на валидационной. Но все равно мы не достигли минимального порогового значения 0,59."
   ]
  },
  {
   "cell_type": "markdown",
   "metadata": {},
   "source": [
    "#### Добавление гипрепараметра class_weight = 'balanced' в модель Случайный лес:"
   ]
  },
  {
   "cell_type": "markdown",
   "metadata": {},
   "source": [
    "Добавим в модель Случайный лес гиперпараметр **class_weight = 'balanced'**, чтобы дополнительно повысить баланс классов. Напомним, что помимо этого метода для балансировки выборки мы применили технику Downsampling:"
   ]
  },
  {
   "cell_type": "markdown",
   "metadata": {},
   "source": [
    "<div class=\"alert alert-block alert-info\">\n",
    "\n",
    "<b>Совет:</b>  `Напомним, что помимо этого метода для балансировки выборки мы применили технику Downsampling:`\n",
    "А где она применена, если модель обучается на исходных данных, а не donwsampled?\n",
    "</div>"
   ]
  },
  {
   "cell_type": "code",
   "execution_count": 177,
   "metadata": {
    "scrolled": true
   },
   "outputs": [
    {
     "name": "stdout",
     "output_type": "stream",
     "text": [
      "Значение F1-меры для модели \"Случайный лес\" на тестовой выборке: 0.617737003058104\n"
     ]
    }
   ],
   "source": [
    "model_RandomForest = RandomForestClassifier(random_state=12, n_estimators= 8, max_depth = 8,\n",
    "                                            max_features = 4, min_samples_split = 3, min_samples_leaf = 6, class_weight = 'balanced')\n",
    "model_RandomForest.fit(features_upsampled, target_upsampled)\n",
    "# предсказываем\n",
    "predict_RandomForest_test = model_RandomForest.predict(features_test) \n",
    "# вычисляем качество модели\n",
    "F1_RandomForest_test = f1_score(target_test, predict_RandomForest_test)\n",
    "print('Значение F1-меры для модели \"Случайный лес\" на тестовой выборке:', F1_RandomForest_test)"
   ]
  },
  {
   "cell_type": "markdown",
   "metadata": {},
   "source": [
    "**Вывод**: мы получили значение F1-меры **0,61** на модели Случайный лес, что выше минимального порогового значения 0,59. "
   ]
  },
  {
   "cell_type": "markdown",
   "metadata": {},
   "source": [
    "<div class=\"alert alert-info\" style=\"border-radius: 15px; box-shadow: 4px 4px 4px; border: 1px solid \">\n",
    " После заполнения пропусков подняли качество модели на 1%  </div> "
   ]
  },
  {
   "cell_type": "markdown",
   "metadata": {},
   "source": [
    "<div class=\"alert alert-block alert-success\">\n",
    "<b>Успех:</b> С тестированием все в порядке! Тебе удалось достичь хороших показателей на тесте!\n",
    "</div>\n"
   ]
  },
  {
   "cell_type": "markdown",
   "metadata": {},
   "source": [
    "<div class=\"alert alert-block alert-info\">\n",
    "<b>Совет:</b>  <br>1) Хорошо было бы собрать результаты в информативную таблицу  <br> 2) Для понимания, а какие в итоге факторы важны при моделировании, можно выводить их важность, использую feature_importances_, ну и график заодно. Это будет смотреться очнь здорово: результативная метрика и график важности факторов)))<br> Очень ВАЖНАЯ для аналитики штука. Ведь нам не просто модель с метрикой нужна, а ещё и причины понять высокой/низкой метрики. Т.е. понять с какой силой сами факторы влияют на целевую.<br> 3) Можно было бы объединить трейн+валидацию, это могло бы добавить еще качества.\n",
    "</div> \n"
   ]
  },
  {
   "cell_type": "markdown",
   "metadata": {},
   "source": [
    "<div class=\"alert alert-info\" style=\"border-radius: 15px; box-shadow: 4px 4px 4px; border: 1px solid \">\n",
    "+   По feature_importances_ буду разбираться в будущем, добавлять к себе в копилку новые методы.\n",
    "+ Не понял про объединение трэйн+валидацию. На каком этапе</div> "
   ]
  },
  {
   "cell_type": "markdown",
   "metadata": {},
   "source": [
    "<div class=\"alert alert-block alert-success\">\n",
    "<b>Ревьювер:</b> Упс забыл уточнить, это нужно делать, когда подборались гиперпараметры и настроили модели. Можем объединить их для тестирования. <br> Спасибо за доработки и ответы, удачи в дальнейшем обучении! \n"
   ]
  },
  {
   "cell_type": "markdown",
   "metadata": {},
   "source": [
    "## Чек-лист готовности проекта"
   ]
  },
  {
   "cell_type": "markdown",
   "metadata": {},
   "source": [
    "Поставьте 'x' в выполненных пунктах. Далее нажмите Shift+Enter."
   ]
  },
  {
   "cell_type": "markdown",
   "metadata": {},
   "source": [
    "- [x]  Jupyter Notebook открыт\n",
    "- [x]  Весь код выполняется без ошибок\n",
    "- [x]  Ячейки с кодом расположены в порядке исполнения\n",
    "- [x]  Выполнен шаг 1: данные подготовлены\n",
    "- [x]  Выполнен шаг 2: задача исследована\n",
    "    - [x]  Исследован баланс классов\n",
    "    - [x]  Изучены модели без учёта дисбаланса\n",
    "    - [x]  Написаны выводы по результатам исследования\n",
    "- [x]  Выполнен шаг 3: учтён дисбаланс\n",
    "    - [x]  Применено несколько способов борьбы с дисбалансом\n",
    "    - [x]  Написаны выводы по результатам исследования\n",
    "- [x]  Выполнен шаг 4: проведено тестирование\n",
    "- [x]  Удалось достичь *F1*-меры не менее 0.59\n",
    "- [x]  Исследована метрика *AUC-ROC*"
   ]
  },
  {
   "cell_type": "code",
   "execution_count": null,
   "metadata": {},
   "outputs": [],
   "source": []
  }
 ],
 "metadata": {
  "ExecuteTimeLog": [
   {
    "duration": 4,
    "start_time": "2021-09-23T22:38:23.540Z"
   },
   {
    "duration": 1453,
    "start_time": "2021-09-23T22:41:19.721Z"
   },
   {
    "duration": 37,
    "start_time": "2021-09-23T22:44:41.452Z"
   },
   {
    "duration": 60,
    "start_time": "2021-09-23T22:45:10.692Z"
   },
   {
    "duration": 12,
    "start_time": "2021-09-23T22:48:47.484Z"
   },
   {
    "duration": 9,
    "start_time": "2021-09-23T22:59:50.298Z"
   },
   {
    "duration": 16,
    "start_time": "2021-09-23T23:00:53.248Z"
   },
   {
    "duration": 8,
    "start_time": "2021-09-23T23:02:34.570Z"
   },
   {
    "duration": 9,
    "start_time": "2021-09-23T23:05:59.458Z"
   },
   {
    "duration": 37,
    "start_time": "2021-09-23T23:06:17.627Z"
   },
   {
    "duration": 35,
    "start_time": "2021-09-23T23:39:09.702Z"
   },
   {
    "duration": 10,
    "start_time": "2021-09-23T23:49:30.463Z"
   },
   {
    "duration": 11,
    "start_time": "2021-09-23T23:49:41.372Z"
   },
   {
    "duration": 10,
    "start_time": "2021-09-23T23:56:06.842Z"
   },
   {
    "duration": 538,
    "start_time": "2021-09-24T00:12:41.011Z"
   },
   {
    "duration": 6,
    "start_time": "2021-09-24T00:14:28.639Z"
   },
   {
    "duration": 19,
    "start_time": "2021-09-24T00:14:45.421Z"
   },
   {
    "duration": 131,
    "start_time": "2021-09-24T00:16:02.560Z"
   },
   {
    "duration": 134,
    "start_time": "2021-09-24T00:16:44.812Z"
   },
   {
    "duration": 20,
    "start_time": "2021-09-24T00:16:50.301Z"
   },
   {
    "duration": 52,
    "start_time": "2021-09-24T00:18:32.767Z"
   },
   {
    "duration": 6,
    "start_time": "2021-09-24T00:35:02.142Z"
   },
   {
    "duration": 19,
    "start_time": "2021-09-24T00:39:11.400Z"
   },
   {
    "duration": 24,
    "start_time": "2021-09-24T00:40:58.092Z"
   },
   {
    "duration": 22,
    "start_time": "2021-09-24T00:41:36.161Z"
   },
   {
    "duration": 643,
    "start_time": "2021-09-24T00:49:23.542Z"
   },
   {
    "duration": 33,
    "start_time": "2021-09-24T00:49:37.822Z"
   },
   {
    "duration": 32,
    "start_time": "2021-09-24T00:52:22.780Z"
   },
   {
    "duration": 27,
    "start_time": "2021-09-24T00:54:05.320Z"
   },
   {
    "duration": 25,
    "start_time": "2021-09-24T00:55:31.963Z"
   },
   {
    "duration": 26,
    "start_time": "2021-09-24T00:55:45.202Z"
   },
   {
    "duration": 394,
    "start_time": "2021-09-24T01:04:30.281Z"
   },
   {
    "duration": 9,
    "start_time": "2021-09-24T01:04:54.121Z"
   },
   {
    "duration": 9,
    "start_time": "2021-09-24T01:05:13.374Z"
   },
   {
    "duration": 1115,
    "start_time": "2021-09-26T22:05:06.734Z"
   },
   {
    "duration": 47,
    "start_time": "2021-09-26T22:05:07.851Z"
   },
   {
    "duration": 9,
    "start_time": "2021-09-26T22:05:07.901Z"
   },
   {
    "duration": 7,
    "start_time": "2021-09-26T22:05:07.912Z"
   },
   {
    "duration": 37,
    "start_time": "2021-09-26T22:05:07.920Z"
   },
   {
    "duration": 8,
    "start_time": "2021-09-26T22:05:07.959Z"
   },
   {
    "duration": 38,
    "start_time": "2021-09-26T22:05:07.968Z"
   },
   {
    "duration": 12,
    "start_time": "2021-09-26T22:05:08.007Z"
   },
   {
    "duration": 49,
    "start_time": "2021-09-26T22:05:08.021Z"
   },
   {
    "duration": 16,
    "start_time": "2021-09-26T22:05:08.072Z"
   },
   {
    "duration": 6,
    "start_time": "2021-09-26T22:05:08.089Z"
   },
   {
    "duration": 23,
    "start_time": "2021-09-26T22:16:04.962Z"
   },
   {
    "duration": 3,
    "start_time": "2021-09-26T22:20:21.420Z"
   },
   {
    "duration": 8,
    "start_time": "2021-09-26T22:22:54.229Z"
   },
   {
    "duration": 7,
    "start_time": "2021-09-26T22:23:21.540Z"
   },
   {
    "duration": 8,
    "start_time": "2021-09-26T22:24:04.288Z"
   },
   {
    "duration": 4,
    "start_time": "2021-09-26T22:31:50.087Z"
   },
   {
    "duration": 4,
    "start_time": "2021-09-26T22:33:23.259Z"
   },
   {
    "duration": 4,
    "start_time": "2021-09-26T22:34:14.829Z"
   },
   {
    "duration": 30,
    "start_time": "2021-09-26T22:50:32.260Z"
   },
   {
    "duration": 498,
    "start_time": "2021-09-26T23:07:56.569Z"
   },
   {
    "duration": 8,
    "start_time": "2021-09-26T23:08:13.479Z"
   },
   {
    "duration": 7,
    "start_time": "2021-09-26T23:10:01.699Z"
   },
   {
    "duration": 254,
    "start_time": "2021-09-26T23:10:44.529Z"
   },
   {
    "duration": 7,
    "start_time": "2021-09-26T23:10:59.694Z"
   },
   {
    "duration": 231,
    "start_time": "2021-09-26T23:11:19.969Z"
   },
   {
    "duration": 7,
    "start_time": "2021-09-26T23:11:27.568Z"
   },
   {
    "duration": 8,
    "start_time": "2021-09-26T23:12:05.089Z"
   },
   {
    "duration": 5,
    "start_time": "2021-09-26T23:25:29.768Z"
   },
   {
    "duration": 30,
    "start_time": "2021-09-26T23:30:34.289Z"
   },
   {
    "duration": 5,
    "start_time": "2021-09-26T23:31:08.668Z"
   },
   {
    "duration": 6,
    "start_time": "2021-09-26T23:37:28.628Z"
   },
   {
    "duration": 7,
    "start_time": "2021-09-27T00:06:35.806Z"
   },
   {
    "duration": 221,
    "start_time": "2021-09-27T00:07:11.708Z"
   },
   {
    "duration": 4,
    "start_time": "2021-09-27T00:07:25.007Z"
   },
   {
    "duration": 6,
    "start_time": "2021-09-27T00:07:29.888Z"
   },
   {
    "duration": 1404,
    "start_time": "2021-09-28T23:44:48.778Z"
   },
   {
    "duration": 116,
    "start_time": "2021-09-28T23:44:50.184Z"
   },
   {
    "duration": 12,
    "start_time": "2021-09-28T23:44:50.303Z"
   },
   {
    "duration": 14,
    "start_time": "2021-09-28T23:44:50.318Z"
   },
   {
    "duration": 57,
    "start_time": "2021-09-28T23:44:50.334Z"
   },
   {
    "duration": 10,
    "start_time": "2021-09-28T23:44:50.394Z"
   },
   {
    "duration": 81,
    "start_time": "2021-09-28T23:44:50.406Z"
   },
   {
    "duration": 19,
    "start_time": "2021-09-28T23:44:50.489Z"
   },
   {
    "duration": 57,
    "start_time": "2021-09-28T23:44:50.511Z"
   },
   {
    "duration": 4,
    "start_time": "2021-09-28T23:44:50.570Z"
   },
   {
    "duration": 23,
    "start_time": "2021-09-28T23:44:50.577Z"
   },
   {
    "duration": 13,
    "start_time": "2021-09-28T23:44:50.602Z"
   },
   {
    "duration": 12,
    "start_time": "2021-09-28T23:44:50.617Z"
   },
   {
    "duration": 31,
    "start_time": "2021-09-28T23:44:50.631Z"
   },
   {
    "duration": 8,
    "start_time": "2021-09-28T23:44:50.664Z"
   },
   {
    "duration": 445,
    "start_time": "2021-09-28T23:44:50.675Z"
   },
   {
    "duration": 2265,
    "start_time": "2021-09-28T23:44:48.858Z"
   },
   {
    "duration": 2257,
    "start_time": "2021-09-28T23:44:48.867Z"
   },
   {
    "duration": 2252,
    "start_time": "2021-09-28T23:44:48.874Z"
   },
   {
    "duration": 2249,
    "start_time": "2021-09-28T23:44:48.879Z"
   },
   {
    "duration": 262,
    "start_time": "2021-09-28T23:45:25.856Z"
   },
   {
    "duration": 10,
    "start_time": "2021-09-28T23:46:22.336Z"
   },
   {
    "duration": 48,
    "start_time": "2021-09-28T23:46:47.656Z"
   },
   {
    "duration": 11,
    "start_time": "2021-09-28T23:46:53.537Z"
   },
   {
    "duration": 8,
    "start_time": "2021-09-28T23:48:53.228Z"
   },
   {
    "duration": 5,
    "start_time": "2021-09-28T23:55:43.616Z"
   },
   {
    "duration": 8,
    "start_time": "2021-09-29T00:01:43.156Z"
   },
   {
    "duration": 85,
    "start_time": "2021-09-29T00:16:16.577Z"
   },
   {
    "duration": 6,
    "start_time": "2021-09-29T00:17:03.108Z"
   },
   {
    "duration": 7,
    "start_time": "2021-09-29T00:19:11.557Z"
   },
   {
    "duration": 6,
    "start_time": "2021-09-29T00:26:27.657Z"
   },
   {
    "duration": 10,
    "start_time": "2021-09-29T00:28:12.735Z"
   },
   {
    "duration": 5,
    "start_time": "2021-09-29T01:12:35.359Z"
   },
   {
    "duration": 54,
    "start_time": "2021-09-29T01:13:39.937Z"
   },
   {
    "duration": 116,
    "start_time": "2021-09-29T01:14:49.445Z"
   },
   {
    "duration": 41,
    "start_time": "2021-09-29T01:15:15.379Z"
   },
   {
    "duration": 44,
    "start_time": "2021-09-29T01:24:37.109Z"
   },
   {
    "duration": 47,
    "start_time": "2021-09-29T01:24:53.559Z"
   },
   {
    "duration": 74,
    "start_time": "2021-09-29T01:25:28.006Z"
   },
   {
    "duration": 44,
    "start_time": "2021-09-29T01:25:40.216Z"
   },
   {
    "duration": 1327,
    "start_time": "2021-09-29T23:18:23.099Z"
   },
   {
    "duration": 56,
    "start_time": "2021-09-29T23:18:24.430Z"
   },
   {
    "duration": 12,
    "start_time": "2021-09-29T23:18:24.489Z"
   },
   {
    "duration": 8,
    "start_time": "2021-09-29T23:18:24.504Z"
   },
   {
    "duration": 67,
    "start_time": "2021-09-29T23:18:24.515Z"
   },
   {
    "duration": 12,
    "start_time": "2021-09-29T23:18:24.585Z"
   },
   {
    "duration": 85,
    "start_time": "2021-09-29T23:18:24.599Z"
   },
   {
    "duration": 20,
    "start_time": "2021-09-29T23:18:24.687Z"
   },
   {
    "duration": 69,
    "start_time": "2021-09-29T23:18:24.714Z"
   },
   {
    "duration": 5,
    "start_time": "2021-09-29T23:18:24.786Z"
   },
   {
    "duration": 13,
    "start_time": "2021-09-29T23:18:24.794Z"
   },
   {
    "duration": 9,
    "start_time": "2021-09-29T23:18:24.811Z"
   },
   {
    "duration": 7,
    "start_time": "2021-09-29T23:18:24.823Z"
   },
   {
    "duration": 6,
    "start_time": "2021-09-29T23:18:24.882Z"
   },
   {
    "duration": 8,
    "start_time": "2021-09-29T23:18:24.890Z"
   },
   {
    "duration": 12,
    "start_time": "2021-09-29T23:18:24.900Z"
   },
   {
    "duration": 38,
    "start_time": "2021-09-29T23:18:24.914Z"
   },
   {
    "duration": 33,
    "start_time": "2021-09-29T23:18:24.955Z"
   },
   {
    "duration": 6,
    "start_time": "2021-09-29T23:18:24.990Z"
   },
   {
    "duration": 7,
    "start_time": "2021-09-29T23:18:24.998Z"
   },
   {
    "duration": 9,
    "start_time": "2021-09-29T23:18:25.008Z"
   },
   {
    "duration": 63,
    "start_time": "2021-09-29T23:18:25.020Z"
   },
   {
    "duration": 7,
    "start_time": "2021-09-29T23:18:25.086Z"
   },
   {
    "duration": 40,
    "start_time": "2021-09-29T23:18:25.096Z"
   },
   {
    "duration": 58,
    "start_time": "2021-09-29T23:34:28.135Z"
   },
   {
    "duration": 48,
    "start_time": "2021-09-29T23:35:21.479Z"
   },
   {
    "duration": 54,
    "start_time": "2021-09-29T23:35:47.119Z"
   },
   {
    "duration": 54,
    "start_time": "2021-09-29T23:38:39.959Z"
   },
   {
    "duration": 397,
    "start_time": "2021-09-29T23:42:51.577Z"
   },
   {
    "duration": 98,
    "start_time": "2021-09-29T23:43:02.619Z"
   },
   {
    "duration": 93,
    "start_time": "2021-09-30T00:24:47.030Z"
   },
   {
    "duration": 7,
    "start_time": "2021-09-30T00:43:07.285Z"
   },
   {
    "duration": 270,
    "start_time": "2021-09-30T00:55:31.728Z"
   },
   {
    "duration": 5,
    "start_time": "2021-09-30T00:56:08.043Z"
   },
   {
    "duration": 271,
    "start_time": "2021-09-30T00:56:17.376Z"
   },
   {
    "duration": 5,
    "start_time": "2021-09-30T00:58:01.929Z"
   },
   {
    "duration": 6,
    "start_time": "2021-09-30T00:58:04.865Z"
   },
   {
    "duration": 341,
    "start_time": "2021-09-30T00:58:15.915Z"
   },
   {
    "duration": 246,
    "start_time": "2021-09-30T00:58:34.944Z"
   },
   {
    "duration": 264,
    "start_time": "2021-09-30T01:05:22.736Z"
   },
   {
    "duration": 366,
    "start_time": "2021-09-30T01:05:56.639Z"
   },
   {
    "duration": 283,
    "start_time": "2021-09-30T01:30:34.469Z"
   },
   {
    "duration": 5,
    "start_time": "2021-09-30T01:33:46.787Z"
   },
   {
    "duration": 6,
    "start_time": "2021-09-30T01:34:18.978Z"
   },
   {
    "duration": 325,
    "start_time": "2021-09-30T01:35:19.785Z"
   },
   {
    "duration": 4,
    "start_time": "2021-09-30T01:35:34.345Z"
   },
   {
    "duration": 4,
    "start_time": "2021-09-30T01:35:37.050Z"
   },
   {
    "duration": 8,
    "start_time": "2021-09-30T01:35:51.305Z"
   },
   {
    "duration": 1383,
    "start_time": "2021-09-30T22:29:32.688Z"
   },
   {
    "duration": 140,
    "start_time": "2021-09-30T22:29:34.074Z"
   },
   {
    "duration": 12,
    "start_time": "2021-09-30T22:29:34.217Z"
   },
   {
    "duration": 9,
    "start_time": "2021-09-30T22:29:34.232Z"
   },
   {
    "duration": 51,
    "start_time": "2021-09-30T22:29:34.243Z"
   },
   {
    "duration": 11,
    "start_time": "2021-09-30T22:29:34.296Z"
   },
   {
    "duration": 90,
    "start_time": "2021-09-30T22:29:34.309Z"
   },
   {
    "duration": 19,
    "start_time": "2021-09-30T22:29:34.401Z"
   },
   {
    "duration": 58,
    "start_time": "2021-09-30T22:29:34.424Z"
   },
   {
    "duration": 5,
    "start_time": "2021-09-30T22:29:34.485Z"
   },
   {
    "duration": 16,
    "start_time": "2021-09-30T22:29:34.492Z"
   },
   {
    "duration": 17,
    "start_time": "2021-09-30T22:29:34.510Z"
   },
   {
    "duration": 15,
    "start_time": "2021-09-30T22:29:34.529Z"
   },
   {
    "duration": 5,
    "start_time": "2021-09-30T22:29:34.568Z"
   },
   {
    "duration": 15,
    "start_time": "2021-09-30T22:29:34.575Z"
   },
   {
    "duration": 19,
    "start_time": "2021-09-30T22:29:34.593Z"
   },
   {
    "duration": 383,
    "start_time": "2021-09-30T22:29:34.614Z"
   },
   {
    "duration": 2020,
    "start_time": "2021-09-30T22:29:32.980Z"
   },
   {
    "duration": 2015,
    "start_time": "2021-09-30T22:29:32.986Z"
   },
   {
    "duration": 2012,
    "start_time": "2021-09-30T22:29:32.990Z"
   },
   {
    "duration": 2008,
    "start_time": "2021-09-30T22:29:32.996Z"
   },
   {
    "duration": 2003,
    "start_time": "2021-09-30T22:29:33.002Z"
   },
   {
    "duration": 1999,
    "start_time": "2021-09-30T22:29:33.007Z"
   },
   {
    "duration": 1995,
    "start_time": "2021-09-30T22:29:33.012Z"
   },
   {
    "duration": 1991,
    "start_time": "2021-09-30T22:29:33.017Z"
   },
   {
    "duration": 1987,
    "start_time": "2021-09-30T22:29:33.022Z"
   },
   {
    "duration": 1983,
    "start_time": "2021-09-30T22:29:33.028Z"
   },
   {
    "duration": 1980,
    "start_time": "2021-09-30T22:29:33.032Z"
   },
   {
    "duration": 15,
    "start_time": "2021-09-30T22:31:12.298Z"
   },
   {
    "duration": 14,
    "start_time": "2021-09-30T22:31:35.362Z"
   },
   {
    "duration": 5,
    "start_time": "2021-09-30T22:31:40.977Z"
   },
   {
    "duration": 16,
    "start_time": "2021-09-30T22:31:42.363Z"
   },
   {
    "duration": 5,
    "start_time": "2021-09-30T22:32:22.287Z"
   },
   {
    "duration": 16,
    "start_time": "2021-09-30T22:32:26.648Z"
   },
   {
    "duration": 613,
    "start_time": "2021-09-30T22:36:38.308Z"
   },
   {
    "duration": 6,
    "start_time": "2021-09-30T22:36:46.387Z"
   },
   {
    "duration": 5,
    "start_time": "2021-09-30T22:36:51.308Z"
   },
   {
    "duration": 6,
    "start_time": "2021-09-30T22:37:06.037Z"
   },
   {
    "duration": 16,
    "start_time": "2021-09-30T22:37:09.027Z"
   },
   {
    "duration": 8,
    "start_time": "2021-09-30T22:37:46.577Z"
   },
   {
    "duration": 15,
    "start_time": "2021-09-30T22:37:48.017Z"
   },
   {
    "duration": 247,
    "start_time": "2021-09-30T22:38:13.617Z"
   },
   {
    "duration": 268,
    "start_time": "2021-09-30T22:39:41.467Z"
   },
   {
    "duration": 9,
    "start_time": "2021-09-30T22:40:04.898Z"
   },
   {
    "duration": 10,
    "start_time": "2021-09-30T22:40:24.867Z"
   },
   {
    "duration": 6,
    "start_time": "2021-09-30T22:41:48.938Z"
   },
   {
    "duration": 17,
    "start_time": "2021-09-30T22:42:05.527Z"
   },
   {
    "duration": 4,
    "start_time": "2021-09-30T22:42:16.377Z"
   },
   {
    "duration": 11,
    "start_time": "2021-09-30T22:42:17.427Z"
   },
   {
    "duration": 10,
    "start_time": "2021-09-30T22:42:19.887Z"
   },
   {
    "duration": 6,
    "start_time": "2021-09-30T22:42:23.677Z"
   },
   {
    "duration": 5,
    "start_time": "2021-09-30T22:42:24.857Z"
   },
   {
    "duration": 6,
    "start_time": "2021-09-30T22:42:26.137Z"
   },
   {
    "duration": 12,
    "start_time": "2021-09-30T22:42:30.098Z"
   },
   {
    "duration": 432,
    "start_time": "2021-09-30T22:42:44.088Z"
   },
   {
    "duration": 10,
    "start_time": "2021-09-30T22:43:42.038Z"
   },
   {
    "duration": 40,
    "start_time": "2021-09-30T22:44:06.257Z"
   },
   {
    "duration": 10,
    "start_time": "2021-09-30T22:44:20.877Z"
   },
   {
    "duration": 7,
    "start_time": "2021-09-30T22:44:24.855Z"
   },
   {
    "duration": 8,
    "start_time": "2021-09-30T22:44:32.296Z"
   },
   {
    "duration": 8,
    "start_time": "2021-09-30T22:44:37.317Z"
   },
   {
    "duration": 8,
    "start_time": "2021-09-30T22:44:39.817Z"
   },
   {
    "duration": 8,
    "start_time": "2021-09-30T22:44:44.138Z"
   },
   {
    "duration": 32,
    "start_time": "2021-09-30T22:44:49.617Z"
   },
   {
    "duration": 106,
    "start_time": "2021-09-30T22:45:04.338Z"
   },
   {
    "duration": 9,
    "start_time": "2021-09-30T22:45:38.627Z"
   },
   {
    "duration": 21,
    "start_time": "2021-09-30T22:46:26.867Z"
   },
   {
    "duration": 6,
    "start_time": "2021-09-30T22:52:01.443Z"
   },
   {
    "duration": 6,
    "start_time": "2021-09-30T22:52:07.477Z"
   },
   {
    "duration": 15,
    "start_time": "2021-09-30T22:52:30.878Z"
   },
   {
    "duration": 6,
    "start_time": "2021-09-30T22:54:22.808Z"
   },
   {
    "duration": 61,
    "start_time": "2021-09-30T22:54:22.818Z"
   },
   {
    "duration": 15,
    "start_time": "2021-09-30T22:54:22.883Z"
   },
   {
    "duration": 15,
    "start_time": "2021-09-30T22:54:22.902Z"
   },
   {
    "duration": 74,
    "start_time": "2021-09-30T22:54:22.920Z"
   },
   {
    "duration": 13,
    "start_time": "2021-09-30T22:54:22.997Z"
   },
   {
    "duration": 96,
    "start_time": "2021-09-30T22:54:23.013Z"
   },
   {
    "duration": 19,
    "start_time": "2021-09-30T22:54:23.111Z"
   },
   {
    "duration": 62,
    "start_time": "2021-09-30T22:54:23.134Z"
   },
   {
    "duration": 6,
    "start_time": "2021-09-30T22:54:23.199Z"
   },
   {
    "duration": 17,
    "start_time": "2021-09-30T22:54:23.207Z"
   },
   {
    "duration": 41,
    "start_time": "2021-09-30T22:54:23.226Z"
   },
   {
    "duration": 13,
    "start_time": "2021-09-30T22:54:23.270Z"
   },
   {
    "duration": 9,
    "start_time": "2021-09-30T22:54:23.285Z"
   },
   {
    "duration": 5,
    "start_time": "2021-09-30T22:54:23.296Z"
   },
   {
    "duration": 12,
    "start_time": "2021-09-30T22:54:23.303Z"
   },
   {
    "duration": 10,
    "start_time": "2021-09-30T22:54:23.317Z"
   },
   {
    "duration": 38,
    "start_time": "2021-09-30T22:54:23.330Z"
   },
   {
    "duration": 11,
    "start_time": "2021-09-30T22:54:23.371Z"
   },
   {
    "duration": 42,
    "start_time": "2021-09-30T22:54:23.385Z"
   },
   {
    "duration": 42,
    "start_time": "2021-09-30T22:54:23.429Z"
   },
   {
    "duration": 9,
    "start_time": "2021-09-30T22:54:23.474Z"
   },
   {
    "duration": 9,
    "start_time": "2021-09-30T22:54:23.486Z"
   },
   {
    "duration": 9,
    "start_time": "2021-09-30T22:54:23.497Z"
   },
   {
    "duration": 7,
    "start_time": "2021-09-30T22:54:23.508Z"
   },
   {
    "duration": 9,
    "start_time": "2021-09-30T22:54:23.566Z"
   },
   {
    "duration": 97,
    "start_time": "2021-09-30T22:54:23.579Z"
   },
   {
    "duration": 177,
    "start_time": "2021-09-30T22:54:23.768Z"
   },
   {
    "duration": 121,
    "start_time": "2021-09-30T22:54:23.947Z"
   },
   {
    "duration": 112,
    "start_time": "2021-09-30T22:55:10.159Z"
   },
   {
    "duration": 103,
    "start_time": "2021-09-30T22:55:14.198Z"
   },
   {
    "duration": 138,
    "start_time": "2021-09-30T22:55:33.228Z"
   },
   {
    "duration": 8,
    "start_time": "2021-09-30T22:55:47.335Z"
   },
   {
    "duration": 6,
    "start_time": "2021-09-30T22:56:32.069Z"
   },
   {
    "duration": 82,
    "start_time": "2021-09-30T22:56:32.078Z"
   },
   {
    "duration": 11,
    "start_time": "2021-09-30T22:56:32.163Z"
   },
   {
    "duration": 24,
    "start_time": "2021-09-30T22:56:32.177Z"
   },
   {
    "duration": 45,
    "start_time": "2021-09-30T22:56:32.204Z"
   },
   {
    "duration": 11,
    "start_time": "2021-09-30T22:56:32.267Z"
   },
   {
    "duration": 64,
    "start_time": "2021-09-30T22:56:32.281Z"
   },
   {
    "duration": 20,
    "start_time": "2021-09-30T22:56:32.368Z"
   },
   {
    "duration": 34,
    "start_time": "2021-09-30T22:56:32.392Z"
   },
   {
    "duration": 7,
    "start_time": "2021-09-30T22:56:32.429Z"
   },
   {
    "duration": 16,
    "start_time": "2021-09-30T22:56:32.468Z"
   },
   {
    "duration": 7,
    "start_time": "2021-09-30T22:56:32.487Z"
   },
   {
    "duration": 11,
    "start_time": "2021-09-30T22:56:32.497Z"
   },
   {
    "duration": 9,
    "start_time": "2021-09-30T22:56:32.511Z"
   },
   {
    "duration": 6,
    "start_time": "2021-09-30T22:56:32.568Z"
   },
   {
    "duration": 10,
    "start_time": "2021-09-30T22:56:32.576Z"
   },
   {
    "duration": 13,
    "start_time": "2021-09-30T22:56:32.588Z"
   },
   {
    "duration": 21,
    "start_time": "2021-09-30T22:56:32.603Z"
   },
   {
    "duration": 9,
    "start_time": "2021-09-30T22:56:32.627Z"
   },
   {
    "duration": 67,
    "start_time": "2021-09-30T22:56:32.638Z"
   },
   {
    "duration": 9,
    "start_time": "2021-09-30T22:56:32.708Z"
   },
   {
    "duration": 7,
    "start_time": "2021-09-30T22:56:32.719Z"
   },
   {
    "duration": 45,
    "start_time": "2021-09-30T22:56:32.729Z"
   },
   {
    "duration": 9,
    "start_time": "2021-09-30T22:56:32.776Z"
   },
   {
    "duration": 8,
    "start_time": "2021-09-30T22:56:32.788Z"
   },
   {
    "duration": 9,
    "start_time": "2021-09-30T22:56:40.788Z"
   },
   {
    "duration": 33,
    "start_time": "2021-09-30T22:56:45.748Z"
   },
   {
    "duration": 105,
    "start_time": "2021-09-30T22:56:56.997Z"
   },
   {
    "duration": 104,
    "start_time": "2021-09-30T22:57:06.149Z"
   },
   {
    "duration": 105,
    "start_time": "2021-09-30T22:57:23.879Z"
   },
   {
    "duration": 103,
    "start_time": "2021-09-30T22:57:33.788Z"
   },
   {
    "duration": 105,
    "start_time": "2021-09-30T22:58:00.227Z"
   },
   {
    "duration": 105,
    "start_time": "2021-09-30T22:59:23.529Z"
   },
   {
    "duration": 104,
    "start_time": "2021-09-30T23:00:19.683Z"
   },
   {
    "duration": 268,
    "start_time": "2021-09-30T23:20:53.606Z"
   },
   {
    "duration": 10,
    "start_time": "2021-09-30T23:28:11.766Z"
   },
   {
    "duration": 244,
    "start_time": "2021-09-30T23:33:24.010Z"
   },
   {
    "duration": 227,
    "start_time": "2021-09-30T23:36:09.704Z"
   },
   {
    "duration": 6,
    "start_time": "2021-09-30T23:42:03.248Z"
   },
   {
    "duration": 6,
    "start_time": "2021-09-30T23:42:21.508Z"
   },
   {
    "duration": 6,
    "start_time": "2021-09-30T23:43:07.838Z"
   },
   {
    "duration": 28,
    "start_time": "2021-09-30T23:52:47.538Z"
   },
   {
    "duration": 218,
    "start_time": "2021-09-30T23:54:27.188Z"
   },
   {
    "duration": 28,
    "start_time": "2021-09-30T23:58:27.229Z"
   },
   {
    "duration": 24,
    "start_time": "2021-10-01T00:00:41.828Z"
   },
   {
    "duration": 221,
    "start_time": "2021-10-01T00:01:09.388Z"
   },
   {
    "duration": 244,
    "start_time": "2021-10-01T00:02:07.638Z"
   },
   {
    "duration": 249,
    "start_time": "2021-10-01T00:03:23.779Z"
   },
   {
    "duration": 268,
    "start_time": "2021-10-01T00:03:48.979Z"
   },
   {
    "duration": 6,
    "start_time": "2021-10-01T00:04:33.068Z"
   },
   {
    "duration": 56,
    "start_time": "2021-10-01T00:04:33.077Z"
   },
   {
    "duration": 37,
    "start_time": "2021-10-01T00:04:33.137Z"
   },
   {
    "duration": 11,
    "start_time": "2021-10-01T00:04:33.178Z"
   },
   {
    "duration": 85,
    "start_time": "2021-10-01T00:04:33.192Z"
   },
   {
    "duration": 12,
    "start_time": "2021-10-01T00:04:33.279Z"
   },
   {
    "duration": 94,
    "start_time": "2021-10-01T00:04:33.295Z"
   },
   {
    "duration": 21,
    "start_time": "2021-10-01T00:04:33.393Z"
   },
   {
    "duration": 62,
    "start_time": "2021-10-01T00:04:33.420Z"
   },
   {
    "duration": 6,
    "start_time": "2021-10-01T00:04:33.485Z"
   },
   {
    "duration": 31,
    "start_time": "2021-10-01T00:04:33.494Z"
   },
   {
    "duration": 15,
    "start_time": "2021-10-01T00:04:33.527Z"
   },
   {
    "duration": 31,
    "start_time": "2021-10-01T00:04:33.544Z"
   },
   {
    "duration": 21,
    "start_time": "2021-10-01T00:04:33.577Z"
   },
   {
    "duration": 10,
    "start_time": "2021-10-01T00:04:33.601Z"
   },
   {
    "duration": 7,
    "start_time": "2021-10-01T00:04:33.614Z"
   },
   {
    "duration": 10,
    "start_time": "2021-10-01T00:04:33.624Z"
   },
   {
    "duration": 51,
    "start_time": "2021-10-01T00:04:33.636Z"
   },
   {
    "duration": 9,
    "start_time": "2021-10-01T00:04:33.689Z"
   },
   {
    "duration": 57,
    "start_time": "2021-10-01T00:04:33.700Z"
   },
   {
    "duration": 9,
    "start_time": "2021-10-01T00:04:33.768Z"
   },
   {
    "duration": 16,
    "start_time": "2021-10-01T00:04:33.779Z"
   },
   {
    "duration": 25,
    "start_time": "2021-10-01T00:04:33.797Z"
   },
   {
    "duration": 13,
    "start_time": "2021-10-01T00:04:33.824Z"
   },
   {
    "duration": 15,
    "start_time": "2021-10-01T00:04:33.840Z"
   },
   {
    "duration": 7,
    "start_time": "2021-10-01T00:04:33.866Z"
   },
   {
    "duration": 95,
    "start_time": "2021-10-01T00:04:33.878Z"
   },
   {
    "duration": 201,
    "start_time": "2021-10-01T00:04:33.977Z"
   },
   {
    "duration": 113,
    "start_time": "2021-10-01T00:04:34.181Z"
   },
   {
    "duration": 268,
    "start_time": "2021-10-01T00:04:34.297Z"
   },
   {
    "duration": 272,
    "start_time": "2021-10-01T00:05:51.329Z"
   },
   {
    "duration": 246,
    "start_time": "2021-10-01T00:06:03.014Z"
   },
   {
    "duration": 233,
    "start_time": "2021-10-01T00:06:09.798Z"
   },
   {
    "duration": 241,
    "start_time": "2021-10-01T00:06:35.118Z"
   },
   {
    "duration": 356,
    "start_time": "2021-10-01T00:10:24.879Z"
   },
   {
    "duration": 292,
    "start_time": "2021-10-01T00:11:18.518Z"
   },
   {
    "duration": 140,
    "start_time": "2021-10-01T00:13:09.287Z"
   },
   {
    "duration": 280,
    "start_time": "2021-10-01T00:13:23.109Z"
   },
   {
    "duration": 293,
    "start_time": "2021-10-01T00:14:19.849Z"
   },
   {
    "duration": 221,
    "start_time": "2021-10-01T00:15:52.570Z"
   },
   {
    "duration": 9,
    "start_time": "2021-10-01T00:16:17.639Z"
   },
   {
    "duration": 10,
    "start_time": "2021-10-01T00:16:50.338Z"
   },
   {
    "duration": 263,
    "start_time": "2021-10-01T00:18:27.569Z"
   },
   {
    "duration": 5,
    "start_time": "2021-10-01T00:19:27.038Z"
   },
   {
    "duration": 52,
    "start_time": "2021-10-01T00:19:27.046Z"
   },
   {
    "duration": 12,
    "start_time": "2021-10-01T00:19:27.101Z"
   },
   {
    "duration": 8,
    "start_time": "2021-10-01T00:19:27.116Z"
   },
   {
    "duration": 68,
    "start_time": "2021-10-01T00:19:27.126Z"
   },
   {
    "duration": 10,
    "start_time": "2021-10-01T00:19:27.197Z"
   },
   {
    "duration": 98,
    "start_time": "2021-10-01T00:19:27.210Z"
   },
   {
    "duration": 20,
    "start_time": "2021-10-01T00:19:27.311Z"
   },
   {
    "duration": 54,
    "start_time": "2021-10-01T00:19:27.335Z"
   },
   {
    "duration": 7,
    "start_time": "2021-10-01T00:19:27.392Z"
   },
   {
    "duration": 17,
    "start_time": "2021-10-01T00:19:27.402Z"
   },
   {
    "duration": 12,
    "start_time": "2021-10-01T00:19:27.422Z"
   },
   {
    "duration": 11,
    "start_time": "2021-10-01T00:19:27.468Z"
   },
   {
    "duration": 9,
    "start_time": "2021-10-01T00:19:27.482Z"
   },
   {
    "duration": 7,
    "start_time": "2021-10-01T00:19:27.494Z"
   },
   {
    "duration": 9,
    "start_time": "2021-10-01T00:19:27.504Z"
   },
   {
    "duration": 8,
    "start_time": "2021-10-01T00:19:27.516Z"
   },
   {
    "duration": 51,
    "start_time": "2021-10-01T00:19:27.526Z"
   },
   {
    "duration": 9,
    "start_time": "2021-10-01T00:19:27.580Z"
   },
   {
    "duration": 76,
    "start_time": "2021-10-01T00:19:27.591Z"
   },
   {
    "duration": 10,
    "start_time": "2021-10-01T00:19:27.669Z"
   },
   {
    "duration": 7,
    "start_time": "2021-10-01T00:19:27.681Z"
   },
   {
    "duration": 9,
    "start_time": "2021-10-01T00:19:27.690Z"
   },
   {
    "duration": 8,
    "start_time": "2021-10-01T00:19:27.701Z"
   },
   {
    "duration": 58,
    "start_time": "2021-10-01T00:19:27.711Z"
   },
   {
    "duration": 9,
    "start_time": "2021-10-01T00:19:27.772Z"
   },
   {
    "duration": 86,
    "start_time": "2021-10-01T00:19:27.787Z"
   },
   {
    "duration": 240,
    "start_time": "2021-10-01T00:19:27.877Z"
   },
   {
    "duration": 122,
    "start_time": "2021-10-01T00:19:28.120Z"
   },
   {
    "duration": 27,
    "start_time": "2021-10-01T00:19:28.244Z"
   },
   {
    "duration": 16,
    "start_time": "2021-10-01T00:19:56.789Z"
   },
   {
    "duration": 14,
    "start_time": "2021-10-01T00:20:17.348Z"
   },
   {
    "duration": 283,
    "start_time": "2021-10-01T00:33:53.899Z"
   },
   {
    "duration": 5,
    "start_time": "2021-10-01T00:34:21.196Z"
   },
   {
    "duration": 17,
    "start_time": "2021-10-01T00:34:30.028Z"
   },
   {
    "duration": 18,
    "start_time": "2021-10-01T00:38:15.708Z"
   },
   {
    "duration": 7,
    "start_time": "2021-10-01T01:11:20.417Z"
   },
   {
    "duration": 57,
    "start_time": "2021-10-01T01:11:36.518Z"
   },
   {
    "duration": 109,
    "start_time": "2021-10-01T01:11:44.028Z"
   },
   {
    "duration": 103,
    "start_time": "2021-10-01T01:12:21.155Z"
   },
   {
    "duration": 149,
    "start_time": "2021-10-01T01:13:33.218Z"
   },
   {
    "duration": 149,
    "start_time": "2021-10-01T01:14:16.568Z"
   },
   {
    "duration": 1592,
    "start_time": "2021-10-03T07:23:01.683Z"
   },
   {
    "duration": 60,
    "start_time": "2021-10-03T07:23:03.278Z"
   },
   {
    "duration": 11,
    "start_time": "2021-10-03T07:23:03.341Z"
   },
   {
    "duration": 24,
    "start_time": "2021-10-03T07:23:03.355Z"
   },
   {
    "duration": 44,
    "start_time": "2021-10-03T07:23:03.382Z"
   },
   {
    "duration": 10,
    "start_time": "2021-10-03T07:23:03.428Z"
   },
   {
    "duration": 82,
    "start_time": "2021-10-03T07:23:03.440Z"
   },
   {
    "duration": 20,
    "start_time": "2021-10-03T07:23:03.526Z"
   },
   {
    "duration": 45,
    "start_time": "2021-10-03T07:23:03.549Z"
   },
   {
    "duration": 27,
    "start_time": "2021-10-03T07:23:03.596Z"
   },
   {
    "duration": 27,
    "start_time": "2021-10-03T07:23:03.625Z"
   },
   {
    "duration": 23,
    "start_time": "2021-10-03T07:23:03.654Z"
   },
   {
    "duration": 18,
    "start_time": "2021-10-03T07:23:03.679Z"
   },
   {
    "duration": 10,
    "start_time": "2021-10-03T07:23:03.700Z"
   },
   {
    "duration": 5,
    "start_time": "2021-10-03T07:23:03.724Z"
   },
   {
    "duration": 12,
    "start_time": "2021-10-03T07:23:03.731Z"
   },
   {
    "duration": 7,
    "start_time": "2021-10-03T07:23:03.745Z"
   },
   {
    "duration": 20,
    "start_time": "2021-10-03T07:23:03.755Z"
   },
   {
    "duration": 10,
    "start_time": "2021-10-03T07:23:03.778Z"
   },
   {
    "duration": 70,
    "start_time": "2021-10-03T07:23:03.791Z"
   },
   {
    "duration": 11,
    "start_time": "2021-10-03T07:23:03.864Z"
   },
   {
    "duration": 9,
    "start_time": "2021-10-03T07:23:03.878Z"
   },
   {
    "duration": 11,
    "start_time": "2021-10-03T07:23:03.922Z"
   },
   {
    "duration": 13,
    "start_time": "2021-10-03T07:23:03.936Z"
   },
   {
    "duration": 10,
    "start_time": "2021-10-03T07:23:03.952Z"
   },
   {
    "duration": 10,
    "start_time": "2021-10-03T07:23:03.964Z"
   },
   {
    "duration": 148,
    "start_time": "2021-10-03T07:23:03.976Z"
   },
   {
    "duration": 202,
    "start_time": "2021-10-03T07:23:04.127Z"
   },
   {
    "duration": 110,
    "start_time": "2021-10-03T07:23:04.332Z"
   },
   {
    "duration": 18,
    "start_time": "2021-10-03T07:23:04.444Z"
   },
   {
    "duration": 170,
    "start_time": "2021-10-03T07:23:04.464Z"
   },
   {
    "duration": 450,
    "start_time": "2021-10-03T07:24:51.383Z"
   },
   {
    "duration": 23,
    "start_time": "2021-10-03T07:25:21.771Z"
   },
   {
    "duration": 20,
    "start_time": "2021-10-03T07:36:09.388Z"
   },
   {
    "duration": 25,
    "start_time": "2021-10-03T07:36:25.130Z"
   },
   {
    "duration": 20,
    "start_time": "2021-10-03T07:37:41.560Z"
   },
   {
    "duration": 20,
    "start_time": "2021-10-03T07:38:13.749Z"
   },
   {
    "duration": 21,
    "start_time": "2021-10-03T07:38:21.460Z"
   },
   {
    "duration": 21,
    "start_time": "2021-10-03T07:38:33.778Z"
   },
   {
    "duration": 19,
    "start_time": "2021-10-03T07:38:40.706Z"
   },
   {
    "duration": 19,
    "start_time": "2021-10-03T07:38:45.769Z"
   },
   {
    "duration": 24,
    "start_time": "2021-10-03T07:38:55.201Z"
   },
   {
    "duration": 20,
    "start_time": "2021-10-03T07:39:08.389Z"
   },
   {
    "duration": 19,
    "start_time": "2021-10-03T07:39:22.693Z"
   },
   {
    "duration": 21,
    "start_time": "2021-10-03T07:39:30.671Z"
   },
   {
    "duration": 20,
    "start_time": "2021-10-03T07:39:37.337Z"
   },
   {
    "duration": 21,
    "start_time": "2021-10-03T07:39:44.049Z"
   },
   {
    "duration": 23,
    "start_time": "2021-10-03T07:40:44.390Z"
   },
   {
    "duration": 20,
    "start_time": "2021-10-03T07:42:02.123Z"
   },
   {
    "duration": 21,
    "start_time": "2021-10-03T07:42:31.166Z"
   },
   {
    "duration": 21,
    "start_time": "2021-10-03T08:16:32.563Z"
   },
   {
    "duration": 21,
    "start_time": "2021-10-03T08:16:57.614Z"
   },
   {
    "duration": 20,
    "start_time": "2021-10-03T08:17:07.363Z"
   },
   {
    "duration": 20,
    "start_time": "2021-10-03T08:17:23.884Z"
   },
   {
    "duration": 64,
    "start_time": "2021-10-03T08:23:03.082Z"
   },
   {
    "duration": 60,
    "start_time": "2021-10-03T08:24:02.344Z"
   },
   {
    "duration": 3,
    "start_time": "2021-10-03T08:37:23.814Z"
   },
   {
    "duration": 1441,
    "start_time": "2021-10-03T11:48:37.726Z"
   },
   {
    "duration": 65,
    "start_time": "2021-10-03T11:48:39.170Z"
   },
   {
    "duration": 12,
    "start_time": "2021-10-03T11:48:39.238Z"
   },
   {
    "duration": 9,
    "start_time": "2021-10-03T11:48:39.253Z"
   },
   {
    "duration": 66,
    "start_time": "2021-10-03T11:48:39.264Z"
   },
   {
    "duration": 12,
    "start_time": "2021-10-03T11:48:39.333Z"
   },
   {
    "duration": 90,
    "start_time": "2021-10-03T11:48:39.348Z"
   },
   {
    "duration": 20,
    "start_time": "2021-10-03T11:48:39.441Z"
   },
   {
    "duration": 57,
    "start_time": "2021-10-03T11:48:39.466Z"
   },
   {
    "duration": 7,
    "start_time": "2021-10-03T11:48:39.527Z"
   },
   {
    "duration": 21,
    "start_time": "2021-10-03T11:48:39.537Z"
   },
   {
    "duration": 7,
    "start_time": "2021-10-03T11:48:39.560Z"
   },
   {
    "duration": 16,
    "start_time": "2021-10-03T11:48:39.570Z"
   },
   {
    "duration": 13,
    "start_time": "2021-10-03T11:48:39.622Z"
   },
   {
    "duration": 12,
    "start_time": "2021-10-03T11:48:39.637Z"
   },
   {
    "duration": 10,
    "start_time": "2021-10-03T11:48:39.651Z"
   },
   {
    "duration": 12,
    "start_time": "2021-10-03T11:48:39.664Z"
   },
   {
    "duration": 49,
    "start_time": "2021-10-03T11:48:39.678Z"
   },
   {
    "duration": 16,
    "start_time": "2021-10-03T11:48:39.730Z"
   },
   {
    "duration": 87,
    "start_time": "2021-10-03T11:48:39.749Z"
   },
   {
    "duration": 9,
    "start_time": "2021-10-03T11:48:39.838Z"
   },
   {
    "duration": 12,
    "start_time": "2021-10-03T11:48:39.849Z"
   },
   {
    "duration": 16,
    "start_time": "2021-10-03T11:48:39.863Z"
   },
   {
    "duration": 7,
    "start_time": "2021-10-03T11:48:39.881Z"
   },
   {
    "duration": 12,
    "start_time": "2021-10-03T11:48:39.918Z"
   },
   {
    "duration": 10,
    "start_time": "2021-10-03T11:48:39.933Z"
   },
   {
    "duration": 104,
    "start_time": "2021-10-03T11:48:39.951Z"
   },
   {
    "duration": 203,
    "start_time": "2021-10-03T11:48:40.121Z"
   },
   {
    "duration": 115,
    "start_time": "2021-10-03T11:48:40.328Z"
   },
   {
    "duration": 22,
    "start_time": "2021-10-03T11:48:40.445Z"
   },
   {
    "duration": 176,
    "start_time": "2021-10-03T11:48:40.469Z"
   },
   {
    "duration": 21,
    "start_time": "2021-10-03T11:48:40.648Z"
   },
   {
    "duration": 88,
    "start_time": "2021-10-03T11:48:40.671Z"
   },
   {
    "duration": 3,
    "start_time": "2021-10-03T11:48:40.761Z"
   },
   {
    "duration": 129,
    "start_time": "2021-10-03T11:52:48.330Z"
   },
   {
    "duration": 12,
    "start_time": "2021-10-03T11:57:44.560Z"
   },
   {
    "duration": 13,
    "start_time": "2021-10-03T11:59:04.385Z"
   },
   {
    "duration": 14,
    "start_time": "2021-10-03T11:59:27.794Z"
   },
   {
    "duration": 14,
    "start_time": "2021-10-03T11:59:53.595Z"
   },
   {
    "duration": 12,
    "start_time": "2021-10-03T12:00:15.099Z"
   },
   {
    "duration": 13,
    "start_time": "2021-10-03T12:00:22.001Z"
   },
   {
    "duration": 127,
    "start_time": "2021-10-03T12:27:24.293Z"
   },
   {
    "duration": 519,
    "start_time": "2021-10-03T12:27:38.291Z"
   },
   {
    "duration": 42,
    "start_time": "2021-10-03T12:28:19.924Z"
   },
   {
    "duration": 58,
    "start_time": "2021-10-03T12:31:01.494Z"
   },
   {
    "duration": 109,
    "start_time": "2021-10-03T12:31:25.131Z"
   },
   {
    "duration": 58,
    "start_time": "2021-10-03T12:32:48.201Z"
   },
   {
    "duration": 61,
    "start_time": "2021-10-03T12:43:17.620Z"
   },
   {
    "duration": 380,
    "start_time": "2021-10-03T12:44:48.728Z"
   },
   {
    "duration": 6,
    "start_time": "2021-10-03T12:45:13.519Z"
   },
   {
    "duration": 448,
    "start_time": "2021-10-03T12:45:24.358Z"
   },
   {
    "duration": 391,
    "start_time": "2021-10-03T12:45:30.668Z"
   },
   {
    "duration": 5,
    "start_time": "2021-10-03T12:45:52.838Z"
   },
   {
    "duration": 445,
    "start_time": "2021-10-03T12:46:13.057Z"
   },
   {
    "duration": 6,
    "start_time": "2021-10-03T12:46:28.811Z"
   },
   {
    "duration": 417,
    "start_time": "2021-10-03T12:47:00.841Z"
   },
   {
    "duration": 163,
    "start_time": "2021-10-03T12:47:26.371Z"
   },
   {
    "duration": 440,
    "start_time": "2021-10-03T12:47:35.063Z"
   },
   {
    "duration": 463,
    "start_time": "2021-10-03T12:47:59.733Z"
   },
   {
    "duration": 282,
    "start_time": "2021-10-03T12:48:40.642Z"
   },
   {
    "duration": 303,
    "start_time": "2021-10-03T12:53:12.302Z"
   },
   {
    "duration": 292,
    "start_time": "2021-10-03T12:53:28.424Z"
   },
   {
    "duration": 278,
    "start_time": "2021-10-03T12:53:40.973Z"
   },
   {
    "duration": 272,
    "start_time": "2021-10-03T13:16:07.923Z"
   },
   {
    "duration": 377,
    "start_time": "2021-10-03T13:16:50.925Z"
   },
   {
    "duration": 382,
    "start_time": "2021-10-03T13:17:58.410Z"
   },
   {
    "duration": 295,
    "start_time": "2021-10-03T13:25:38.932Z"
   },
   {
    "duration": 8026,
    "start_time": "2021-10-03T13:25:58.936Z"
   },
   {
    "duration": 21344,
    "start_time": "2021-10-03T13:26:37.984Z"
   },
   {
    "duration": 24511,
    "start_time": "2021-10-03T13:27:19.806Z"
   },
   {
    "duration": 32,
    "start_time": "2021-10-03T13:42:11.642Z"
   },
   {
    "duration": 33,
    "start_time": "2021-10-03T13:42:23.681Z"
   },
   {
    "duration": 33,
    "start_time": "2021-10-03T13:42:59.232Z"
   },
   {
    "duration": 35,
    "start_time": "2021-10-03T13:43:12.844Z"
   },
   {
    "duration": 35,
    "start_time": "2021-10-03T13:43:23.152Z"
   },
   {
    "duration": 317,
    "start_time": "2021-10-03T13:47:03.302Z"
   },
   {
    "duration": 264,
    "start_time": "2021-10-03T13:48:11.494Z"
   },
   {
    "duration": 301,
    "start_time": "2021-10-03T13:48:20.910Z"
   },
   {
    "duration": 1007,
    "start_time": "2021-10-03T13:48:33.195Z"
   },
   {
    "duration": 173301,
    "start_time": "2021-10-03T13:49:00.145Z"
   },
   {
    "duration": 1440,
    "start_time": "2021-10-03T23:05:09.023Z"
   },
   {
    "duration": 54,
    "start_time": "2021-10-03T23:05:10.466Z"
   },
   {
    "duration": 12,
    "start_time": "2021-10-03T23:05:10.523Z"
   },
   {
    "duration": 8,
    "start_time": "2021-10-03T23:05:10.537Z"
   },
   {
    "duration": 40,
    "start_time": "2021-10-03T23:05:10.548Z"
   },
   {
    "duration": 40,
    "start_time": "2021-10-03T23:05:10.590Z"
   },
   {
    "duration": 62,
    "start_time": "2021-10-03T23:05:10.632Z"
   },
   {
    "duration": 44,
    "start_time": "2021-10-03T23:05:10.696Z"
   },
   {
    "duration": 37,
    "start_time": "2021-10-03T23:05:10.744Z"
   },
   {
    "duration": 6,
    "start_time": "2021-10-03T23:05:10.784Z"
   },
   {
    "duration": 36,
    "start_time": "2021-10-03T23:05:10.793Z"
   },
   {
    "duration": 5,
    "start_time": "2021-10-03T23:05:10.831Z"
   },
   {
    "duration": 13,
    "start_time": "2021-10-03T23:05:10.839Z"
   },
   {
    "duration": 14,
    "start_time": "2021-10-03T23:05:10.855Z"
   },
   {
    "duration": 52,
    "start_time": "2021-10-03T23:05:10.872Z"
   },
   {
    "duration": 15,
    "start_time": "2021-10-03T23:05:10.927Z"
   },
   {
    "duration": 13,
    "start_time": "2021-10-03T23:05:10.944Z"
   },
   {
    "duration": 25,
    "start_time": "2021-10-03T23:05:10.960Z"
   },
   {
    "duration": 9,
    "start_time": "2021-10-03T23:05:10.988Z"
   },
   {
    "duration": 68,
    "start_time": "2021-10-03T23:05:11.000Z"
   },
   {
    "duration": 12,
    "start_time": "2021-10-03T23:05:11.072Z"
   },
   {
    "duration": 36,
    "start_time": "2021-10-03T23:05:11.087Z"
   },
   {
    "duration": 7,
    "start_time": "2021-10-03T23:05:11.125Z"
   },
   {
    "duration": 16,
    "start_time": "2021-10-03T23:05:11.135Z"
   },
   {
    "duration": 9,
    "start_time": "2021-10-03T23:05:11.153Z"
   },
   {
    "duration": 9,
    "start_time": "2021-10-03T23:05:11.165Z"
   },
   {
    "duration": 144,
    "start_time": "2021-10-03T23:05:11.181Z"
   },
   {
    "duration": 203,
    "start_time": "2021-10-03T23:05:11.329Z"
   },
   {
    "duration": 109,
    "start_time": "2021-10-03T23:05:11.534Z"
   },
   {
    "duration": 21,
    "start_time": "2021-10-03T23:05:11.645Z"
   },
   {
    "duration": 168,
    "start_time": "2021-10-03T23:05:11.668Z"
   },
   {
    "duration": 19,
    "start_time": "2021-10-03T23:05:11.838Z"
   },
   {
    "duration": 83,
    "start_time": "2021-10-03T23:05:11.859Z"
   },
   {
    "duration": 3,
    "start_time": "2021-10-03T23:05:11.945Z"
   },
   {
    "duration": 32,
    "start_time": "2021-10-03T23:05:11.951Z"
   },
   {
    "duration": 65,
    "start_time": "2021-10-03T23:05:11.986Z"
   },
   {
    "duration": 1349892,
    "start_time": "2021-10-03T23:10:42.936Z"
   },
   {
    "duration": 834,
    "start_time": "2021-10-04T00:08:30.122Z"
   },
   {
    "duration": 14,
    "start_time": "2021-10-04T00:09:16.221Z"
   },
   {
    "duration": 301,
    "start_time": "2021-10-04T00:09:24.564Z"
   },
   {
    "duration": 13,
    "start_time": "2021-10-04T00:13:30.775Z"
   },
   {
    "duration": 322,
    "start_time": "2021-10-04T00:13:54.834Z"
   },
   {
    "duration": 45,
    "start_time": "2021-10-04T00:14:15.574Z"
   },
   {
    "duration": 45,
    "start_time": "2021-10-04T00:14:42.444Z"
   },
   {
    "duration": 43,
    "start_time": "2021-10-04T00:16:17.882Z"
   },
   {
    "duration": 43,
    "start_time": "2021-10-04T00:21:08.887Z"
   },
   {
    "duration": 7,
    "start_time": "2021-10-04T00:23:27.327Z"
   },
   {
    "duration": 89,
    "start_time": "2021-10-04T00:32:55.037Z"
   },
   {
    "duration": 315,
    "start_time": "2021-10-04T00:35:17.826Z"
   },
   {
    "duration": 274,
    "start_time": "2021-10-04T00:42:03.969Z"
   },
   {
    "duration": 6,
    "start_time": "2021-10-04T00:42:30.541Z"
   },
   {
    "duration": 7,
    "start_time": "2021-10-04T00:42:37.619Z"
   },
   {
    "duration": 322,
    "start_time": "2021-10-04T00:50:02.909Z"
   },
   {
    "duration": 65,
    "start_time": "2021-10-04T00:50:20.191Z"
   },
   {
    "duration": 65,
    "start_time": "2021-10-04T00:50:44.687Z"
   },
   {
    "duration": 17,
    "start_time": "2021-10-04T00:52:04.303Z"
   },
   {
    "duration": 44,
    "start_time": "2021-10-04T00:52:51.527Z"
   },
   {
    "duration": 13,
    "start_time": "2021-10-04T00:58:15.614Z"
   },
   {
    "duration": 13,
    "start_time": "2021-10-04T00:59:12.832Z"
   },
   {
    "duration": 43,
    "start_time": "2021-10-04T00:59:59.330Z"
   },
   {
    "duration": 43,
    "start_time": "2021-10-04T01:00:11.060Z"
   },
   {
    "duration": 45,
    "start_time": "2021-10-04T01:00:43.329Z"
   },
   {
    "duration": 1175,
    "start_time": "2021-10-04T14:47:52.381Z"
   },
   {
    "duration": 43,
    "start_time": "2021-10-04T14:47:53.558Z"
   },
   {
    "duration": 8,
    "start_time": "2021-10-04T14:47:53.603Z"
   },
   {
    "duration": 5,
    "start_time": "2021-10-04T14:47:53.613Z"
   },
   {
    "duration": 36,
    "start_time": "2021-10-04T14:47:53.620Z"
   },
   {
    "duration": 9,
    "start_time": "2021-10-04T14:47:53.658Z"
   },
   {
    "duration": 41,
    "start_time": "2021-10-04T14:47:53.669Z"
   },
   {
    "duration": 13,
    "start_time": "2021-10-04T14:47:53.712Z"
   },
   {
    "duration": 22,
    "start_time": "2021-10-04T14:47:53.752Z"
   },
   {
    "duration": 4,
    "start_time": "2021-10-04T14:47:53.777Z"
   },
   {
    "duration": 12,
    "start_time": "2021-10-04T14:47:53.783Z"
   },
   {
    "duration": 3,
    "start_time": "2021-10-04T14:47:53.797Z"
   },
   {
    "duration": 11,
    "start_time": "2021-10-04T14:47:53.802Z"
   },
   {
    "duration": 7,
    "start_time": "2021-10-04T14:47:53.850Z"
   },
   {
    "duration": 4,
    "start_time": "2021-10-04T14:47:53.859Z"
   },
   {
    "duration": 7,
    "start_time": "2021-10-04T14:47:53.865Z"
   },
   {
    "duration": 7,
    "start_time": "2021-10-04T14:47:53.874Z"
   },
   {
    "duration": 13,
    "start_time": "2021-10-04T14:47:53.883Z"
   },
   {
    "duration": 6,
    "start_time": "2021-10-04T14:47:53.898Z"
   },
   {
    "duration": 62,
    "start_time": "2021-10-04T14:47:53.905Z"
   },
   {
    "duration": 8,
    "start_time": "2021-10-04T14:47:53.969Z"
   },
   {
    "duration": 4,
    "start_time": "2021-10-04T14:47:53.979Z"
   },
   {
    "duration": 6,
    "start_time": "2021-10-04T14:47:53.985Z"
   },
   {
    "duration": 6,
    "start_time": "2021-10-04T14:47:53.993Z"
   },
   {
    "duration": 7,
    "start_time": "2021-10-04T14:47:54.001Z"
   },
   {
    "duration": 40,
    "start_time": "2021-10-04T14:47:54.010Z"
   },
   {
    "duration": 96,
    "start_time": "2021-10-04T14:47:54.054Z"
   },
   {
    "duration": 168,
    "start_time": "2021-10-04T14:47:54.154Z"
   },
   {
    "duration": 93,
    "start_time": "2021-10-04T14:47:54.323Z"
   },
   {
    "duration": 15,
    "start_time": "2021-10-04T14:47:54.418Z"
   },
   {
    "duration": 106,
    "start_time": "2021-10-04T14:47:54.434Z"
   },
   {
    "duration": 20,
    "start_time": "2021-10-04T14:47:54.542Z"
   },
   {
    "duration": 41,
    "start_time": "2021-10-04T14:47:54.564Z"
   },
   {
    "duration": 3,
    "start_time": "2021-10-04T14:47:54.607Z"
   },
   {
    "duration": 40,
    "start_time": "2021-10-04T14:47:54.612Z"
   },
   {
    "duration": 40,
    "start_time": "2021-10-04T14:47:54.654Z"
   },
   {
    "duration": 80,
    "start_time": "2021-10-04T14:47:54.696Z"
   },
   {
    "duration": 766,
    "start_time": "2021-10-04T14:47:54.011Z"
   },
   {
    "duration": 760,
    "start_time": "2021-10-04T14:47:54.019Z"
   },
   {
    "duration": 754,
    "start_time": "2021-10-04T14:47:54.026Z"
   },
   {
    "duration": 748,
    "start_time": "2021-10-04T14:47:54.033Z"
   },
   {
    "duration": 743,
    "start_time": "2021-10-04T14:47:54.039Z"
   },
   {
    "duration": 53,
    "start_time": "2021-10-04T14:48:29.313Z"
   },
   {
    "duration": 60,
    "start_time": "2021-10-04T14:48:43.075Z"
   },
   {
    "duration": 49,
    "start_time": "2021-10-04T14:48:53.649Z"
   },
   {
    "duration": 398,
    "start_time": "2021-10-04T14:49:53.994Z"
   },
   {
    "duration": 231,
    "start_time": "2021-10-04T14:50:36.292Z"
   },
   {
    "duration": 45,
    "start_time": "2021-10-04T14:51:04.883Z"
   },
   {
    "duration": 350,
    "start_time": "2021-10-04T14:52:47.424Z"
   },
   {
    "duration": 11,
    "start_time": "2021-10-04T14:53:49.112Z"
   },
   {
    "duration": 5,
    "start_time": "2021-10-04T14:54:01.453Z"
   },
   {
    "duration": 57,
    "start_time": "2021-10-04T14:54:01.460Z"
   },
   {
    "duration": 12,
    "start_time": "2021-10-04T14:54:01.520Z"
   },
   {
    "duration": 14,
    "start_time": "2021-10-04T14:54:01.534Z"
   },
   {
    "duration": 37,
    "start_time": "2021-10-04T14:54:01.550Z"
   },
   {
    "duration": 7,
    "start_time": "2021-10-04T14:54:01.589Z"
   },
   {
    "duration": 52,
    "start_time": "2021-10-04T14:54:01.598Z"
   },
   {
    "duration": 11,
    "start_time": "2021-10-04T14:54:07.533Z"
   },
   {
    "duration": 13,
    "start_time": "2021-10-04T14:54:13.724Z"
   },
   {
    "duration": 5,
    "start_time": "2021-10-04T14:54:33.144Z"
   },
   {
    "duration": 46,
    "start_time": "2021-10-04T14:54:33.150Z"
   },
   {
    "duration": 8,
    "start_time": "2021-10-04T14:54:33.198Z"
   },
   {
    "duration": 5,
    "start_time": "2021-10-04T14:54:33.208Z"
   },
   {
    "duration": 37,
    "start_time": "2021-10-04T14:54:33.215Z"
   },
   {
    "duration": 7,
    "start_time": "2021-10-04T14:54:33.254Z"
   },
   {
    "duration": 39,
    "start_time": "2021-10-04T14:54:33.264Z"
   },
   {
    "duration": 14,
    "start_time": "2021-10-04T14:54:33.305Z"
   },
   {
    "duration": 22,
    "start_time": "2021-10-04T14:54:33.350Z"
   },
   {
    "duration": 5,
    "start_time": "2021-10-04T14:54:33.374Z"
   },
   {
    "duration": 13,
    "start_time": "2021-10-04T14:54:33.380Z"
   },
   {
    "duration": 5,
    "start_time": "2021-10-04T14:54:33.395Z"
   },
   {
    "duration": 10,
    "start_time": "2021-10-04T14:54:33.401Z"
   },
   {
    "duration": 43,
    "start_time": "2021-10-04T14:54:33.413Z"
   },
   {
    "duration": 6,
    "start_time": "2021-10-04T14:54:33.458Z"
   },
   {
    "duration": 6,
    "start_time": "2021-10-04T14:54:33.466Z"
   },
   {
    "duration": 6,
    "start_time": "2021-10-04T14:54:33.474Z"
   },
   {
    "duration": 12,
    "start_time": "2021-10-04T14:54:33.484Z"
   },
   {
    "duration": 6,
    "start_time": "2021-10-04T14:54:33.500Z"
   },
   {
    "duration": 78,
    "start_time": "2021-10-04T14:54:33.508Z"
   },
   {
    "duration": 9,
    "start_time": "2021-10-04T14:54:33.588Z"
   },
   {
    "duration": 6,
    "start_time": "2021-10-04T14:54:33.599Z"
   },
   {
    "duration": 7,
    "start_time": "2021-10-04T14:54:33.607Z"
   },
   {
    "duration": 6,
    "start_time": "2021-10-04T14:54:33.649Z"
   },
   {
    "duration": 6,
    "start_time": "2021-10-04T14:54:33.656Z"
   },
   {
    "duration": 10,
    "start_time": "2021-10-04T14:54:33.664Z"
   },
   {
    "duration": 79,
    "start_time": "2021-10-04T14:54:33.676Z"
   },
   {
    "duration": 165,
    "start_time": "2021-10-04T14:54:33.758Z"
   },
   {
    "duration": 93,
    "start_time": "2021-10-04T14:54:33.925Z"
   },
   {
    "duration": 33,
    "start_time": "2021-10-04T14:54:34.020Z"
   },
   {
    "duration": 118,
    "start_time": "2021-10-04T14:54:34.055Z"
   },
   {
    "duration": 15,
    "start_time": "2021-10-04T14:54:34.176Z"
   },
   {
    "duration": 65,
    "start_time": "2021-10-04T14:54:34.193Z"
   },
   {
    "duration": 3,
    "start_time": "2021-10-04T14:54:34.260Z"
   },
   {
    "duration": 12,
    "start_time": "2021-10-04T14:54:34.265Z"
   },
   {
    "duration": 37,
    "start_time": "2021-10-04T14:54:34.279Z"
   },
   {
    "duration": 92,
    "start_time": "2021-10-04T14:54:34.317Z"
   },
   {
    "duration": 646,
    "start_time": "2021-10-04T14:54:33.765Z"
   },
   {
    "duration": 641,
    "start_time": "2021-10-04T14:54:33.771Z"
   },
   {
    "duration": 632,
    "start_time": "2021-10-04T14:54:33.781Z"
   },
   {
    "duration": 625,
    "start_time": "2021-10-04T14:54:33.789Z"
   },
   {
    "duration": 588,
    "start_time": "2021-10-04T14:54:33.827Z"
   },
   {
    "duration": 58,
    "start_time": "2021-10-04T14:54:52.222Z"
   },
   {
    "duration": 45,
    "start_time": "2021-10-04T14:55:14.051Z"
   },
   {
    "duration": 35,
    "start_time": "2021-10-04T14:55:25.364Z"
   },
   {
    "duration": 974472,
    "start_time": "2021-10-04T14:55:53.514Z"
   },
   {
    "duration": 1218,
    "start_time": "2021-10-05T21:28:46.658Z"
   },
   {
    "duration": 42,
    "start_time": "2021-10-05T21:28:47.878Z"
   },
   {
    "duration": 9,
    "start_time": "2021-10-05T21:28:47.922Z"
   },
   {
    "duration": 22,
    "start_time": "2021-10-05T21:28:47.933Z"
   },
   {
    "duration": 24,
    "start_time": "2021-10-05T21:28:47.957Z"
   },
   {
    "duration": 8,
    "start_time": "2021-10-05T21:28:47.983Z"
   },
   {
    "duration": 68,
    "start_time": "2021-10-05T21:28:47.993Z"
   },
   {
    "duration": 14,
    "start_time": "2021-10-05T21:28:48.064Z"
   },
   {
    "duration": 23,
    "start_time": "2021-10-05T21:28:48.080Z"
   },
   {
    "duration": 5,
    "start_time": "2021-10-05T21:28:48.105Z"
   },
   {
    "duration": 13,
    "start_time": "2021-10-05T21:28:48.111Z"
   },
   {
    "duration": 6,
    "start_time": "2021-10-05T21:28:48.145Z"
   },
   {
    "duration": 12,
    "start_time": "2021-10-05T21:28:48.154Z"
   },
   {
    "duration": 6,
    "start_time": "2021-10-05T21:28:48.169Z"
   },
   {
    "duration": 5,
    "start_time": "2021-10-05T21:28:48.177Z"
   },
   {
    "duration": 7,
    "start_time": "2021-10-05T21:28:48.183Z"
   },
   {
    "duration": 12,
    "start_time": "2021-10-05T21:28:48.191Z"
   },
   {
    "duration": 40,
    "start_time": "2021-10-05T21:28:48.205Z"
   },
   {
    "duration": 9,
    "start_time": "2021-10-05T21:28:48.247Z"
   },
   {
    "duration": 38,
    "start_time": "2021-10-05T21:28:48.259Z"
   },
   {
    "duration": 7,
    "start_time": "2021-10-05T21:28:48.299Z"
   },
   {
    "duration": 38,
    "start_time": "2021-10-05T21:28:48.307Z"
   },
   {
    "duration": 8,
    "start_time": "2021-10-05T21:28:48.349Z"
   },
   {
    "duration": 12,
    "start_time": "2021-10-05T21:28:48.360Z"
   },
   {
    "duration": 10,
    "start_time": "2021-10-05T21:28:48.374Z"
   },
   {
    "duration": 9,
    "start_time": "2021-10-05T21:28:48.385Z"
   },
   {
    "duration": 59,
    "start_time": "2021-10-05T21:28:48.395Z"
   },
   {
    "duration": 213,
    "start_time": "2021-10-05T21:28:48.457Z"
   },
   {
    "duration": 89,
    "start_time": "2021-10-05T21:28:48.671Z"
   },
   {
    "duration": 16,
    "start_time": "2021-10-05T21:28:48.763Z"
   },
   {
    "duration": 132,
    "start_time": "2021-10-05T21:28:48.781Z"
   },
   {
    "duration": 15,
    "start_time": "2021-10-05T21:28:48.915Z"
   },
   {
    "duration": 61,
    "start_time": "2021-10-05T21:28:48.932Z"
   },
   {
    "duration": 2,
    "start_time": "2021-10-05T21:28:48.995Z"
   },
   {
    "duration": 16,
    "start_time": "2021-10-05T21:28:48.998Z"
   },
   {
    "duration": 63,
    "start_time": "2021-10-05T21:28:49.016Z"
   },
   {
    "duration": 1025638,
    "start_time": "2021-10-05T21:28:49.081Z"
   },
   {
    "duration": 72,
    "start_time": "2021-10-05T21:45:54.721Z"
   },
   {
    "duration": 238,
    "start_time": "2021-10-05T21:45:54.794Z"
   },
   {
    "duration": 180,
    "start_time": "2021-10-05T21:45:55.034Z"
   },
   {
    "duration": 5,
    "start_time": "2021-10-05T21:45:55.216Z"
   },
   {
    "duration": 52,
    "start_time": "2021-10-05T21:45:55.223Z"
   },
   {
    "duration": 14,
    "start_time": "2021-10-05T22:15:15.931Z"
   },
   {
    "duration": 4,
    "start_time": "2021-10-05T22:16:33.572Z"
   },
   {
    "duration": 43,
    "start_time": "2021-10-05T22:16:33.578Z"
   },
   {
    "duration": 7,
    "start_time": "2021-10-05T22:16:33.623Z"
   },
   {
    "duration": 6,
    "start_time": "2021-10-05T22:16:33.632Z"
   },
   {
    "duration": 34,
    "start_time": "2021-10-05T22:16:33.639Z"
   },
   {
    "duration": 7,
    "start_time": "2021-10-05T22:16:33.674Z"
   },
   {
    "duration": 38,
    "start_time": "2021-10-05T22:16:33.683Z"
   },
   {
    "duration": 20,
    "start_time": "2021-10-05T22:16:33.747Z"
   },
   {
    "duration": 23,
    "start_time": "2021-10-05T22:16:33.769Z"
   },
   {
    "duration": 5,
    "start_time": "2021-10-05T22:16:33.794Z"
   },
   {
    "duration": 46,
    "start_time": "2021-10-05T22:16:33.801Z"
   },
   {
    "duration": 7,
    "start_time": "2021-10-05T22:16:33.850Z"
   },
   {
    "duration": 11,
    "start_time": "2021-10-05T22:16:33.860Z"
   },
   {
    "duration": 7,
    "start_time": "2021-10-05T22:16:33.873Z"
   },
   {
    "duration": 6,
    "start_time": "2021-10-05T22:16:33.881Z"
   },
   {
    "duration": 5,
    "start_time": "2021-10-05T22:16:33.889Z"
   },
   {
    "duration": 6,
    "start_time": "2021-10-05T22:16:33.896Z"
   },
   {
    "duration": 56,
    "start_time": "2021-10-05T22:16:33.903Z"
   },
   {
    "duration": 10,
    "start_time": "2021-10-05T22:16:33.961Z"
   },
   {
    "duration": 34,
    "start_time": "2021-10-05T22:16:33.972Z"
   },
   {
    "duration": 6,
    "start_time": "2021-10-05T22:16:34.008Z"
   },
   {
    "duration": 7,
    "start_time": "2021-10-05T22:16:34.016Z"
   },
   {
    "duration": 27,
    "start_time": "2021-10-05T22:16:34.025Z"
   },
   {
    "duration": 10,
    "start_time": "2021-10-05T22:16:34.055Z"
   },
   {
    "duration": 7,
    "start_time": "2021-10-05T22:16:34.067Z"
   },
   {
    "duration": 7,
    "start_time": "2021-10-05T22:16:34.076Z"
   },
   {
    "duration": 82,
    "start_time": "2021-10-05T22:16:34.085Z"
   },
   {
    "duration": 235,
    "start_time": "2021-10-05T22:16:34.169Z"
   },
   {
    "duration": 54,
    "start_time": "2021-10-05T22:17:40.731Z"
   },
   {
    "duration": 63,
    "start_time": "2021-10-05T22:22:44.581Z"
   },
   {
    "duration": 40,
    "start_time": "2021-10-05T22:23:20.509Z"
   },
   {
    "duration": 51,
    "start_time": "2021-10-05T22:25:17.521Z"
   },
   {
    "duration": 59,
    "start_time": "2021-10-05T22:25:58.531Z"
   },
   {
    "duration": 60,
    "start_time": "2021-10-05T22:26:26.901Z"
   },
   {
    "duration": 438,
    "start_time": "2021-10-05T22:28:16.330Z"
   },
   {
    "duration": 76,
    "start_time": "2021-10-05T22:28:57.792Z"
   },
   {
    "duration": 74,
    "start_time": "2021-10-05T22:29:07.031Z"
   },
   {
    "duration": 20,
    "start_time": "2021-10-05T22:29:13.050Z"
   },
   {
    "duration": 107,
    "start_time": "2021-10-05T22:29:15.970Z"
   },
   {
    "duration": 51,
    "start_time": "2021-10-05T22:30:52.210Z"
   },
   {
    "duration": 48,
    "start_time": "2021-10-05T22:34:01.696Z"
   },
   {
    "duration": 269,
    "start_time": "2021-10-05T22:35:28.052Z"
   },
   {
    "duration": 281,
    "start_time": "2021-10-05T22:35:46.332Z"
   },
   {
    "duration": 4,
    "start_time": "2021-10-05T22:36:38.366Z"
   },
   {
    "duration": 41,
    "start_time": "2021-10-05T22:36:38.372Z"
   },
   {
    "duration": 8,
    "start_time": "2021-10-05T22:36:38.415Z"
   },
   {
    "duration": 5,
    "start_time": "2021-10-05T22:36:38.425Z"
   },
   {
    "duration": 34,
    "start_time": "2021-10-05T22:36:38.432Z"
   },
   {
    "duration": 10,
    "start_time": "2021-10-05T22:36:38.468Z"
   },
   {
    "duration": 43,
    "start_time": "2021-10-05T22:36:38.481Z"
   },
   {
    "duration": 40,
    "start_time": "2021-10-05T22:36:38.526Z"
   },
   {
    "duration": 22,
    "start_time": "2021-10-05T22:36:38.568Z"
   },
   {
    "duration": 5,
    "start_time": "2021-10-05T22:36:38.592Z"
   },
   {
    "duration": 20,
    "start_time": "2021-10-05T22:36:38.598Z"
   },
   {
    "duration": 4,
    "start_time": "2021-10-05T22:36:38.648Z"
   },
   {
    "duration": 17,
    "start_time": "2021-10-05T22:36:38.654Z"
   },
   {
    "duration": 6,
    "start_time": "2021-10-05T22:36:38.672Z"
   },
   {
    "duration": 4,
    "start_time": "2021-10-05T22:36:38.680Z"
   },
   {
    "duration": 6,
    "start_time": "2021-10-05T22:36:38.686Z"
   },
   {
    "duration": 7,
    "start_time": "2021-10-05T22:36:38.694Z"
   },
   {
    "duration": 45,
    "start_time": "2021-10-05T22:36:38.703Z"
   },
   {
    "duration": 14,
    "start_time": "2021-10-05T22:36:38.751Z"
   },
   {
    "duration": 31,
    "start_time": "2021-10-05T22:36:38.767Z"
   },
   {
    "duration": 7,
    "start_time": "2021-10-05T22:36:38.799Z"
   },
   {
    "duration": 14,
    "start_time": "2021-10-05T22:36:38.808Z"
   },
   {
    "duration": 25,
    "start_time": "2021-10-05T22:36:38.824Z"
   },
   {
    "duration": 10,
    "start_time": "2021-10-05T22:36:38.851Z"
   },
   {
    "duration": 9,
    "start_time": "2021-10-05T22:36:38.864Z"
   },
   {
    "duration": 6,
    "start_time": "2021-10-05T22:36:38.874Z"
   },
   {
    "duration": 81,
    "start_time": "2021-10-05T22:36:38.882Z"
   },
   {
    "duration": 129,
    "start_time": "2021-10-05T22:36:39.051Z"
   },
   {
    "duration": 85,
    "start_time": "2021-10-05T22:36:39.183Z"
   },
   {
    "duration": 174,
    "start_time": "2021-10-05T22:36:39.270Z"
   },
   {
    "duration": 22,
    "start_time": "2021-10-05T22:36:39.447Z"
   },
   {
    "duration": 127,
    "start_time": "2021-10-05T22:36:39.471Z"
   },
   {
    "duration": 52,
    "start_time": "2021-10-05T22:36:39.600Z"
   },
   {
    "duration": 193,
    "start_time": "2021-10-05T22:36:39.658Z"
   },
   {
    "duration": 39,
    "start_time": "2021-10-05T22:36:45.493Z"
   },
   {
    "duration": 28,
    "start_time": "2021-10-05T22:36:55.839Z"
   },
   {
    "duration": 68,
    "start_time": "2021-10-05T22:40:49.484Z"
   },
   {
    "duration": 44,
    "start_time": "2021-10-05T22:41:05.805Z"
   },
   {
    "duration": 106,
    "start_time": "2021-10-05T22:41:23.817Z"
   },
   {
    "duration": 87,
    "start_time": "2021-10-05T22:43:53.884Z"
   },
   {
    "duration": 105,
    "start_time": "2021-10-05T23:08:21.127Z"
   },
   {
    "duration": 51,
    "start_time": "2021-10-05T23:09:24.859Z"
   },
   {
    "duration": 49,
    "start_time": "2021-10-05T23:09:45.380Z"
   },
   {
    "duration": 55,
    "start_time": "2021-10-05T23:09:59.908Z"
   },
   {
    "duration": 57,
    "start_time": "2021-10-05T23:10:16.111Z"
   },
   {
    "duration": 58,
    "start_time": "2021-10-05T23:16:03.055Z"
   },
   {
    "duration": 54,
    "start_time": "2021-10-05T23:16:14.919Z"
   },
   {
    "duration": 82,
    "start_time": "2021-10-05T23:21:12.399Z"
   },
   {
    "duration": 161,
    "start_time": "2021-10-05T23:30:25.291Z"
   },
   {
    "duration": 185,
    "start_time": "2021-10-05T23:30:35.440Z"
   },
   {
    "duration": 155,
    "start_time": "2021-10-05T23:30:47.860Z"
   },
   {
    "duration": 337,
    "start_time": "2021-10-05T23:36:30.949Z"
   },
   {
    "duration": 170,
    "start_time": "2021-10-05T23:36:51.689Z"
   },
   {
    "duration": 77,
    "start_time": "2021-10-05T23:37:09.568Z"
   },
   {
    "duration": 1751,
    "start_time": "2021-10-05T23:37:29.697Z"
   },
   {
    "duration": 309,
    "start_time": "2021-10-05T23:37:46.577Z"
   },
   {
    "duration": 156,
    "start_time": "2021-10-05T23:38:08.218Z"
   },
   {
    "duration": 1695,
    "start_time": "2021-10-05T23:38:18.251Z"
   },
   {
    "duration": 1698,
    "start_time": "2021-10-05T23:39:22.646Z"
   },
   {
    "duration": 1484,
    "start_time": "2021-10-05T23:39:33.579Z"
   },
   {
    "duration": 1737,
    "start_time": "2021-10-05T23:39:44.910Z"
   },
   {
    "duration": 2097,
    "start_time": "2021-10-05T23:40:34.449Z"
   },
   {
    "duration": 2017,
    "start_time": "2021-10-05T23:41:58.129Z"
   },
   {
    "duration": 156,
    "start_time": "2021-10-05T23:42:34.240Z"
   },
   {
    "duration": 2066,
    "start_time": "2021-10-05T23:42:44.137Z"
   },
   {
    "duration": 157,
    "start_time": "2021-10-05T23:43:45.320Z"
   },
   {
    "duration": 1991,
    "start_time": "2021-10-05T23:44:00.281Z"
   },
   {
    "duration": 2029,
    "start_time": "2021-10-05T23:44:47.318Z"
   },
   {
    "duration": 285,
    "start_time": "2021-10-05T23:45:00.659Z"
   },
   {
    "duration": 1930,
    "start_time": "2021-10-05T23:45:18.417Z"
   },
   {
    "duration": 1980,
    "start_time": "2021-10-05T23:46:06.367Z"
   },
   {
    "duration": 1628,
    "start_time": "2021-10-05T23:46:23.240Z"
   },
   {
    "duration": 1959,
    "start_time": "2021-10-05T23:46:42.587Z"
   },
   {
    "duration": 1667,
    "start_time": "2021-10-05T23:46:51.698Z"
   },
   {
    "duration": 1972,
    "start_time": "2021-10-05T23:47:02.277Z"
   },
   {
    "duration": 2013,
    "start_time": "2021-10-05T23:48:16.247Z"
   },
   {
    "duration": 1986,
    "start_time": "2021-10-05T23:48:25.099Z"
   },
   {
    "duration": 2075,
    "start_time": "2021-10-05T23:49:27.471Z"
   },
   {
    "duration": 1943,
    "start_time": "2021-10-05T23:50:09.617Z"
   },
   {
    "duration": 155,
    "start_time": "2021-10-05T23:51:44.086Z"
   },
   {
    "duration": 4,
    "start_time": "2021-10-05T23:51:58.058Z"
   },
   {
    "duration": 150,
    "start_time": "2021-10-05T23:52:08.928Z"
   },
   {
    "duration": 39396,
    "start_time": "2021-10-05T23:52:39.950Z"
   },
   {
    "duration": 159,
    "start_time": "2021-10-06T00:02:13.397Z"
   },
   {
    "duration": 39538,
    "start_time": "2021-10-06T00:03:10.809Z"
   },
   {
    "duration": 24659,
    "start_time": "2021-10-06T00:04:23.196Z"
   },
   {
    "duration": 1191,
    "start_time": "2021-10-06T13:44:07.700Z"
   },
   {
    "duration": 39,
    "start_time": "2021-10-06T13:44:11.876Z"
   },
   {
    "duration": 9,
    "start_time": "2021-10-06T13:44:15.950Z"
   },
   {
    "duration": 1494,
    "start_time": "2021-10-06T22:57:39.404Z"
   },
   {
    "duration": 58,
    "start_time": "2021-10-06T22:57:40.901Z"
   },
   {
    "duration": 11,
    "start_time": "2021-10-06T22:57:40.962Z"
   },
   {
    "duration": 26,
    "start_time": "2021-10-06T22:57:40.976Z"
   },
   {
    "duration": 36,
    "start_time": "2021-10-06T22:57:41.004Z"
   },
   {
    "duration": 10,
    "start_time": "2021-10-06T22:57:41.043Z"
   },
   {
    "duration": 93,
    "start_time": "2021-10-06T22:57:41.055Z"
   },
   {
    "duration": 18,
    "start_time": "2021-10-06T22:57:41.152Z"
   },
   {
    "duration": 53,
    "start_time": "2021-10-06T22:57:41.173Z"
   },
   {
    "duration": 5,
    "start_time": "2021-10-06T22:57:41.229Z"
   },
   {
    "duration": 16,
    "start_time": "2021-10-06T22:57:41.237Z"
   },
   {
    "duration": 4,
    "start_time": "2021-10-06T22:57:41.255Z"
   },
   {
    "duration": 45,
    "start_time": "2021-10-06T22:57:41.261Z"
   },
   {
    "duration": 11,
    "start_time": "2021-10-06T22:57:41.309Z"
   },
   {
    "duration": 5,
    "start_time": "2021-10-06T22:57:41.323Z"
   },
   {
    "duration": 7,
    "start_time": "2021-10-06T22:57:41.330Z"
   },
   {
    "duration": 10,
    "start_time": "2021-10-06T22:57:41.339Z"
   },
   {
    "duration": 57,
    "start_time": "2021-10-06T22:57:41.351Z"
   },
   {
    "duration": 9,
    "start_time": "2021-10-06T22:57:41.410Z"
   },
   {
    "duration": 42,
    "start_time": "2021-10-06T22:57:41.422Z"
   },
   {
    "duration": 39,
    "start_time": "2021-10-06T22:57:41.466Z"
   },
   {
    "duration": 6,
    "start_time": "2021-10-06T22:57:41.508Z"
   },
   {
    "duration": 7,
    "start_time": "2021-10-06T22:57:41.520Z"
   },
   {
    "duration": 8,
    "start_time": "2021-10-06T22:57:41.530Z"
   },
   {
    "duration": 6,
    "start_time": "2021-10-06T22:57:41.541Z"
   },
   {
    "duration": 56,
    "start_time": "2021-10-06T22:57:41.549Z"
   },
   {
    "duration": 100,
    "start_time": "2021-10-06T22:57:41.607Z"
   },
   {
    "duration": 208,
    "start_time": "2021-10-06T22:57:41.711Z"
   },
   {
    "duration": 105,
    "start_time": "2021-10-06T22:57:41.921Z"
   },
   {
    "duration": 92,
    "start_time": "2021-10-06T22:57:42.029Z"
   },
   {
    "duration": 111,
    "start_time": "2021-10-06T22:57:42.203Z"
   },
   {
    "duration": 160,
    "start_time": "2021-10-06T22:57:42.317Z"
   },
   {
    "duration": 121,
    "start_time": "2021-10-06T22:57:42.480Z"
   },
   {
    "duration": 111,
    "start_time": "2021-10-06T22:57:42.604Z"
   },
   {
    "duration": 86,
    "start_time": "2021-10-06T22:57:42.717Z"
   },
   {
    "duration": 96,
    "start_time": "2021-10-06T22:57:42.805Z"
   },
   {
    "duration": 100,
    "start_time": "2021-10-06T22:57:42.905Z"
   },
   {
    "duration": 60,
    "start_time": "2021-10-06T22:57:43.008Z"
   },
   {
    "duration": 127,
    "start_time": "2021-10-06T22:57:43.070Z"
   },
   {
    "duration": 797,
    "start_time": "2021-10-06T22:57:42.402Z"
   },
   {
    "duration": 768,
    "start_time": "2021-10-06T22:57:42.433Z"
   },
   {
    "duration": 762,
    "start_time": "2021-10-06T22:57:42.440Z"
   },
   {
    "duration": 754,
    "start_time": "2021-10-06T22:57:42.450Z"
   },
   {
    "duration": 748,
    "start_time": "2021-10-06T22:57:42.457Z"
   },
   {
    "duration": 741,
    "start_time": "2021-10-06T22:57:42.465Z"
   },
   {
    "duration": 735,
    "start_time": "2021-10-06T22:57:42.473Z"
   },
   {
    "duration": 118,
    "start_time": "2021-10-06T23:12:12.500Z"
   },
   {
    "duration": 9509,
    "start_time": "2021-10-06T23:12:29.792Z"
   },
   {
    "duration": 120,
    "start_time": "2021-10-06T23:14:33.181Z"
   },
   {
    "duration": 250,
    "start_time": "2021-10-06T23:15:00.051Z"
   },
   {
    "duration": 211,
    "start_time": "2021-10-06T23:15:45.490Z"
   },
   {
    "duration": 221,
    "start_time": "2021-10-06T23:16:35.681Z"
   },
   {
    "duration": 407,
    "start_time": "2021-10-06T23:17:29.421Z"
   },
   {
    "duration": 564,
    "start_time": "2021-10-06T23:18:17.991Z"
   },
   {
    "duration": 274,
    "start_time": "2021-10-06T23:18:28.861Z"
   },
   {
    "duration": 217,
    "start_time": "2021-10-06T23:20:14.590Z"
   },
   {
    "duration": 25,
    "start_time": "2021-10-06T23:20:23.821Z"
   },
   {
    "duration": 214,
    "start_time": "2021-10-06T23:20:32.022Z"
   },
   {
    "duration": 215,
    "start_time": "2021-10-06T23:20:43.520Z"
   },
   {
    "duration": 218,
    "start_time": "2021-10-06T23:21:06.301Z"
   },
   {
    "duration": 221,
    "start_time": "2021-10-06T23:21:28.680Z"
   },
   {
    "duration": 243,
    "start_time": "2021-10-06T23:21:38.260Z"
   },
   {
    "duration": 234,
    "start_time": "2021-10-06T23:21:46.168Z"
   },
   {
    "duration": 222,
    "start_time": "2021-10-06T23:21:51.280Z"
   },
   {
    "duration": 2252,
    "start_time": "2021-10-06T23:22:40.951Z"
   },
   {
    "duration": 134766,
    "start_time": "2021-10-06T23:23:16.039Z"
   },
   {
    "duration": 153,
    "start_time": "2021-10-06T23:26:54.479Z"
   },
   {
    "duration": 214,
    "start_time": "2021-10-06T23:27:08.910Z"
   },
   {
    "duration": 261,
    "start_time": "2021-10-06T23:32:48.046Z"
   },
   {
    "duration": 13,
    "start_time": "2021-10-06T23:33:41.951Z"
   },
   {
    "duration": 213,
    "start_time": "2021-10-06T23:35:26.182Z"
   },
   {
    "duration": 61080,
    "start_time": "2021-10-06T23:35:46.720Z"
   },
   {
    "duration": 60722,
    "start_time": "2021-10-06T23:37:32.200Z"
   },
   {
    "duration": 231,
    "start_time": "2021-10-06T23:39:46.271Z"
   },
   {
    "duration": 214,
    "start_time": "2021-10-06T23:40:03.721Z"
   },
   {
    "duration": 261,
    "start_time": "2021-10-06T23:40:24.127Z"
   },
   {
    "duration": 210,
    "start_time": "2021-10-06T23:41:38.292Z"
   },
   {
    "duration": 240,
    "start_time": "2021-10-06T23:41:44.361Z"
   },
   {
    "duration": 250,
    "start_time": "2021-10-06T23:42:24.551Z"
   },
   {
    "duration": 220,
    "start_time": "2021-10-06T23:43:06.901Z"
   },
   {
    "duration": -103,
    "start_time": "2021-10-07T01:15:03.502Z"
   },
   {
    "duration": 119,
    "start_time": "2021-10-07T22:21:09.274Z"
   },
   {
    "duration": 1472,
    "start_time": "2021-10-07T22:21:25.425Z"
   },
   {
    "duration": 7,
    "start_time": "2021-10-07T22:22:53.093Z"
   },
   {
    "duration": 64,
    "start_time": "2021-10-07T22:22:53.102Z"
   },
   {
    "duration": 15,
    "start_time": "2021-10-07T22:22:53.170Z"
   },
   {
    "duration": 8,
    "start_time": "2021-10-07T22:22:53.188Z"
   },
   {
    "duration": 71,
    "start_time": "2021-10-07T22:22:53.198Z"
   },
   {
    "duration": 11,
    "start_time": "2021-10-07T22:22:53.272Z"
   },
   {
    "duration": 90,
    "start_time": "2021-10-07T22:22:53.285Z"
   },
   {
    "duration": 19,
    "start_time": "2021-10-07T22:22:53.377Z"
   },
   {
    "duration": 65,
    "start_time": "2021-10-07T22:22:53.400Z"
   },
   {
    "duration": 6,
    "start_time": "2021-10-07T22:22:53.468Z"
   },
   {
    "duration": 19,
    "start_time": "2021-10-07T22:22:53.476Z"
   },
   {
    "duration": 5,
    "start_time": "2021-10-07T22:22:53.498Z"
   },
   {
    "duration": 52,
    "start_time": "2021-10-07T22:22:53.505Z"
   },
   {
    "duration": 10,
    "start_time": "2021-10-07T22:22:53.560Z"
   },
   {
    "duration": 5,
    "start_time": "2021-10-07T22:22:53.573Z"
   },
   {
    "duration": 11,
    "start_time": "2021-10-07T22:22:53.581Z"
   },
   {
    "duration": 9,
    "start_time": "2021-10-07T22:22:53.595Z"
   },
   {
    "duration": 16,
    "start_time": "2021-10-07T22:22:53.606Z"
   },
   {
    "duration": 39,
    "start_time": "2021-10-07T22:22:53.625Z"
   },
   {
    "duration": 41,
    "start_time": "2021-10-07T22:22:53.667Z"
   },
   {
    "duration": 10,
    "start_time": "2021-10-07T22:22:53.711Z"
   },
   {
    "duration": 40,
    "start_time": "2021-10-07T22:22:53.723Z"
   },
   {
    "duration": 9,
    "start_time": "2021-10-07T22:22:53.765Z"
   },
   {
    "duration": 8,
    "start_time": "2021-10-07T22:22:53.776Z"
   },
   {
    "duration": 7,
    "start_time": "2021-10-07T22:22:53.787Z"
   },
   {
    "duration": 7,
    "start_time": "2021-10-07T22:22:53.797Z"
   },
   {
    "duration": 105,
    "start_time": "2021-10-07T22:22:53.859Z"
   },
   {
    "duration": 203,
    "start_time": "2021-10-07T22:22:53.968Z"
   },
   {
    "duration": 111,
    "start_time": "2021-10-07T22:22:54.174Z"
   },
   {
    "duration": 86,
    "start_time": "2021-10-07T22:22:54.288Z"
   },
   {
    "duration": 113,
    "start_time": "2021-10-07T22:22:54.458Z"
   },
   {
    "duration": 160,
    "start_time": "2021-10-07T22:22:54.574Z"
   },
   {
    "duration": 121,
    "start_time": "2021-10-07T22:22:54.737Z"
   },
   {
    "duration": 110,
    "start_time": "2021-10-07T22:22:54.861Z"
   },
   {
    "duration": 90,
    "start_time": "2021-10-07T22:22:54.974Z"
   },
   {
    "duration": 92,
    "start_time": "2021-10-07T22:22:55.066Z"
   },
   {
    "duration": 101,
    "start_time": "2021-10-07T22:22:55.161Z"
   },
   {
    "duration": 58,
    "start_time": "2021-10-07T22:22:55.264Z"
   },
   {
    "duration": 114,
    "start_time": "2021-10-07T22:22:55.325Z"
   },
   {
    "duration": 210,
    "start_time": "2021-10-07T22:23:23.263Z"
   },
   {
    "duration": 262,
    "start_time": "2021-10-07T22:23:34.496Z"
   },
   {
    "duration": 235,
    "start_time": "2021-10-07T22:23:42.025Z"
   },
   {
    "duration": 6,
    "start_time": "2021-10-07T22:24:33.858Z"
   },
   {
    "duration": 67,
    "start_time": "2021-10-07T22:29:51.495Z"
   },
   {
    "duration": 207,
    "start_time": "2021-10-07T22:32:26.052Z"
   },
   {
    "duration": 40,
    "start_time": "2021-10-07T22:34:06.914Z"
   },
   {
    "duration": 257,
    "start_time": "2021-10-07T22:35:34.985Z"
   },
   {
    "duration": 248,
    "start_time": "2021-10-07T22:35:38.695Z"
   },
   {
    "duration": 7,
    "start_time": "2021-10-07T22:35:42.184Z"
   },
   {
    "duration": 70,
    "start_time": "2021-10-07T22:35:46.315Z"
   },
   {
    "duration": 70,
    "start_time": "2021-10-07T22:36:11.395Z"
   },
   {
    "duration": 200,
    "start_time": "2021-10-07T22:37:52.874Z"
   },
   {
    "duration": 73,
    "start_time": "2021-10-07T22:47:04.255Z"
   },
   {
    "duration": 1493,
    "start_time": "2021-10-08T12:12:50.840Z"
   },
   {
    "duration": 64,
    "start_time": "2021-10-08T12:12:52.335Z"
   },
   {
    "duration": 12,
    "start_time": "2021-10-08T12:12:54.708Z"
   },
   {
    "duration": 9,
    "start_time": "2021-10-08T12:12:57.239Z"
   },
   {
    "duration": 39,
    "start_time": "2021-10-08T12:13:02.048Z"
   },
   {
    "duration": 10,
    "start_time": "2021-10-08T12:13:10.328Z"
   },
   {
    "duration": 389,
    "start_time": "2021-10-08T12:18:52.838Z"
   },
   {
    "duration": 276,
    "start_time": "2021-10-08T12:19:04.927Z"
   },
   {
    "duration": 5,
    "start_time": "2021-10-08T12:21:47.229Z"
   },
   {
    "duration": 5,
    "start_time": "2021-10-08T12:21:52.658Z"
   },
   {
    "duration": 6,
    "start_time": "2021-10-08T12:28:05.339Z"
   },
   {
    "duration": 3,
    "start_time": "2021-10-08T12:28:26.488Z"
   },
   {
    "duration": 7,
    "start_time": "2021-10-08T12:31:52.859Z"
   },
   {
    "duration": 63,
    "start_time": "2021-10-08T13:15:58.048Z"
   },
   {
    "duration": 19,
    "start_time": "2021-10-08T13:16:08.036Z"
   },
   {
    "duration": 252,
    "start_time": "2021-10-08T13:20:21.229Z"
   },
   {
    "duration": 16,
    "start_time": "2021-10-08T13:21:17.498Z"
   },
   {
    "duration": 265,
    "start_time": "2021-10-08T13:22:12.818Z"
   },
   {
    "duration": 6,
    "start_time": "2021-10-08T13:22:30.068Z"
   },
   {
    "duration": 49,
    "start_time": "2021-10-08T13:22:30.089Z"
   },
   {
    "duration": 15,
    "start_time": "2021-10-08T13:22:30.141Z"
   },
   {
    "duration": 16,
    "start_time": "2021-10-08T13:22:30.159Z"
   },
   {
    "duration": 42,
    "start_time": "2021-10-08T13:22:30.178Z"
   },
   {
    "duration": 7,
    "start_time": "2021-10-08T13:22:30.639Z"
   },
   {
    "duration": 12,
    "start_time": "2021-10-08T13:22:30.648Z"
   },
   {
    "duration": 66,
    "start_time": "2021-10-08T13:22:30.663Z"
   },
   {
    "duration": 6,
    "start_time": "2021-10-08T13:22:35.105Z"
   },
   {
    "duration": 17,
    "start_time": "2021-10-08T13:22:38.398Z"
   },
   {
    "duration": 264,
    "start_time": "2021-10-08T13:23:29.708Z"
   },
   {
    "duration": 6,
    "start_time": "2021-10-08T13:23:39.118Z"
   },
   {
    "duration": 72,
    "start_time": "2021-10-08T13:23:39.126Z"
   },
   {
    "duration": 11,
    "start_time": "2021-10-08T13:23:39.201Z"
   },
   {
    "duration": 9,
    "start_time": "2021-10-08T13:23:39.215Z"
   },
   {
    "duration": 65,
    "start_time": "2021-10-08T13:23:39.226Z"
   },
   {
    "duration": 7,
    "start_time": "2021-10-08T13:23:39.294Z"
   },
   {
    "duration": 4,
    "start_time": "2021-10-08T13:23:39.304Z"
   },
   {
    "duration": 101,
    "start_time": "2021-10-08T13:23:39.310Z"
   },
   {
    "duration": 7,
    "start_time": "2021-10-08T13:23:43.627Z"
   },
   {
    "duration": 17,
    "start_time": "2021-10-08T13:23:45.257Z"
   },
   {
    "duration": 34,
    "start_time": "2021-10-08T13:25:19.808Z"
   },
   {
    "duration": 7,
    "start_time": "2021-10-08T13:25:28.098Z"
   },
   {
    "duration": 16,
    "start_time": "2021-10-08T13:25:31.148Z"
   },
   {
    "duration": 5,
    "start_time": "2021-10-08T13:25:36.777Z"
   },
   {
    "duration": 14,
    "start_time": "2021-10-08T13:25:43.368Z"
   },
   {
    "duration": 9,
    "start_time": "2021-10-08T13:25:47.376Z"
   },
   {
    "duration": 6,
    "start_time": "2021-10-08T13:26:00.492Z"
   },
   {
    "duration": 6,
    "start_time": "2021-10-08T13:26:02.372Z"
   },
   {
    "duration": 5,
    "start_time": "2021-10-08T13:26:04.188Z"
   },
   {
    "duration": 15,
    "start_time": "2021-10-08T13:26:10.868Z"
   },
   {
    "duration": 9,
    "start_time": "2021-10-08T13:26:37.804Z"
   },
   {
    "duration": 46,
    "start_time": "2021-10-08T13:26:47.648Z"
   },
   {
    "duration": 10,
    "start_time": "2021-10-08T13:26:51.198Z"
   },
   {
    "duration": 7,
    "start_time": "2021-10-08T13:26:54.198Z"
   },
   {
    "duration": 8,
    "start_time": "2021-10-08T13:26:58.085Z"
   },
   {
    "duration": 8,
    "start_time": "2021-10-08T13:27:02.217Z"
   },
   {
    "duration": 8,
    "start_time": "2021-10-08T13:27:04.159Z"
   },
   {
    "duration": 7,
    "start_time": "2021-10-08T13:27:10.082Z"
   },
   {
    "duration": 112,
    "start_time": "2021-10-08T13:27:21.358Z"
   },
   {
    "duration": 115,
    "start_time": "2021-10-08T13:27:26.757Z"
   },
   {
    "duration": 109,
    "start_time": "2021-10-08T13:29:49.408Z"
   },
   {
    "duration": 121,
    "start_time": "2021-10-08T13:29:54.448Z"
   },
   {
    "duration": 116,
    "start_time": "2021-10-08T13:30:02.068Z"
   },
   {
    "duration": 20,
    "start_time": "2021-10-08T13:30:23.078Z"
   },
   {
    "duration": 159,
    "start_time": "2021-10-08T13:30:27.686Z"
   },
   {
    "duration": 129,
    "start_time": "2021-10-08T13:30:41.538Z"
   },
   {
    "duration": 23,
    "start_time": "2021-10-08T13:30:47.106Z"
   },
   {
    "duration": 65,
    "start_time": "2021-10-08T13:30:55.858Z"
   },
   {
    "duration": 66,
    "start_time": "2021-10-08T13:31:11.258Z"
   },
   {
    "duration": 33,
    "start_time": "2021-10-08T13:31:14.338Z"
   },
   {
    "duration": 14,
    "start_time": "2021-10-08T13:31:21.573Z"
   },
   {
    "duration": 13,
    "start_time": "2021-10-08T13:31:57.468Z"
   },
   {
    "duration": 90,
    "start_time": "2021-10-08T13:32:53.578Z"
   },
   {
    "duration": 13,
    "start_time": "2021-10-08T13:32:58.148Z"
   },
   {
    "duration": 61,
    "start_time": "2021-10-08T13:33:01.968Z"
   },
   {
    "duration": 76,
    "start_time": "2021-10-08T13:33:32.888Z"
   },
   {
    "duration": 27,
    "start_time": "2021-10-08T13:34:03.858Z"
   },
   {
    "duration": 274,
    "start_time": "2021-10-08T13:34:12.168Z"
   },
   {
    "duration": 265,
    "start_time": "2021-10-08T13:34:15.865Z"
   },
   {
    "duration": 7,
    "start_time": "2021-10-08T13:34:22.025Z"
   },
   {
    "duration": 7,
    "start_time": "2021-10-08T13:34:27.927Z"
   },
   {
    "duration": 80,
    "start_time": "2021-10-08T13:34:47.828Z"
   },
   {
    "duration": 285,
    "start_time": "2021-10-08T13:34:56.483Z"
   },
   {
    "duration": 81,
    "start_time": "2021-10-08T13:35:05.138Z"
   },
   {
    "duration": 116,
    "start_time": "2021-10-08T13:36:46.368Z"
   },
   {
    "duration": 81,
    "start_time": "2021-10-08T13:36:57.665Z"
   },
   {
    "duration": 113,
    "start_time": "2021-10-08T13:37:05.888Z"
   },
   {
    "duration": 30,
    "start_time": "2021-10-08T13:39:29.668Z"
   },
   {
    "duration": 26,
    "start_time": "2021-10-08T13:39:59.708Z"
   },
   {
    "duration": 15,
    "start_time": "2021-10-08T13:41:30.698Z"
   },
   {
    "duration": 15,
    "start_time": "2021-10-08T13:41:41.747Z"
   },
   {
    "duration": 13,
    "start_time": "2021-10-08T13:44:02.306Z"
   },
   {
    "duration": 6,
    "start_time": "2021-10-08T13:44:06.828Z"
   },
   {
    "duration": 54,
    "start_time": "2021-10-08T13:44:06.836Z"
   },
   {
    "duration": 11,
    "start_time": "2021-10-08T13:44:06.893Z"
   },
   {
    "duration": 8,
    "start_time": "2021-10-08T13:44:06.907Z"
   },
   {
    "duration": 71,
    "start_time": "2021-10-08T13:44:06.918Z"
   },
   {
    "duration": 7,
    "start_time": "2021-10-08T13:44:07.308Z"
   },
   {
    "duration": 12,
    "start_time": "2021-10-08T13:44:07.317Z"
   },
   {
    "duration": 65,
    "start_time": "2021-10-08T13:44:07.332Z"
   },
   {
    "duration": 6,
    "start_time": "2021-10-08T13:44:07.399Z"
   },
   {
    "duration": 16,
    "start_time": "2021-10-08T13:44:07.828Z"
   },
   {
    "duration": 36,
    "start_time": "2021-10-08T13:44:07.847Z"
   },
   {
    "duration": 7,
    "start_time": "2021-10-08T13:44:07.886Z"
   },
   {
    "duration": 18,
    "start_time": "2021-10-08T13:44:07.895Z"
   },
   {
    "duration": 6,
    "start_time": "2021-10-08T13:44:07.916Z"
   },
   {
    "duration": 50,
    "start_time": "2021-10-08T13:44:07.924Z"
   },
   {
    "duration": 10,
    "start_time": "2021-10-08T13:44:07.976Z"
   },
   {
    "duration": 6,
    "start_time": "2021-10-08T13:44:07.989Z"
   },
   {
    "duration": 7,
    "start_time": "2021-10-08T13:44:07.998Z"
   },
   {
    "duration": 16,
    "start_time": "2021-10-08T13:44:08.007Z"
   },
   {
    "duration": 55,
    "start_time": "2021-10-08T13:44:08.026Z"
   },
   {
    "duration": 8,
    "start_time": "2021-10-08T13:44:08.083Z"
   },
   {
    "duration": 74,
    "start_time": "2021-10-08T13:44:08.093Z"
   },
   {
    "duration": 9,
    "start_time": "2021-10-08T13:44:08.170Z"
   },
   {
    "duration": 10,
    "start_time": "2021-10-08T13:44:08.181Z"
   },
   {
    "duration": 8,
    "start_time": "2021-10-08T13:44:08.194Z"
   },
   {
    "duration": 12,
    "start_time": "2021-10-08T13:44:08.205Z"
   },
   {
    "duration": 47,
    "start_time": "2021-10-08T13:44:08.220Z"
   },
   {
    "duration": 10,
    "start_time": "2021-10-08T13:44:08.270Z"
   },
   {
    "duration": 102,
    "start_time": "2021-10-08T13:44:08.283Z"
   },
   {
    "duration": 211,
    "start_time": "2021-10-08T13:44:08.469Z"
   },
   {
    "duration": 15,
    "start_time": "2021-10-08T13:44:12.073Z"
   },
   {
    "duration": 7,
    "start_time": "2021-10-08T13:44:56.937Z"
   },
   {
    "duration": 51,
    "start_time": "2021-10-08T13:44:56.946Z"
   },
   {
    "duration": 12,
    "start_time": "2021-10-08T13:44:57.000Z"
   },
   {
    "duration": 8,
    "start_time": "2021-10-08T13:44:57.015Z"
   },
   {
    "duration": 60,
    "start_time": "2021-10-08T13:44:57.026Z"
   },
   {
    "duration": 6,
    "start_time": "2021-10-08T13:44:57.089Z"
   },
   {
    "duration": 6,
    "start_time": "2021-10-08T13:44:57.097Z"
   },
   {
    "duration": 99,
    "start_time": "2021-10-08T13:44:57.105Z"
   },
   {
    "duration": 5,
    "start_time": "2021-10-08T13:44:57.208Z"
   },
   {
    "duration": 18,
    "start_time": "2021-10-08T13:44:57.216Z"
   },
   {
    "duration": 64,
    "start_time": "2021-10-08T13:44:57.237Z"
   },
   {
    "duration": 7,
    "start_time": "2021-10-08T13:44:57.303Z"
   },
   {
    "duration": 22,
    "start_time": "2021-10-08T13:44:57.312Z"
   },
   {
    "duration": 34,
    "start_time": "2021-10-08T13:44:57.336Z"
   },
   {
    "duration": 14,
    "start_time": "2021-10-08T13:44:57.373Z"
   },
   {
    "duration": 9,
    "start_time": "2021-10-08T13:44:57.390Z"
   },
   {
    "duration": 7,
    "start_time": "2021-10-08T13:44:57.401Z"
   },
   {
    "duration": 57,
    "start_time": "2021-10-08T13:44:57.410Z"
   },
   {
    "duration": 6,
    "start_time": "2021-10-08T13:44:57.470Z"
   },
   {
    "duration": 20,
    "start_time": "2021-10-08T13:44:57.478Z"
   },
   {
    "duration": 9,
    "start_time": "2021-10-08T13:44:57.500Z"
   },
   {
    "duration": 79,
    "start_time": "2021-10-08T13:44:57.511Z"
   },
   {
    "duration": 8,
    "start_time": "2021-10-08T13:44:57.593Z"
   },
   {
    "duration": 11,
    "start_time": "2021-10-08T13:44:57.604Z"
   },
   {
    "duration": 8,
    "start_time": "2021-10-08T13:44:57.617Z"
   },
   {
    "duration": 39,
    "start_time": "2021-10-08T13:44:57.628Z"
   },
   {
    "duration": 8,
    "start_time": "2021-10-08T13:44:57.673Z"
   },
   {
    "duration": 7,
    "start_time": "2021-10-08T13:44:57.685Z"
   },
   {
    "duration": 171,
    "start_time": "2021-10-08T13:44:57.695Z"
   },
   {
    "duration": 218,
    "start_time": "2021-10-08T13:44:57.870Z"
   },
   {
    "duration": 17,
    "start_time": "2021-10-08T13:44:58.091Z"
   },
   {
    "duration": 138,
    "start_time": "2021-10-08T13:44:58.110Z"
   },
   {
    "duration": 127,
    "start_time": "2021-10-08T13:44:58.251Z"
   },
   {
    "duration": 22,
    "start_time": "2021-10-08T13:44:58.468Z"
   },
   {
    "duration": 218,
    "start_time": "2021-10-08T13:44:58.493Z"
   },
   {
    "duration": 154,
    "start_time": "2021-10-08T13:44:58.713Z"
   },
   {
    "duration": 110,
    "start_time": "2021-10-08T13:44:58.871Z"
   },
   {
    "duration": 86,
    "start_time": "2021-10-08T13:44:58.984Z"
   },
   {
    "duration": 95,
    "start_time": "2021-10-08T13:44:59.072Z"
   },
   {
    "duration": 104,
    "start_time": "2021-10-08T13:44:59.170Z"
   },
   {
    "duration": 63,
    "start_time": "2021-10-08T13:44:59.276Z"
   },
   {
    "duration": 1237,
    "start_time": "2021-10-08T13:44:59.341Z"
   },
   {
    "duration": -317,
    "start_time": "2021-10-08T13:45:00.897Z"
   },
   {
    "duration": -328,
    "start_time": "2021-10-08T13:45:00.910Z"
   },
   {
    "duration": -335,
    "start_time": "2021-10-08T13:45:00.919Z"
   },
   {
    "duration": -345,
    "start_time": "2021-10-08T13:45:00.930Z"
   },
   {
    "duration": -353,
    "start_time": "2021-10-08T13:45:00.940Z"
   },
   {
    "duration": -362,
    "start_time": "2021-10-08T13:45:00.950Z"
   },
   {
    "duration": -370,
    "start_time": "2021-10-08T13:45:00.959Z"
   },
   {
    "duration": -378,
    "start_time": "2021-10-08T13:45:00.969Z"
   },
   {
    "duration": -386,
    "start_time": "2021-10-08T13:45:00.978Z"
   },
   {
    "duration": 23,
    "start_time": "2021-10-08T13:45:20.498Z"
   },
   {
    "duration": 66,
    "start_time": "2021-10-08T13:45:23.348Z"
   },
   {
    "duration": 31,
    "start_time": "2021-10-08T13:45:26.657Z"
   },
   {
    "duration": 6,
    "start_time": "2021-10-08T13:45:43.568Z"
   },
   {
    "duration": 76,
    "start_time": "2021-10-08T13:45:49.097Z"
   },
   {
    "duration": 26,
    "start_time": "2021-10-08T13:45:53.618Z"
   },
   {
    "duration": 267,
    "start_time": "2021-10-08T13:46:12.875Z"
   },
   {
    "duration": 266,
    "start_time": "2021-10-08T13:46:16.218Z"
   },
   {
    "duration": 8,
    "start_time": "2021-10-08T13:46:19.377Z"
   },
   {
    "duration": 112,
    "start_time": "2021-10-08T13:49:24.928Z"
   },
   {
    "duration": 25,
    "start_time": "2021-10-08T13:49:28.588Z"
   },
   {
    "duration": 113,
    "start_time": "2021-10-08T13:49:31.997Z"
   }
  ],
  "kernelspec": {
   "display_name": "Python 3 (ipykernel)",
   "language": "python",
   "name": "python3"
  },
  "language_info": {
   "codemirror_mode": {
    "name": "ipython",
    "version": 3
   },
   "file_extension": ".py",
   "mimetype": "text/x-python",
   "name": "python",
   "nbconvert_exporter": "python",
   "pygments_lexer": "ipython3",
   "version": "3.9.10"
  },
  "toc": {
   "base_numbering": 1,
   "nav_menu": {},
   "number_sections": true,
   "sideBar": true,
   "skip_h1_title": true,
   "title_cell": "Содержание",
   "title_sidebar": "Contents",
   "toc_cell": true,
   "toc_position": {
    "height": "calc(100% - 180px)",
    "left": "10px",
    "top": "150px",
    "width": "277.552px"
   },
   "toc_section_display": true,
   "toc_window_display": true
  }
 },
 "nbformat": 4,
 "nbformat_minor": 2
}
